{
 "cells": [
  {
   "cell_type": "code",
   "execution_count": 1,
   "id": "c633fd88",
   "metadata": {
    "execution": {
     "iopub.execute_input": "2022-12-08T13:46:51.429187Z",
     "iopub.status.busy": "2022-12-08T13:46:51.428256Z",
     "iopub.status.idle": "2022-12-08T13:46:51.469877Z",
     "shell.execute_reply": "2022-12-08T13:46:51.468971Z"
    },
    "id": "WRaQ7PRZR1vq",
    "papermill": {
     "duration": 0.096513,
     "end_time": "2022-12-08T13:46:51.472374",
     "exception": false,
     "start_time": "2022-12-08T13:46:51.375861",
     "status": "completed"
    },
    "tags": []
   },
   "outputs": [],
   "source": [
    "# load datasets from kaggle\n",
    "def get_data():\n",
    "    !mkdir /kaggle\n",
    "    !mkdir /kaggle/input\n",
    "    !pip install -q kaggle\n",
    "    from google.colab import files\n",
    "    files.upload()\n",
    "    !mkdir -p ~/.kaggle\n",
    "    !mv kaggle.json ~/.kaggle/\n",
    "    !chmod 600 /root/.kaggle/kaggle.json\n",
    "\n",
    "    !kaggle datasets download -d meraxes10/bd-models\n",
    "    !unzip bd-models.zip -d /kaggle/input/bd-models > /dev/null\n",
    "    !rm bd-models.zip    \n",
    "\n",
    "    !!kaggle datasets download -d azathoth42/myanimelist\n",
    "    !unzip myanimelist.zip -d /kaggle/input/myanimelist > /dev/null\n",
    "    !rm myanimelist.zip"
   ]
  },
  {
   "cell_type": "code",
   "execution_count": 2,
   "id": "c5759f44",
   "metadata": {
    "execution": {
     "iopub.execute_input": "2022-12-08T13:46:51.521335Z",
     "iopub.status.busy": "2022-12-08T13:46:51.521008Z",
     "iopub.status.idle": "2022-12-08T13:46:54.510245Z",
     "shell.execute_reply": "2022-12-08T13:46:54.508985Z"
    },
    "id": "x5r-cP7IZ13o",
    "papermill": {
     "duration": 3.016593,
     "end_time": "2022-12-08T13:46:54.512961",
     "exception": false,
     "start_time": "2022-12-08T13:46:51.496368",
     "status": "completed"
    },
    "tags": []
   },
   "outputs": [
    {
     "name": "stdout",
     "output_type": "stream",
     "text": [
      "--2022-12-08 13:46:52--  https://bin.equinox.io/c/4VmDzA7iaHb/ngrok-stable-linux-amd64.zip\r\n",
      "Resolving bin.equinox.io (bin.equinox.io)... 54.161.241.46, 54.237.133.81, 18.205.222.128, ...\r\n",
      "Connecting to bin.equinox.io (bin.equinox.io)|54.161.241.46|:443... connected.\r\n",
      "HTTP request sent, awaiting response... 200 OK\r\n",
      "Length: 13832437 (13M) [application/octet-stream]\r\n",
      "Saving to: ‘ngrok-stable-linux-amd64.zip’\r\n",
      "\r\n",
      "ngrok-stable-linux- 100%[===================>]  13.19M  35.9MB/s    in 0.4s    \r\n",
      "\r\n",
      "2022-12-08 13:46:53 (35.9 MB/s) - ‘ngrok-stable-linux-amd64.zip’ saved [13832437/13832437]\r\n",
      "\r\n",
      "Archive:  ngrok-stable-linux-amd64.zip\r\n",
      "  inflating: ngrok                   \r\n"
     ]
    }
   ],
   "source": [
    "!wget https://bin.equinox.io/c/4VmDzA7iaHb/ngrok-stable-linux-amd64.zip\n",
    "!unzip ngrok-stable-linux-amd64.zip"
   ]
  },
  {
   "cell_type": "code",
   "execution_count": 3,
   "id": "dd51c6e3",
   "metadata": {
    "execution": {
     "iopub.execute_input": "2022-12-08T13:46:54.566976Z",
     "iopub.status.busy": "2022-12-08T13:46:54.565806Z",
     "iopub.status.idle": "2022-12-08T13:46:54.572420Z",
     "shell.execute_reply": "2022-12-08T13:46:54.571492Z"
    },
    "id": "8H4Y69ikStL6",
    "papermill": {
     "duration": 0.03583,
     "end_time": "2022-12-08T13:46:54.574688",
     "exception": false,
     "start_time": "2022-12-08T13:46:54.538858",
     "status": "completed"
    },
    "tags": []
   },
   "outputs": [],
   "source": [
    "#get_data()"
   ]
  },
  {
   "cell_type": "code",
   "execution_count": 4,
   "id": "e7c6e454",
   "metadata": {
    "execution": {
     "iopub.execute_input": "2022-12-08T13:46:54.626251Z",
     "iopub.status.busy": "2022-12-08T13:46:54.625413Z",
     "iopub.status.idle": "2022-12-08T13:47:40.401632Z",
     "shell.execute_reply": "2022-12-08T13:47:40.400246Z"
    },
    "id": "NyOhZf-6RUWW",
    "papermill": {
     "duration": 45.804699,
     "end_time": "2022-12-08T13:47:40.404493",
     "exception": false,
     "start_time": "2022-12-08T13:46:54.599794",
     "status": "completed"
    },
    "tags": []
   },
   "outputs": [
    {
     "name": "stdout",
     "output_type": "stream",
     "text": [
      "\u001b[33mWARNING: Running pip as the 'root' user can result in broken permissions and conflicting behaviour with the system package manager. It is recommended to use a virtual environment instead: https://pip.pypa.io/warnings/venv\u001b[0m\u001b[33m\r\n",
      "\u001b[0m"
     ]
    }
   ],
   "source": [
    "!pip install pyspark > /dev/null"
   ]
  },
  {
   "cell_type": "code",
   "execution_count": 5,
   "id": "f50761e7",
   "metadata": {
    "execution": {
     "iopub.execute_input": "2022-12-08T13:47:40.460054Z",
     "iopub.status.busy": "2022-12-08T13:47:40.459627Z",
     "iopub.status.idle": "2022-12-08T13:47:40.522553Z",
     "shell.execute_reply": "2022-12-08T13:47:40.521475Z"
    },
    "id": "LDvpbfr7RUWa",
    "papermill": {
     "duration": 0.0941,
     "end_time": "2022-12-08T13:47:40.525597",
     "exception": false,
     "start_time": "2022-12-08T13:47:40.431497",
     "status": "completed"
    },
    "tags": []
   },
   "outputs": [],
   "source": [
    "import pyspark\n",
    "from pyspark.sql import SparkSession"
   ]
  },
  {
   "cell_type": "code",
   "execution_count": 6,
   "id": "b37a05e8",
   "metadata": {
    "execution": {
     "iopub.execute_input": "2022-12-08T13:47:40.581842Z",
     "iopub.status.busy": "2022-12-08T13:47:40.580755Z",
     "iopub.status.idle": "2022-12-08T13:47:40.587137Z",
     "shell.execute_reply": "2022-12-08T13:47:40.586103Z"
    },
    "id": "dSEeT7m8RUWe",
    "papermill": {
     "duration": 0.036862,
     "end_time": "2022-12-08T13:47:40.589467",
     "exception": false,
     "start_time": "2022-12-08T13:47:40.552605",
     "status": "completed"
    },
    "tags": []
   },
   "outputs": [],
   "source": [
    "from pyspark.sql.functions import *\n",
    "from pyspark.sql.types import *\n",
    "from pyspark.sql import Window"
   ]
  },
  {
   "cell_type": "code",
   "execution_count": 7,
   "id": "6b03f09a",
   "metadata": {
    "execution": {
     "iopub.execute_input": "2022-12-08T13:47:40.645197Z",
     "iopub.status.busy": "2022-12-08T13:47:40.644130Z",
     "iopub.status.idle": "2022-12-08T13:47:40.805561Z",
     "shell.execute_reply": "2022-12-08T13:47:40.804439Z"
    },
    "id": "N4h3qPuJRUWh",
    "papermill": {
     "duration": 0.192188,
     "end_time": "2022-12-08T13:47:40.808341",
     "exception": false,
     "start_time": "2022-12-08T13:47:40.616153",
     "status": "completed"
    },
    "tags": []
   },
   "outputs": [],
   "source": [
    "import pyspark.ml.feature\n",
    "from pyspark.ml.feature import StringIndexer, OneHotEncoder, VectorAssembler, CountVectorizer\n",
    "from pyspark.ml import Pipeline\n",
    "from pyspark.ml.evaluation import RegressionEvaluator\n",
    "from pyspark.ml.stat import Summarizer"
   ]
  },
  {
   "cell_type": "code",
   "execution_count": 8,
   "id": "637bdfcf",
   "metadata": {
    "execution": {
     "iopub.execute_input": "2022-12-08T13:47:40.863978Z",
     "iopub.status.busy": "2022-12-08T13:47:40.863575Z",
     "iopub.status.idle": "2022-12-08T13:47:40.868554Z",
     "shell.execute_reply": "2022-12-08T13:47:40.867463Z"
    },
    "id": "C7SkObpZRUWk",
    "papermill": {
     "duration": 0.035481,
     "end_time": "2022-12-08T13:47:40.870939",
     "exception": false,
     "start_time": "2022-12-08T13:47:40.835458",
     "status": "completed"
    },
    "tags": []
   },
   "outputs": [],
   "source": [
    "import numpy as np\n",
    "import re\n",
    "import gc\n",
    "import time"
   ]
  },
  {
   "cell_type": "code",
   "execution_count": 9,
   "id": "ade8fe9e",
   "metadata": {
    "execution": {
     "iopub.execute_input": "2022-12-08T13:47:40.927014Z",
     "iopub.status.busy": "2022-12-08T13:47:40.926295Z",
     "iopub.status.idle": "2022-12-08T13:47:40.931286Z",
     "shell.execute_reply": "2022-12-08T13:47:40.930210Z"
    },
    "id": "aLb4gS7XRUWn",
    "papermill": {
     "duration": 0.035755,
     "end_time": "2022-12-08T13:47:40.933848",
     "exception": false,
     "start_time": "2022-12-08T13:47:40.898093",
     "status": "completed"
    },
    "tags": []
   },
   "outputs": [],
   "source": [
    "SEED = 42"
   ]
  },
  {
   "cell_type": "code",
   "execution_count": 10,
   "id": "56d0a437",
   "metadata": {
    "execution": {
     "iopub.execute_input": "2022-12-08T13:47:40.989021Z",
     "iopub.status.busy": "2022-12-08T13:47:40.987879Z",
     "iopub.status.idle": "2022-12-08T13:47:40.993647Z",
     "shell.execute_reply": "2022-12-08T13:47:40.992292Z"
    },
    "id": "xVye_MqXRUWq",
    "papermill": {
     "duration": 0.034992,
     "end_time": "2022-12-08T13:47:40.995816",
     "exception": false,
     "start_time": "2022-12-08T13:47:40.960824",
     "status": "completed"
    },
    "tags": []
   },
   "outputs": [],
   "source": [
    "ROOT = '/kaggle/input/myanimelist/'"
   ]
  },
  {
   "cell_type": "code",
   "execution_count": 11,
   "id": "98f083c3",
   "metadata": {
    "execution": {
     "iopub.execute_input": "2022-12-08T13:47:41.050266Z",
     "iopub.status.busy": "2022-12-08T13:47:41.049147Z",
     "iopub.status.idle": "2022-12-08T13:47:41.054643Z",
     "shell.execute_reply": "2022-12-08T13:47:41.053697Z"
    },
    "id": "o-Ya0xT22BJ_",
    "papermill": {
     "duration": 0.035177,
     "end_time": "2022-12-08T13:47:41.056953",
     "exception": false,
     "start_time": "2022-12-08T13:47:41.021776",
     "status": "completed"
    },
    "tags": []
   },
   "outputs": [],
   "source": [
    "from pyspark import SparkContext, SparkConf\n",
    "from pyspark.sql import SQLContext"
   ]
  },
  {
   "cell_type": "code",
   "execution_count": 12,
   "id": "9e06ab4f",
   "metadata": {
    "execution": {
     "iopub.execute_input": "2022-12-08T13:47:41.113624Z",
     "iopub.status.busy": "2022-12-08T13:47:41.112430Z",
     "iopub.status.idle": "2022-12-08T13:47:48.049671Z",
     "shell.execute_reply": "2022-12-08T13:47:48.048476Z"
    },
    "id": "wg4e7WKxFjjd",
    "papermill": {
     "duration": 6.968638,
     "end_time": "2022-12-08T13:47:48.052725",
     "exception": false,
     "start_time": "2022-12-08T13:47:41.084087",
     "status": "completed"
    },
    "tags": []
   },
   "outputs": [
    {
     "name": "stderr",
     "output_type": "stream",
     "text": [
      "Setting default log level to \"WARN\".\n",
      "To adjust logging level use sc.setLogLevel(newLevel). For SparkR, use setLogLevel(newLevel).\n"
     ]
    },
    {
     "name": "stdout",
     "output_type": "stream",
     "text": [
      "22/12/08 13:47:45 WARN NativeCodeLoader: Unable to load native-hadoop library for your platform... using builtin-java classes where applicable\n"
     ]
    }
   ],
   "source": [
    "conf = SparkConf().set(\"spark.ui.port\", \"4050\") \\\n",
    "                  .set('spark.executor.memory', '9G') \\\n",
    "                  .set('spark.driver.memory', '7G') \\\n",
    "                  .set('spark.sql.autoBroadcastJoinThreshold', '-1')\n",
    "\n",
    "sc = pyspark.SparkContext(conf=conf)\n",
    "spark = SparkSession.builder.getOrCreate()"
   ]
  },
  {
   "cell_type": "code",
   "execution_count": 13,
   "id": "1df76464",
   "metadata": {
    "execution": {
     "iopub.execute_input": "2022-12-08T13:47:48.135819Z",
     "iopub.status.busy": "2022-12-08T13:47:48.135300Z",
     "iopub.status.idle": "2022-12-08T13:47:48.166633Z",
     "shell.execute_reply": "2022-12-08T13:47:48.165152Z"
    },
    "id": "31f_qrdcjuCm",
    "papermill": {
     "duration": 0.077898,
     "end_time": "2022-12-08T13:47:48.170232",
     "exception": false,
     "start_time": "2022-12-08T13:47:48.092334",
     "status": "completed"
    },
    "tags": []
   },
   "outputs": [],
   "source": [
    "get_ipython().system_raw('./ngrok http 4050 &')"
   ]
  },
  {
   "cell_type": "code",
   "execution_count": 14,
   "id": "315fe9d8",
   "metadata": {
    "execution": {
     "iopub.execute_input": "2022-12-08T13:47:48.333225Z",
     "iopub.status.busy": "2022-12-08T13:47:48.332661Z",
     "iopub.status.idle": "2022-12-08T13:47:49.673828Z",
     "shell.execute_reply": "2022-12-08T13:47:49.672535Z"
    },
    "id": "04RZsNmojxYc",
    "papermill": {
     "duration": 1.421659,
     "end_time": "2022-12-08T13:47:49.676758",
     "exception": false,
     "start_time": "2022-12-08T13:47:48.255099",
     "status": "completed"
    },
    "tags": []
   },
   "outputs": [
    {
     "name": "stdout",
     "output_type": "stream",
     "text": [
      "{\"tunnels\":[],\"uri\":\"/api/tunnels\"}\r\n"
     ]
    }
   ],
   "source": [
    "!curl -s http://localhost:4040/api/tunnels"
   ]
  },
  {
   "cell_type": "code",
   "execution_count": 15,
   "id": "1d73b3e4",
   "metadata": {
    "execution": {
     "iopub.execute_input": "2022-12-08T13:47:49.735808Z",
     "iopub.status.busy": "2022-12-08T13:47:49.735411Z",
     "iopub.status.idle": "2022-12-08T13:47:50.911258Z",
     "shell.execute_reply": "2022-12-08T13:47:50.909994Z"
    },
    "id": "r7LHSUUB2P9b",
    "papermill": {
     "duration": 1.210136,
     "end_time": "2022-12-08T13:47:50.914021",
     "exception": false,
     "start_time": "2022-12-08T13:47:49.703885",
     "status": "completed"
    },
    "tags": []
   },
   "outputs": [
    {
     "name": "stdout",
     "output_type": "stream",
     "text": [
      "http://82ea-34-28-1-148.ngrok.io\r\n"
     ]
    }
   ],
   "source": [
    "!curl -s http://localhost:4040/api/tunnels | python3 -c \"import sys, json; print(json.load(sys.stdin)['tunnels'][0]['public_url'])\""
   ]
  },
  {
   "cell_type": "markdown",
   "id": "3eef5430",
   "metadata": {
    "id": "A9Ul8Z47RUWw",
    "papermill": {
     "duration": 0.024709,
     "end_time": "2022-12-08T13:47:50.965156",
     "exception": false,
     "start_time": "2022-12-08T13:47:50.940447",
     "status": "completed"
    },
    "tags": []
   },
   "source": [
    "Anime data pre-processing"
   ]
  },
  {
   "cell_type": "code",
   "execution_count": 16,
   "id": "2329c669",
   "metadata": {
    "execution": {
     "iopub.execute_input": "2022-12-08T13:47:51.017700Z",
     "iopub.status.busy": "2022-12-08T13:47:51.017304Z",
     "iopub.status.idle": "2022-12-08T13:47:59.843803Z",
     "shell.execute_reply": "2022-12-08T13:47:59.842758Z"
    },
    "id": "XAf9qSovL5zP",
    "papermill": {
     "duration": 8.856821,
     "end_time": "2022-12-08T13:47:59.847151",
     "exception": false,
     "start_time": "2022-12-08T13:47:50.990330",
     "status": "completed"
    },
    "tags": []
   },
   "outputs": [
    {
     "name": "stderr",
     "output_type": "stream",
     "text": [
      "                                                                                \r"
     ]
    }
   ],
   "source": [
    "anime_df = spark.read.format(\"csv\").option(\"header\", \"true\") \\\n",
    "                                   .option(\"headers\", \"true\") \\\n",
    "                                   .option('escape','\"') \\\n",
    "                                   .option(\"inferSchema\", \"true\") \\\n",
    "                                   .load(ROOT + \"AnimeList.csv\", sep=',')"
   ]
  },
  {
   "cell_type": "code",
   "execution_count": 17,
   "id": "1f7527cf",
   "metadata": {
    "execution": {
     "iopub.execute_input": "2022-12-08T13:47:59.904680Z",
     "iopub.status.busy": "2022-12-08T13:47:59.904286Z",
     "iopub.status.idle": "2022-12-08T13:47:59.956156Z",
     "shell.execute_reply": "2022-12-08T13:47:59.955097Z"
    },
    "id": "TO_Y6dYDRUXH",
    "papermill": {
     "duration": 0.080936,
     "end_time": "2022-12-08T13:47:59.958555",
     "exception": false,
     "start_time": "2022-12-08T13:47:59.877619",
     "status": "completed"
    },
    "tags": []
   },
   "outputs": [],
   "source": [
    "cols = ['title', 'title_english', 'title_japanese', 'title_synonyms', 'image_url', 'aired_string', 'background',\n",
    "       'broadcast', 'related', 'opening_theme', 'ending_theme', 'studio']\n",
    "anime_df = anime_df.drop(*cols)"
   ]
  },
  {
   "cell_type": "code",
   "execution_count": 18,
   "id": "f3440507",
   "metadata": {
    "execution": {
     "iopub.execute_input": "2022-12-08T13:48:00.011882Z",
     "iopub.status.busy": "2022-12-08T13:48:00.010872Z",
     "iopub.status.idle": "2022-12-08T13:48:00.038778Z",
     "shell.execute_reply": "2022-12-08T13:48:00.037783Z"
    },
    "id": "eHhCz0in4HC0",
    "papermill": {
     "duration": 0.0566,
     "end_time": "2022-12-08T13:48:00.041752",
     "exception": false,
     "start_time": "2022-12-08T13:47:59.985152",
     "status": "completed"
    },
    "tags": []
   },
   "outputs": [],
   "source": [
    "cols = ['premiered', 'producer', 'licensor', 'rank']\n",
    "anime_df = anime_df.drop(*cols)"
   ]
  },
  {
   "cell_type": "code",
   "execution_count": 19,
   "id": "f15c2cfa",
   "metadata": {
    "execution": {
     "iopub.execute_input": "2022-12-08T13:48:00.099317Z",
     "iopub.status.busy": "2022-12-08T13:48:00.098987Z",
     "iopub.status.idle": "2022-12-08T13:48:00.122300Z",
     "shell.execute_reply": "2022-12-08T13:48:00.121041Z"
    },
    "id": "l6zBa_o2RUXJ",
    "papermill": {
     "duration": 0.052079,
     "end_time": "2022-12-08T13:48:00.125089",
     "exception": false,
     "start_time": "2022-12-08T13:48:00.073010",
     "status": "completed"
    },
    "tags": []
   },
   "outputs": [],
   "source": [
    "cols = ['aired', 'duration', 'airing']\n",
    "anime_df = anime_df.drop(*cols)"
   ]
  },
  {
   "cell_type": "code",
   "execution_count": 20,
   "id": "ffeb5e4f",
   "metadata": {
    "execution": {
     "iopub.execute_input": "2022-12-08T13:48:00.179790Z",
     "iopub.status.busy": "2022-12-08T13:48:00.179426Z",
     "iopub.status.idle": "2022-12-08T13:48:00.234542Z",
     "shell.execute_reply": "2022-12-08T13:48:00.233326Z"
    },
    "id": "_8SMEzONRUXM",
    "papermill": {
     "duration": 0.086885,
     "end_time": "2022-12-08T13:48:00.238264",
     "exception": false,
     "start_time": "2022-12-08T13:48:00.151379",
     "status": "completed"
    },
    "tags": []
   },
   "outputs": [],
   "source": [
    "anime_df = anime_df.fillna('', subset=['genre'])"
   ]
  },
  {
   "cell_type": "code",
   "execution_count": 21,
   "id": "09ca49e1",
   "metadata": {
    "execution": {
     "iopub.execute_input": "2022-12-08T13:48:00.295863Z",
     "iopub.status.busy": "2022-12-08T13:48:00.295506Z",
     "iopub.status.idle": "2022-12-08T13:48:00.374561Z",
     "shell.execute_reply": "2022-12-08T13:48:00.373163Z"
    },
    "id": "yQv-MW-RRUXQ",
    "papermill": {
     "duration": 0.109987,
     "end_time": "2022-12-08T13:48:00.377997",
     "exception": false,
     "start_time": "2022-12-08T13:48:00.268010",
     "status": "completed"
    },
    "tags": []
   },
   "outputs": [],
   "source": [
    "anime_df = anime_df.withColumn(\n",
    "    'genre',\n",
    "    split(regexp_replace('genre', ' ', ''), ',').cast(\"array<string>\").alias(\"genre\")\n",
    ")"
   ]
  },
  {
   "cell_type": "code",
   "execution_count": 22,
   "id": "10928c16",
   "metadata": {
    "execution": {
     "iopub.execute_input": "2022-12-08T13:48:00.437161Z",
     "iopub.status.busy": "2022-12-08T13:48:00.436107Z",
     "iopub.status.idle": "2022-12-08T13:48:00.623183Z",
     "shell.execute_reply": "2022-12-08T13:48:00.621886Z"
    },
    "id": "G505tcxVRUXU",
    "papermill": {
     "duration": 0.219061,
     "end_time": "2022-12-08T13:48:00.626370",
     "exception": false,
     "start_time": "2022-12-08T13:48:00.407309",
     "status": "completed"
    },
    "tags": []
   },
   "outputs": [],
   "source": [
    "anime_df = anime_df.withColumn(\"episodes\", anime_df.episodes.cast('float'))\n",
    "anime_df = anime_df.withColumn(\"score\", anime_df.score.cast('float'))\n",
    "anime_df = anime_df.withColumn(\"scored_by\", anime_df.scored_by.cast('float'))\n",
    "anime_df = anime_df.withColumn(\"popularity\", anime_df.popularity.cast('float'))\n",
    "anime_df = anime_df.withColumn(\"members\", anime_df.members.cast('float'))\n",
    "anime_df = anime_df.withColumn(\"favorites\", anime_df.favorites.cast('float'))"
   ]
  },
  {
   "cell_type": "code",
   "execution_count": 23,
   "id": "58d5b034",
   "metadata": {
    "execution": {
     "iopub.execute_input": "2022-12-08T13:48:00.680748Z",
     "iopub.status.busy": "2022-12-08T13:48:00.680339Z",
     "iopub.status.idle": "2022-12-08T13:48:01.290506Z",
     "shell.execute_reply": "2022-12-08T13:48:01.288013Z"
    },
    "id": "nL5aqyS69Elb",
    "papermill": {
     "duration": 0.640416,
     "end_time": "2022-12-08T13:48:01.295112",
     "exception": false,
     "start_time": "2022-12-08T13:48:00.654696",
     "status": "completed"
    },
    "tags": []
   },
   "outputs": [
    {
     "name": "stdout",
     "output_type": "stream",
     "text": [
      "+--------+----+--------+--------+---------------+--------------------+-----+---------+----------+--------+---------+--------------------+\n",
      "|anime_id|type|  source|episodes|         status|              rating|score|scored_by|popularity| members|favorites|               genre|\n",
      "+--------+----+--------+--------+---------------+--------------------+-----+---------+----------+--------+---------+--------------------+\n",
      "|   11013|  TV|   Manga|    12.0|Finished Airing|PG-13 - Teens 13 ...| 7.63| 139250.0|     231.0|283882.0|   2809.0|[Comedy, Supernat...|\n",
      "|    2104|  TV|   Manga|    26.0|Finished Airing|PG-13 - Teens 13 ...| 7.89|  91206.0|     366.0|204003.0|   2579.0|[Comedy, Parody, ...|\n",
      "|    5262|  TV|   Manga|    51.0|Finished Airing|       PG - Children| 7.55|  37129.0|    1173.0| 70127.0|    802.0|[Comedy, Magic, S...|\n",
      "|     721|  TV|Original|    38.0|Finished Airing|PG-13 - Teens 13 ...| 8.21|  36501.0|     916.0| 93312.0|   3344.0|[Comedy, Drama, M...|\n",
      "|   12365|  TV|   Manga|    25.0|Finished Airing|PG-13 - Teens 13 ...| 8.67| 107767.0|     426.0|182765.0|   2082.0|[Comedy, Drama, R...|\n",
      "+--------+----+--------+--------+---------------+--------------------+-----+---------+----------+--------+---------+--------------------+\n",
      "only showing top 5 rows\n",
      "\n"
     ]
    }
   ],
   "source": [
    "anime_df.show(5)"
   ]
  },
  {
   "cell_type": "code",
   "execution_count": 24,
   "id": "5220afcf",
   "metadata": {
    "execution": {
     "iopub.execute_input": "2022-12-08T13:48:01.353096Z",
     "iopub.status.busy": "2022-12-08T13:48:01.352669Z",
     "iopub.status.idle": "2022-12-08T13:48:03.832606Z",
     "shell.execute_reply": "2022-12-08T13:48:03.831420Z"
    },
    "id": "FTQUjUtDRUXZ",
    "papermill": {
     "duration": 2.520847,
     "end_time": "2022-12-08T13:48:03.844612",
     "exception": false,
     "start_time": "2022-12-08T13:48:01.323765",
     "status": "completed"
    },
    "tags": []
   },
   "outputs": [
    {
     "name": "stderr",
     "output_type": "stream",
     "text": [
      "                                                                                \r"
     ]
    }
   ],
   "source": [
    "anime_df = CountVectorizer(inputCol=\"genre\", outputCol=\"genre_fv\").fit(anime_df).transform(anime_df)\n",
    "anime_df = anime_df.drop('genre')"
   ]
  },
  {
   "cell_type": "code",
   "execution_count": 25,
   "id": "5a7956cb",
   "metadata": {
    "execution": {
     "iopub.execute_input": "2022-12-08T13:48:04.064548Z",
     "iopub.status.busy": "2022-12-08T13:48:04.058086Z",
     "iopub.status.idle": "2022-12-08T13:48:04.166943Z",
     "shell.execute_reply": "2022-12-08T13:48:04.165645Z"
    },
    "id": "LiWjL-W4RUXf",
    "papermill": {
     "duration": 0.209432,
     "end_time": "2022-12-08T13:48:04.170651",
     "exception": false,
     "start_time": "2022-12-08T13:48:03.961219",
     "status": "completed"
    },
    "tags": []
   },
   "outputs": [],
   "source": [
    "categoricalColumns = ['type', 'source', 'status', 'rating']\n",
    "stages = []\n",
    "for categoricalCol in categoricalColumns:\n",
    "    stringIndexer = StringIndexer(inputCol = categoricalCol, outputCol = categoricalCol + 'Index')\n",
    "    encoder = OneHotEncoder(inputCols=[stringIndexer.getOutputCol()], outputCols=[categoricalCol + \"classVec\"])\n",
    "    stages += [stringIndexer, encoder]"
   ]
  },
  {
   "cell_type": "code",
   "execution_count": 26,
   "id": "c8defbb0",
   "metadata": {
    "execution": {
     "iopub.execute_input": "2022-12-08T13:48:04.350268Z",
     "iopub.status.busy": "2022-12-08T13:48:04.349827Z",
     "iopub.status.idle": "2022-12-08T13:48:04.370508Z",
     "shell.execute_reply": "2022-12-08T13:48:04.369600Z"
    },
    "id": "q0LEZ8KqRUXi",
    "papermill": {
     "duration": 0.119755,
     "end_time": "2022-12-08T13:48:04.379801",
     "exception": false,
     "start_time": "2022-12-08T13:48:04.260046",
     "status": "completed"
    },
    "tags": []
   },
   "outputs": [],
   "source": [
    "numericCols = ['episodes', 'score', 'scored_by', 'popularity', 'members', 'favorites', 'genre_fv'] \n",
    "assemblerInputs = [c + \"classVec\" for c in categoricalColumns] + numericCols\n",
    "assembler = VectorAssembler(inputCols=assemblerInputs, outputCol=\"item_feats_profile\")\n",
    "stages += [assembler]"
   ]
  },
  {
   "cell_type": "code",
   "execution_count": 27,
   "id": "35318341",
   "metadata": {
    "execution": {
     "iopub.execute_input": "2022-12-08T13:48:04.553279Z",
     "iopub.status.busy": "2022-12-08T13:48:04.552715Z",
     "iopub.status.idle": "2022-12-08T13:48:04.743115Z",
     "shell.execute_reply": "2022-12-08T13:48:04.742003Z"
    },
    "id": "Kp2uNRVHRUXk",
    "papermill": {
     "duration": 0.276174,
     "end_time": "2022-12-08T13:48:04.745738",
     "exception": false,
     "start_time": "2022-12-08T13:48:04.469564",
     "status": "completed"
    },
    "tags": []
   },
   "outputs": [],
   "source": [
    "@udf(\"array<integer>\")\n",
    "def indices(v):\n",
    "    return v.indices.tolist()"
   ]
  },
  {
   "cell_type": "code",
   "execution_count": 28,
   "id": "52353d3c",
   "metadata": {
    "execution": {
     "iopub.execute_input": "2022-12-08T13:48:04.802380Z",
     "iopub.status.busy": "2022-12-08T13:48:04.802063Z",
     "iopub.status.idle": "2022-12-08T13:48:09.614151Z",
     "shell.execute_reply": "2022-12-08T13:48:09.612757Z"
    },
    "id": "pwAMgj_ORUXm",
    "papermill": {
     "duration": 4.844004,
     "end_time": "2022-12-08T13:48:09.617632",
     "exception": false,
     "start_time": "2022-12-08T13:48:04.773628",
     "status": "completed"
    },
    "tags": []
   },
   "outputs": [
    {
     "name": "stderr",
     "output_type": "stream",
     "text": [
      "                                                                                \r"
     ]
    }
   ],
   "source": [
    "pipeline = Pipeline(stages = stages)\n",
    "pipelineModel = pipeline.fit(anime_df)\n",
    "anime_df = pipelineModel.transform(anime_df)"
   ]
  },
  {
   "cell_type": "code",
   "execution_count": 29,
   "id": "254bd8bc",
   "metadata": {
    "execution": {
     "iopub.execute_input": "2022-12-08T13:48:09.694758Z",
     "iopub.status.busy": "2022-12-08T13:48:09.694223Z",
     "iopub.status.idle": "2022-12-08T13:48:09.717089Z",
     "shell.execute_reply": "2022-12-08T13:48:09.716008Z"
    },
    "id": "QDR9jxVeRUXo",
    "papermill": {
     "duration": 0.064842,
     "end_time": "2022-12-08T13:48:09.720430",
     "exception": false,
     "start_time": "2022-12-08T13:48:09.655588",
     "status": "completed"
    },
    "tags": []
   },
   "outputs": [],
   "source": [
    "selectedCols = ['anime_id', 'item_feats_profile']\n",
    "anime_df = anime_df.select(selectedCols)"
   ]
  },
  {
   "cell_type": "code",
   "execution_count": 30,
   "id": "810c9359",
   "metadata": {
    "execution": {
     "iopub.execute_input": "2022-12-08T13:48:09.800753Z",
     "iopub.status.busy": "2022-12-08T13:48:09.800322Z",
     "iopub.status.idle": "2022-12-08T13:48:10.791114Z",
     "shell.execute_reply": "2022-12-08T13:48:10.789834Z"
    },
    "id": "R8oXNBBN8_1n",
    "papermill": {
     "duration": 1.034658,
     "end_time": "2022-12-08T13:48:10.794736",
     "exception": false,
     "start_time": "2022-12-08T13:48:09.760078",
     "status": "completed"
    },
    "tags": []
   },
   "outputs": [
    {
     "name": "stdout",
     "output_type": "stream",
     "text": [
      "+--------+--------------------+\n",
      "|anime_id|  item_feats_profile|\n",
      "+--------+--------------------+\n",
      "|   11013|(79,[0,8,21,23,29...|\n",
      "|    2104|(79,[0,8,21,23,29...|\n",
      "|    5262|(79,[0,8,21,25,29...|\n",
      "|     721|(79,[0,7,21,23,29...|\n",
      "|   12365|(79,[0,8,21,23,29...|\n",
      "+--------+--------------------+\n",
      "only showing top 5 rows\n",
      "\n"
     ]
    }
   ],
   "source": [
    "anime_df.show(5)"
   ]
  },
  {
   "cell_type": "markdown",
   "id": "48a12c42",
   "metadata": {
    "id": "2uKaVzw2RUX3",
    "papermill": {
     "duration": 0.038375,
     "end_time": "2022-12-08T13:48:10.878477",
     "exception": false,
     "start_time": "2022-12-08T13:48:10.840102",
     "status": "completed"
    },
    "tags": []
   },
   "source": [
    "User data pre-processing"
   ]
  },
  {
   "cell_type": "code",
   "execution_count": 31,
   "id": "29d28bb9",
   "metadata": {
    "execution": {
     "iopub.execute_input": "2022-12-08T13:48:10.958266Z",
     "iopub.status.busy": "2022-12-08T13:48:10.957660Z",
     "iopub.status.idle": "2022-12-08T13:48:13.878440Z",
     "shell.execute_reply": "2022-12-08T13:48:13.877160Z"
    },
    "id": "Vp2wAD3N6re6",
    "papermill": {
     "duration": 2.9649,
     "end_time": "2022-12-08T13:48:13.881456",
     "exception": false,
     "start_time": "2022-12-08T13:48:10.916556",
     "status": "completed"
    },
    "tags": []
   },
   "outputs": [
    {
     "name": "stderr",
     "output_type": "stream",
     "text": [
      "                                                                                \r"
     ]
    }
   ],
   "source": [
    "user_df = spark.read.format(\"csv\").option(\"header\", \"true\") \\\n",
    "                                   .option(\"headers\", \"true\") \\\n",
    "                                   .option('escape','\"') \\\n",
    "                                   .option(\"inferSchema\", \"true\") \\\n",
    "                                   .load(ROOT + \"UserList.csv\", sep=',')"
   ]
  },
  {
   "cell_type": "code",
   "execution_count": 32,
   "id": "8dce6d9a",
   "metadata": {
    "execution": {
     "iopub.execute_input": "2022-12-08T13:48:13.951637Z",
     "iopub.status.busy": "2022-12-08T13:48:13.951209Z",
     "iopub.status.idle": "2022-12-08T13:48:13.975595Z",
     "shell.execute_reply": "2022-12-08T13:48:13.974454Z"
    },
    "id": "B4V9bDJARUYL",
    "papermill": {
     "duration": 0.056537,
     "end_time": "2022-12-08T13:48:13.979144",
     "exception": false,
     "start_time": "2022-12-08T13:48:13.922607",
     "status": "completed"
    },
    "tags": []
   },
   "outputs": [],
   "source": [
    "user_df = user_df.filter(col('username').isNotNull())\n",
    "user_df = user_df.filter(col('stats_episodes').isNotNull())"
   ]
  },
  {
   "cell_type": "code",
   "execution_count": 33,
   "id": "1f416fac",
   "metadata": {
    "execution": {
     "iopub.execute_input": "2022-12-08T13:48:14.055333Z",
     "iopub.status.busy": "2022-12-08T13:48:14.054966Z",
     "iopub.status.idle": "2022-12-08T13:48:14.068588Z",
     "shell.execute_reply": "2022-12-08T13:48:14.067454Z"
    },
    "id": "T0knl_OuRUYN",
    "papermill": {
     "duration": 0.054209,
     "end_time": "2022-12-08T13:48:14.071816",
     "exception": false,
     "start_time": "2022-12-08T13:48:14.017607",
     "status": "completed"
    },
    "tags": []
   },
   "outputs": [],
   "source": [
    "cols = ['location', 'access_rank', 'stats_mean_score', 'birth_date', 'gender']\n",
    "user_df = user_df.drop(*cols)"
   ]
  },
  {
   "cell_type": "code",
   "execution_count": 34,
   "id": "490488a5",
   "metadata": {
    "execution": {
     "iopub.execute_input": "2022-12-08T13:48:14.152289Z",
     "iopub.status.busy": "2022-12-08T13:48:14.151850Z",
     "iopub.status.idle": "2022-12-08T13:48:14.164635Z",
     "shell.execute_reply": "2022-12-08T13:48:14.163479Z"
    },
    "id": "LTrrb48I8OAe",
    "papermill": {
     "duration": 0.055276,
     "end_time": "2022-12-08T13:48:14.167700",
     "exception": false,
     "start_time": "2022-12-08T13:48:14.112424",
     "status": "completed"
    },
    "tags": []
   },
   "outputs": [],
   "source": [
    "cols = ['join_date', 'last_online']\n",
    "user_df = user_df.drop(*cols)"
   ]
  },
  {
   "cell_type": "code",
   "execution_count": 35,
   "id": "d93eedaa",
   "metadata": {
    "execution": {
     "iopub.execute_input": "2022-12-08T13:48:14.248895Z",
     "iopub.status.busy": "2022-12-08T13:48:14.248483Z",
     "iopub.status.idle": "2022-12-08T13:48:14.510947Z",
     "shell.execute_reply": "2022-12-08T13:48:14.509575Z"
    },
    "id": "OG9cHNizRUYY",
    "papermill": {
     "duration": 0.305381,
     "end_time": "2022-12-08T13:48:14.514251",
     "exception": false,
     "start_time": "2022-12-08T13:48:14.208870",
     "status": "completed"
    },
    "tags": []
   },
   "outputs": [],
   "source": [
    "user_df = user_df.withColumn(\"user_id\", user_df.user_id.cast('float'))\n",
    "user_df = user_df.withColumn(\"user_watching\", user_df.user_watching.cast('float'))\n",
    "user_df = user_df.withColumn(\"user_completed\", user_df.user_completed.cast('float'))\n",
    "user_df = user_df.withColumn(\"user_onhold\", user_df.user_onhold.cast('float'))\n",
    "user_df = user_df.withColumn(\"user_dropped\", user_df.user_dropped.cast('float'))\n",
    "user_df = user_df.withColumn(\"user_plantowatch\", user_df.user_plantowatch.cast('float'))\n",
    "user_df = user_df.withColumn(\"user_days_spent_watching\", user_df.user_days_spent_watching.cast('float'))\n",
    "user_df = user_df.withColumn(\"stats_rewatched\", user_df.stats_rewatched.cast('float'))\n",
    "user_df = user_df.withColumn(\"stats_episodes\", user_df.stats_episodes.cast('float'))"
   ]
  },
  {
   "cell_type": "code",
   "execution_count": 36,
   "id": "b4966608",
   "metadata": {
    "execution": {
     "iopub.execute_input": "2022-12-08T13:48:14.605854Z",
     "iopub.status.busy": "2022-12-08T13:48:14.605484Z",
     "iopub.status.idle": "2022-12-08T13:48:14.847540Z",
     "shell.execute_reply": "2022-12-08T13:48:14.845565Z"
    },
    "id": "77NADHmk9KrO",
    "papermill": {
     "duration": 0.272817,
     "end_time": "2022-12-08T13:48:14.851273",
     "exception": false,
     "start_time": "2022-12-08T13:48:14.578456",
     "status": "completed"
    },
    "tags": []
   },
   "outputs": [
    {
     "name": "stdout",
     "output_type": "stream",
     "text": [
      "+----------------+---------+-------------+--------------+-----------+------------+----------------+------------------------+---------------+--------------+\n",
      "|        username|  user_id|user_watching|user_completed|user_onhold|user_dropped|user_plantowatch|user_days_spent_watching|stats_rewatched|stats_episodes|\n",
      "+----------------+---------+-------------+--------------+-----------+------------+----------------+------------------------+---------------+--------------+\n",
      "|        karthiga|2255153.0|          3.0|          49.0|        1.0|         0.0|             0.0|                   55.31|            0.0|        3391.0|\n",
      "|RedvelvetDaisuki|1897606.0|         61.0|         396.0|       39.0|         0.0|           206.0|                  118.07|           80.0|        7094.0|\n",
      "|       Damonashu|  37326.0|         45.0|         195.0|       27.0|        25.0|            59.0|                    83.7|            6.0|        4936.0|\n",
      "|           bskai| 228342.0|         25.0|         414.0|        2.0|         5.0|            11.0|                  167.16|            1.0|       10081.0|\n",
      "|       shuzzable|2347781.0|         36.0|          72.0|       16.0|         2.0|            25.0|                   35.48|            7.0|        2154.0|\n",
      "+----------------+---------+-------------+--------------+-----------+------------+----------------+------------------------+---------------+--------------+\n",
      "only showing top 5 rows\n",
      "\n"
     ]
    }
   ],
   "source": [
    "user_df.show(5)"
   ]
  },
  {
   "cell_type": "code",
   "execution_count": 37,
   "id": "17e31464",
   "metadata": {
    "execution": {
     "iopub.execute_input": "2022-12-08T13:48:14.936075Z",
     "iopub.status.busy": "2022-12-08T13:48:14.935572Z",
     "iopub.status.idle": "2022-12-08T13:48:14.948070Z",
     "shell.execute_reply": "2022-12-08T13:48:14.947115Z"
    },
    "id": "Dy4BhLKBRUYa",
    "papermill": {
     "duration": 0.056916,
     "end_time": "2022-12-08T13:48:14.950568",
     "exception": false,
     "start_time": "2022-12-08T13:48:14.893652",
     "status": "completed"
    },
    "tags": []
   },
   "outputs": [],
   "source": [
    "cols = ['user_watching', 'user_completed', 'user_onhold', 'user_dropped', 'user_plantowatch', 'user_days_spent_watching', \n",
    "        'stats_rewatched', 'stats_episodes']\n",
    "assembler = VectorAssembler(inputCols=cols, outputCol=\"user_feats_profile\")\n",
    "stages = [assembler]"
   ]
  },
  {
   "cell_type": "code",
   "execution_count": 38,
   "id": "243b51b9",
   "metadata": {
    "execution": {
     "iopub.execute_input": "2022-12-08T13:48:15.028719Z",
     "iopub.status.busy": "2022-12-08T13:48:15.028266Z",
     "iopub.status.idle": "2022-12-08T13:48:15.131299Z",
     "shell.execute_reply": "2022-12-08T13:48:15.130185Z"
    },
    "id": "jovXY7GZRUYd",
    "papermill": {
     "duration": 0.145877,
     "end_time": "2022-12-08T13:48:15.134612",
     "exception": false,
     "start_time": "2022-12-08T13:48:14.988735",
     "status": "completed"
    },
    "tags": []
   },
   "outputs": [],
   "source": [
    "pipeline = Pipeline(stages = stages)\n",
    "pipelineModel = pipeline.fit(user_df)\n",
    "user_df = pipelineModel.transform(user_df)"
   ]
  },
  {
   "cell_type": "code",
   "execution_count": 39,
   "id": "5ff36e0d",
   "metadata": {
    "execution": {
     "iopub.execute_input": "2022-12-08T13:48:15.211915Z",
     "iopub.status.busy": "2022-12-08T13:48:15.211549Z",
     "iopub.status.idle": "2022-12-08T13:48:15.233553Z",
     "shell.execute_reply": "2022-12-08T13:48:15.232350Z"
    },
    "id": "mHTaktbBRUYf",
    "papermill": {
     "duration": 0.06321,
     "end_time": "2022-12-08T13:48:15.236868",
     "exception": false,
     "start_time": "2022-12-08T13:48:15.173658",
     "status": "completed"
    },
    "tags": []
   },
   "outputs": [],
   "source": [
    "selectedCols = ['username', 'user_id', 'user_feats_profile']\n",
    "user_df = user_df.select(selectedCols)"
   ]
  },
  {
   "cell_type": "code",
   "execution_count": 40,
   "id": "8658bd58",
   "metadata": {
    "execution": {
     "iopub.execute_input": "2022-12-08T13:48:15.314868Z",
     "iopub.status.busy": "2022-12-08T13:48:15.314408Z",
     "iopub.status.idle": "2022-12-08T13:48:15.558590Z",
     "shell.execute_reply": "2022-12-08T13:48:15.557355Z"
    },
    "id": "oohYkuHu9Xjb",
    "papermill": {
     "duration": 0.286281,
     "end_time": "2022-12-08T13:48:15.561995",
     "exception": false,
     "start_time": "2022-12-08T13:48:15.275714",
     "status": "completed"
    },
    "tags": []
   },
   "outputs": [
    {
     "name": "stdout",
     "output_type": "stream",
     "text": [
      "+----------------+---------+--------------------+\n",
      "|        username|  user_id|  user_feats_profile|\n",
      "+----------------+---------+--------------------+\n",
      "|        karthiga|2255153.0|[3.0,49.0,1.0,0.0...|\n",
      "|RedvelvetDaisuki|1897606.0|[61.0,396.0,39.0,...|\n",
      "|       Damonashu|  37326.0|[45.0,195.0,27.0,...|\n",
      "|           bskai| 228342.0|[25.0,414.0,2.0,5...|\n",
      "|       shuzzable|2347781.0|[36.0,72.0,16.0,2...|\n",
      "+----------------+---------+--------------------+\n",
      "only showing top 5 rows\n",
      "\n"
     ]
    }
   ],
   "source": [
    "user_df.show(5)"
   ]
  },
  {
   "cell_type": "markdown",
   "id": "b7675614",
   "metadata": {
    "id": "Mfb7EXt_RUY1",
    "papermill": {
     "duration": 0.040981,
     "end_time": "2022-12-08T13:48:15.641555",
     "exception": false,
     "start_time": "2022-12-08T13:48:15.600574",
     "status": "completed"
    },
    "tags": []
   },
   "source": [
    "User-anime data pre-processing"
   ]
  },
  {
   "cell_type": "code",
   "execution_count": 41,
   "id": "9a8bd8d3",
   "metadata": {
    "execution": {
     "iopub.execute_input": "2022-12-08T13:48:15.725374Z",
     "iopub.status.busy": "2022-12-08T13:48:15.724842Z",
     "iopub.status.idle": "2022-12-08T13:48:15.950137Z",
     "shell.execute_reply": "2022-12-08T13:48:15.949022Z"
    },
    "id": "stEu4cBNRUY1",
    "papermill": {
     "duration": 0.271675,
     "end_time": "2022-12-08T13:48:15.953738",
     "exception": false,
     "start_time": "2022-12-08T13:48:15.682063",
     "status": "completed"
    },
    "tags": []
   },
   "outputs": [],
   "source": [
    "user_anime_df = spark.read.format(\"csv\").option(\"header\", \"true\").load(ROOT + \"UserAnimeList.csv\")"
   ]
  },
  {
   "cell_type": "code",
   "execution_count": 42,
   "id": "e693df2b",
   "metadata": {
    "execution": {
     "iopub.execute_input": "2022-12-08T13:48:16.033176Z",
     "iopub.status.busy": "2022-12-08T13:48:16.032692Z",
     "iopub.status.idle": "2022-12-08T13:48:16.050475Z",
     "shell.execute_reply": "2022-12-08T13:48:16.049433Z"
    },
    "id": "taLJe1pERUY3",
    "papermill": {
     "duration": 0.061099,
     "end_time": "2022-12-08T13:48:16.053964",
     "exception": false,
     "start_time": "2022-12-08T13:48:15.992865",
     "status": "completed"
    },
    "tags": []
   },
   "outputs": [],
   "source": [
    "cols = ['my_watched_episodes', 'my_start_date', 'my_finish_date', 'my_status', 'my_rewatching', \n",
    "        'my_rewatching_ep', 'my_last_updated', 'my_tags']\n",
    "user_anime_df = user_anime_df.drop(*cols)"
   ]
  },
  {
   "cell_type": "code",
   "execution_count": 43,
   "id": "07af4987",
   "metadata": {
    "execution": {
     "iopub.execute_input": "2022-12-08T13:48:16.136964Z",
     "iopub.status.busy": "2022-12-08T13:48:16.136482Z",
     "iopub.status.idle": "2022-12-08T13:48:16.160134Z",
     "shell.execute_reply": "2022-12-08T13:48:16.159094Z"
    },
    "id": "Q2WllKVVRUY4",
    "papermill": {
     "duration": 0.067349,
     "end_time": "2022-12-08T13:48:16.162705",
     "exception": false,
     "start_time": "2022-12-08T13:48:16.095356",
     "status": "completed"
    },
    "tags": []
   },
   "outputs": [],
   "source": [
    "user_anime_df = user_anime_df.withColumn(\"anime_id\", user_anime_df.anime_id.cast('float'))\n",
    "user_anime_df = user_anime_df.withColumn(\"my_score\", user_anime_df.my_score.cast('float'))"
   ]
  },
  {
   "cell_type": "code",
   "execution_count": 44,
   "id": "7721f568",
   "metadata": {
    "execution": {
     "iopub.execute_input": "2022-12-08T13:48:16.242547Z",
     "iopub.status.busy": "2022-12-08T13:48:16.242084Z",
     "iopub.status.idle": "2022-12-08T13:48:16.259745Z",
     "shell.execute_reply": "2022-12-08T13:48:16.258615Z"
    },
    "id": "5Sg0oRrwRUY6",
    "papermill": {
     "duration": 0.060564,
     "end_time": "2022-12-08T13:48:16.262507",
     "exception": false,
     "start_time": "2022-12-08T13:48:16.201943",
     "status": "completed"
    },
    "tags": []
   },
   "outputs": [],
   "source": [
    "user_anime_df = user_anime_df.na.drop()"
   ]
  },
  {
   "cell_type": "code",
   "execution_count": 45,
   "id": "dcd02be9",
   "metadata": {
    "execution": {
     "iopub.execute_input": "2022-12-08T13:48:16.344450Z",
     "iopub.status.busy": "2022-12-08T13:48:16.343974Z",
     "iopub.status.idle": "2022-12-08T13:48:16.367107Z",
     "shell.execute_reply": "2022-12-08T13:48:16.365938Z"
    },
    "id": "18ZVujfYVV8K",
    "papermill": {
     "duration": 0.067774,
     "end_time": "2022-12-08T13:48:16.370303",
     "exception": false,
     "start_time": "2022-12-08T13:48:16.302529",
     "status": "completed"
    },
    "tags": []
   },
   "outputs": [],
   "source": [
    "user_anime_df = user_anime_df.filter(user_anime_df.my_score <= 10)"
   ]
  },
  {
   "cell_type": "code",
   "execution_count": 46,
   "id": "59994852",
   "metadata": {
    "execution": {
     "iopub.execute_input": "2022-12-08T13:48:16.460898Z",
     "iopub.status.busy": "2022-12-08T13:48:16.460447Z",
     "iopub.status.idle": "2022-12-08T13:48:16.474883Z",
     "shell.execute_reply": "2022-12-08T13:48:16.473660Z"
    },
    "id": "Q6vGHUs4hdDh",
    "papermill": {
     "duration": 0.058635,
     "end_time": "2022-12-08T13:48:16.477689",
     "exception": false,
     "start_time": "2022-12-08T13:48:16.419054",
     "status": "completed"
    },
    "tags": []
   },
   "outputs": [],
   "source": [
    "user_anime_df = user_anime_df.filter(user_anime_df.my_score != 0)"
   ]
  },
  {
   "cell_type": "code",
   "execution_count": 47,
   "id": "9da8717d",
   "metadata": {
    "execution": {
     "iopub.execute_input": "2022-12-08T13:48:16.558465Z",
     "iopub.status.busy": "2022-12-08T13:48:16.557988Z",
     "iopub.status.idle": "2022-12-08T13:48:16.735293Z",
     "shell.execute_reply": "2022-12-08T13:48:16.734019Z"
    },
    "id": "YfYpqxd79edw",
    "papermill": {
     "duration": 0.221982,
     "end_time": "2022-12-08T13:48:16.740218",
     "exception": false,
     "start_time": "2022-12-08T13:48:16.518236",
     "status": "completed"
    },
    "tags": []
   },
   "outputs": [
    {
     "name": "stdout",
     "output_type": "stream",
     "text": [
      "+--------+--------+--------+\n",
      "|username|anime_id|my_score|\n",
      "+--------+--------+--------+\n",
      "|karthiga|    21.0|     9.0|\n",
      "|karthiga|    59.0|     7.0|\n",
      "|karthiga|    74.0|     7.0|\n",
      "|karthiga|   120.0|     7.0|\n",
      "|karthiga|   178.0|     7.0|\n",
      "+--------+--------+--------+\n",
      "only showing top 5 rows\n",
      "\n"
     ]
    }
   ],
   "source": [
    "user_anime_df.show(5)"
   ]
  },
  {
   "cell_type": "code",
   "execution_count": 48,
   "id": "fc2ce341",
   "metadata": {
    "execution": {
     "iopub.execute_input": "2022-12-08T13:48:16.823089Z",
     "iopub.status.busy": "2022-12-08T13:48:16.822580Z",
     "iopub.status.idle": "2022-12-08T13:48:16.858815Z",
     "shell.execute_reply": "2022-12-08T13:48:16.857613Z"
    },
    "id": "aERySebkRUZE",
    "papermill": {
     "duration": 0.080671,
     "end_time": "2022-12-08T13:48:16.861977",
     "exception": false,
     "start_time": "2022-12-08T13:48:16.781306",
     "status": "completed"
    },
    "tags": []
   },
   "outputs": [],
   "source": [
    "user_anime_df = user_anime_df.join(user_df, 'username', how='left')"
   ]
  },
  {
   "cell_type": "code",
   "execution_count": 49,
   "id": "17051d15",
   "metadata": {
    "execution": {
     "iopub.execute_input": "2022-12-08T13:48:16.946131Z",
     "iopub.status.busy": "2022-12-08T13:48:16.945565Z",
     "iopub.status.idle": "2022-12-08T13:48:16.956786Z",
     "shell.execute_reply": "2022-12-08T13:48:16.955714Z"
    },
    "id": "YLpjK-O4RUZF",
    "papermill": {
     "duration": 0.056277,
     "end_time": "2022-12-08T13:48:16.959500",
     "exception": false,
     "start_time": "2022-12-08T13:48:16.903223",
     "status": "completed"
    },
    "tags": []
   },
   "outputs": [],
   "source": [
    "user_anime_df = user_anime_df.drop('username')"
   ]
  },
  {
   "cell_type": "code",
   "execution_count": 50,
   "id": "394fc364",
   "metadata": {
    "execution": {
     "iopub.execute_input": "2022-12-08T13:48:17.043195Z",
     "iopub.status.busy": "2022-12-08T13:48:17.042655Z",
     "iopub.status.idle": "2022-12-08T13:48:17.076071Z",
     "shell.execute_reply": "2022-12-08T13:48:17.074896Z"
    },
    "id": "EEYPlcGZRUZG",
    "papermill": {
     "duration": 0.077959,
     "end_time": "2022-12-08T13:48:17.079271",
     "exception": false,
     "start_time": "2022-12-08T13:48:17.001312",
     "status": "completed"
    },
    "tags": []
   },
   "outputs": [],
   "source": [
    "user_anime_df = user_anime_df.join(anime_df, 'anime_id', how='left')"
   ]
  },
  {
   "cell_type": "code",
   "execution_count": 51,
   "id": "4ca3ed3d",
   "metadata": {
    "execution": {
     "iopub.execute_input": "2022-12-08T13:48:17.164702Z",
     "iopub.status.busy": "2022-12-08T13:48:17.164175Z",
     "iopub.status.idle": "2022-12-08T13:48:17.187063Z",
     "shell.execute_reply": "2022-12-08T13:48:17.185975Z"
    },
    "id": "pBmMMTpPRUZJ",
    "papermill": {
     "duration": 0.069029,
     "end_time": "2022-12-08T13:48:17.190159",
     "exception": false,
     "start_time": "2022-12-08T13:48:17.121130",
     "status": "completed"
    },
    "tags": []
   },
   "outputs": [],
   "source": [
    "user_anime_df = user_anime_df.na.drop()"
   ]
  },
  {
   "cell_type": "code",
   "execution_count": 52,
   "id": "2ad8eef0",
   "metadata": {
    "execution": {
     "iopub.execute_input": "2022-12-08T13:48:17.271498Z",
     "iopub.status.busy": "2022-12-08T13:48:17.271065Z",
     "iopub.status.idle": "2022-12-08T13:48:17.281786Z",
     "shell.execute_reply": "2022-12-08T13:48:17.280838Z"
    },
    "id": "SVaZtu0AU295",
    "papermill": {
     "duration": 0.052985,
     "end_time": "2022-12-08T13:48:17.284214",
     "exception": false,
     "start_time": "2022-12-08T13:48:17.231229",
     "status": "completed"
    },
    "tags": []
   },
   "outputs": [],
   "source": [
    "assembler = VectorAssembler(inputCols=[\"user_feats_profile\", \"item_feats_profile\"], outputCol=\"features\")"
   ]
  },
  {
   "cell_type": "code",
   "execution_count": 53,
   "id": "12feed5b",
   "metadata": {
    "execution": {
     "iopub.execute_input": "2022-12-08T13:48:17.361493Z",
     "iopub.status.busy": "2022-12-08T13:48:17.361038Z",
     "iopub.status.idle": "2022-12-08T13:48:17.431424Z",
     "shell.execute_reply": "2022-12-08T13:48:17.430391Z"
    },
    "id": "UJZMJ834U6Q5",
    "papermill": {
     "duration": 0.113177,
     "end_time": "2022-12-08T13:48:17.434694",
     "exception": false,
     "start_time": "2022-12-08T13:48:17.321517",
     "status": "completed"
    },
    "tags": []
   },
   "outputs": [],
   "source": [
    "user_anime_df = assembler.transform(user_anime_df)"
   ]
  },
  {
   "cell_type": "code",
   "execution_count": 54,
   "id": "21bc7aec",
   "metadata": {
    "execution": {
     "iopub.execute_input": "2022-12-08T13:48:17.512434Z",
     "iopub.status.busy": "2022-12-08T13:48:17.511885Z",
     "iopub.status.idle": "2022-12-08T13:52:11.848432Z",
     "shell.execute_reply": "2022-12-08T13:52:11.846632Z"
    },
    "id": "hABWSu0p9keI",
    "papermill": {
     "duration": 234.382537,
     "end_time": "2022-12-08T13:52:11.855812",
     "exception": false,
     "start_time": "2022-12-08T13:48:17.473275",
     "status": "completed"
    },
    "tags": []
   },
   "outputs": [
    {
     "name": "stderr",
     "output_type": "stream",
     "text": [
      "[Stage 36:>                                                         (0 + 1) / 1]\r"
     ]
    },
    {
     "name": "stdout",
     "output_type": "stream",
     "text": [
      "+--------+--------+--------+--------------------+--------------------+--------------------+\n",
      "|anime_id|my_score| user_id|  user_feats_profile|  item_feats_profile|            features|\n",
      "+--------+--------+--------+--------------------+--------------------+--------------------+\n",
      "|     5.0|     7.0|641117.0|[8.0,626.0,1.0,5....|(79,[2,7,21,27,29...|(87,[0,1,2,3,4,5,...|\n",
      "|     5.0|    10.0|334191.0|[2.0,32.0,0.0,0.0...|(79,[2,7,21,27,29...|(87,[0,1,4,5,7,10...|\n",
      "|     5.0|     8.0|181006.0|[12.0,103.0,8.0,0...|(79,[2,7,21,27,29...|(87,[0,1,2,4,5,7,...|\n",
      "|     5.0|     9.0|535783.0|(8,[1,5,7],[250.0...|(79,[2,7,21,27,29...|(87,[1,5,7,10,15,...|\n",
      "|     5.0|     8.0|487361.0|[7.0,682.0,3.0,22...|(79,[2,7,21,27,29...|(87,[0,1,2,3,4,5,...|\n",
      "+--------+--------+--------+--------------------+--------------------+--------------------+\n",
      "only showing top 5 rows\n",
      "\n"
     ]
    },
    {
     "name": "stderr",
     "output_type": "stream",
     "text": [
      "                                                                                \r"
     ]
    }
   ],
   "source": [
    "user_anime_df.show(5)"
   ]
  },
  {
   "cell_type": "markdown",
   "id": "e1c8e5c6",
   "metadata": {
    "id": "_jDTFilcRUZK",
    "papermill": {
     "duration": 0.044093,
     "end_time": "2022-12-08T13:52:11.944805",
     "exception": false,
     "start_time": "2022-12-08T13:52:11.900712",
     "status": "completed"
    },
    "tags": []
   },
   "source": [
    "Split training, oof, test"
   ]
  },
  {
   "cell_type": "code",
   "execution_count": 55,
   "id": "f1973a5e",
   "metadata": {
    "execution": {
     "iopub.execute_input": "2022-12-08T13:52:12.033437Z",
     "iopub.status.busy": "2022-12-08T13:52:12.032847Z",
     "iopub.status.idle": "2022-12-08T13:52:12.062371Z",
     "shell.execute_reply": "2022-12-08T13:52:12.061026Z"
    },
    "id": "FvxBhP7vRUZK",
    "papermill": {
     "duration": 0.076898,
     "end_time": "2022-12-08T13:52:12.065659",
     "exception": false,
     "start_time": "2022-12-08T13:52:11.988761",
     "status": "completed"
    },
    "tags": []
   },
   "outputs": [],
   "source": [
    "(training, test) = user_anime_df.randomSplit([0.8, 0.2], seed=SEED)"
   ]
  },
  {
   "cell_type": "code",
   "execution_count": 56,
   "id": "24a89094",
   "metadata": {
    "execution": {
     "iopub.execute_input": "2022-12-08T13:52:12.139508Z",
     "iopub.status.busy": "2022-12-08T13:52:12.139041Z",
     "iopub.status.idle": "2022-12-08T13:52:12.160148Z",
     "shell.execute_reply": "2022-12-08T13:52:12.158865Z"
    },
    "id": "vAdMc0WCRUZN",
    "papermill": {
     "duration": 0.053651,
     "end_time": "2022-12-08T13:52:12.163194",
     "exception": false,
     "start_time": "2022-12-08T13:52:12.109543",
     "status": "completed"
    },
    "tags": []
   },
   "outputs": [],
   "source": [
    "(training, valid) = training.randomSplit([0.9, 0.1], seed=SEED)"
   ]
  },
  {
   "cell_type": "markdown",
   "id": "dc149972",
   "metadata": {
    "id": "uPxCj3RXtaOl",
    "papermill": {
     "duration": 0.031717,
     "end_time": "2022-12-08T13:52:12.239879",
     "exception": false,
     "start_time": "2022-12-08T13:52:12.208162",
     "status": "completed"
    },
    "tags": []
   },
   "source": [
    "Popularity based"
   ]
  },
  {
   "cell_type": "code",
   "execution_count": 57,
   "id": "4294be39",
   "metadata": {
    "execution": {
     "iopub.execute_input": "2022-12-08T13:52:12.299724Z",
     "iopub.status.busy": "2022-12-08T13:52:12.299349Z",
     "iopub.status.idle": "2022-12-08T13:52:12.337527Z",
     "shell.execute_reply": "2022-12-08T13:52:12.336108Z"
    },
    "id": "zldMMp9gRTF_",
    "papermill": {
     "duration": 0.07168,
     "end_time": "2022-12-08T13:52:12.340643",
     "exception": false,
     "start_time": "2022-12-08T13:52:12.268963",
     "status": "completed"
    },
    "tags": []
   },
   "outputs": [],
   "source": [
    "avg_score_by_anime = training.groupBy('anime_id').agg(avg('my_score').alias('preds_0'))"
   ]
  },
  {
   "cell_type": "code",
   "execution_count": 58,
   "id": "60abef34",
   "metadata": {
    "execution": {
     "iopub.execute_input": "2022-12-08T13:52:12.414712Z",
     "iopub.status.busy": "2022-12-08T13:52:12.414316Z",
     "iopub.status.idle": "2022-12-08T13:52:12.439738Z",
     "shell.execute_reply": "2022-12-08T13:52:12.438634Z"
    },
    "id": "P58BOOnzRTGD",
    "papermill": {
     "duration": 0.059489,
     "end_time": "2022-12-08T13:52:12.443258",
     "exception": false,
     "start_time": "2022-12-08T13:52:12.383769",
     "status": "completed"
    },
    "tags": []
   },
   "outputs": [],
   "source": [
    "avg_score = training.agg(avg('my_score').alias('overall_average'))"
   ]
  },
  {
   "cell_type": "code",
   "execution_count": 59,
   "id": "462d4c24",
   "metadata": {
    "execution": {
     "iopub.execute_input": "2022-12-08T13:52:12.535720Z",
     "iopub.status.busy": "2022-12-08T13:52:12.535260Z",
     "iopub.status.idle": "2022-12-08T14:00:25.745323Z",
     "shell.execute_reply": "2022-12-08T14:00:25.742312Z"
    },
    "id": "yUB-TNJFRTGH",
    "papermill": {
     "duration": 493.259855,
     "end_time": "2022-12-08T14:00:25.748618",
     "exception": false,
     "start_time": "2022-12-08T13:52:12.488763",
     "status": "completed"
    },
    "tags": []
   },
   "outputs": [
    {
     "name": "stderr",
     "output_type": "stream",
     "text": [
      "                                                                                \r"
     ]
    }
   ],
   "source": [
    "c = avg_score.collect()"
   ]
  },
  {
   "cell_type": "code",
   "execution_count": 60,
   "id": "f004d1e9",
   "metadata": {
    "execution": {
     "iopub.execute_input": "2022-12-08T14:00:25.860511Z",
     "iopub.status.busy": "2022-12-08T14:00:25.860149Z",
     "iopub.status.idle": "2022-12-08T14:00:25.971255Z",
     "shell.execute_reply": "2022-12-08T14:00:25.970109Z"
    },
    "id": "6_28n5dCRTGK",
    "papermill": {
     "duration": 0.164873,
     "end_time": "2022-12-08T14:00:25.974991",
     "exception": false,
     "start_time": "2022-12-08T14:00:25.810118",
     "status": "completed"
    },
    "tags": []
   },
   "outputs": [],
   "source": [
    "valid = valid.join(avg_score_by_anime, 'anime_id', how='left')"
   ]
  },
  {
   "cell_type": "code",
   "execution_count": 61,
   "id": "8b353959",
   "metadata": {
    "execution": {
     "iopub.execute_input": "2022-12-08T14:00:26.071856Z",
     "iopub.status.busy": "2022-12-08T14:00:26.071480Z",
     "iopub.status.idle": "2022-12-08T14:00:26.107622Z",
     "shell.execute_reply": "2022-12-08T14:00:26.105987Z"
    },
    "id": "8QPIgkcXRTGN",
    "papermill": {
     "duration": 0.08516,
     "end_time": "2022-12-08T14:00:26.111107",
     "exception": false,
     "start_time": "2022-12-08T14:00:26.025947",
     "status": "completed"
    },
    "tags": []
   },
   "outputs": [],
   "source": [
    "valid = valid.fillna(c[0].overall_average, subset=['preds_0'])"
   ]
  },
  {
   "cell_type": "code",
   "execution_count": 62,
   "id": "34f29886",
   "metadata": {
    "execution": {
     "iopub.execute_input": "2022-12-08T14:00:26.214537Z",
     "iopub.status.busy": "2022-12-08T14:00:26.213907Z",
     "iopub.status.idle": "2022-12-08T14:13:15.366102Z",
     "shell.execute_reply": "2022-12-08T14:13:15.362080Z"
    },
    "id": "H7X6cdU1RTGR",
    "papermill": {
     "duration": 769.207363,
     "end_time": "2022-12-08T14:13:15.369386",
     "exception": false,
     "start_time": "2022-12-08T14:00:26.162023",
     "status": "completed"
    },
    "tags": []
   },
   "outputs": [
    {
     "name": "stderr",
     "output_type": "stream",
     "text": [
      "[Stage 64:>                                                        (0 + 2) / 22]\r"
     ]
    },
    {
     "name": "stdout",
     "output_type": "stream",
     "text": [
      "22/12/08 14:04:46 WARN RowBasedKeyValueBatch: Calling spill() on RowBasedKeyValueBatch. Will not spill but return 0.\n",
      "22/12/08 14:04:46 WARN RowBasedKeyValueBatch: Calling spill() on RowBasedKeyValueBatch. Will not spill but return 0.\n",
      "22/12/08 14:04:53 WARN RowBasedKeyValueBatch: Calling spill() on RowBasedKeyValueBatch. Will not spill but return 0.\n",
      "22/12/08 14:04:54 WARN RowBasedKeyValueBatch: Calling spill() on RowBasedKeyValueBatch. Will not spill but return 0.\n"
     ]
    },
    {
     "name": "stderr",
     "output_type": "stream",
     "text": [
      "[Stage 64:=====>                                                   (2 + 2) / 22]\r"
     ]
    },
    {
     "name": "stdout",
     "output_type": "stream",
     "text": [
      "22/12/08 14:05:16 WARN RowBasedKeyValueBatch: Calling spill() on RowBasedKeyValueBatch. Will not spill but return 0.\n",
      "22/12/08 14:05:17 WARN RowBasedKeyValueBatch: Calling spill() on RowBasedKeyValueBatch. Will not spill but return 0.\n",
      "22/12/08 14:05:24 WARN RowBasedKeyValueBatch: Calling spill() on RowBasedKeyValueBatch. Will not spill but return 0.\n",
      "22/12/08 14:05:25 WARN RowBasedKeyValueBatch: Calling spill() on RowBasedKeyValueBatch. Will not spill but return 0.\n"
     ]
    },
    {
     "name": "stderr",
     "output_type": "stream",
     "text": [
      "[Stage 64:==========>                                              (4 + 2) / 22]\r"
     ]
    },
    {
     "name": "stdout",
     "output_type": "stream",
     "text": [
      "22/12/08 14:05:44 WARN RowBasedKeyValueBatch: Calling spill() on RowBasedKeyValueBatch. Will not spill but return 0.\n",
      "22/12/08 14:05:47 WARN RowBasedKeyValueBatch: Calling spill() on RowBasedKeyValueBatch. Will not spill but return 0.\n",
      "22/12/08 14:05:50 WARN RowBasedKeyValueBatch: Calling spill() on RowBasedKeyValueBatch. Will not spill but return 0.\n",
      "22/12/08 14:05:53 WARN RowBasedKeyValueBatch: Calling spill() on RowBasedKeyValueBatch. Will not spill but return 0.\n"
     ]
    },
    {
     "name": "stderr",
     "output_type": "stream",
     "text": [
      "[Stage 64:===============>                                         (6 + 2) / 22]\r"
     ]
    },
    {
     "name": "stdout",
     "output_type": "stream",
     "text": [
      "22/12/08 14:06:11 WARN RowBasedKeyValueBatch: Calling spill() on RowBasedKeyValueBatch. Will not spill but return 0.\n",
      "22/12/08 14:06:14 WARN RowBasedKeyValueBatch: Calling spill() on RowBasedKeyValueBatch. Will not spill but return 0.\n",
      "22/12/08 14:06:17 WARN RowBasedKeyValueBatch: Calling spill() on RowBasedKeyValueBatch. Will not spill but return 0.\n"
     ]
    },
    {
     "name": "stderr",
     "output_type": "stream",
     "text": [
      "[Stage 64:====================>                                    (8 + 2) / 22]\r"
     ]
    },
    {
     "name": "stdout",
     "output_type": "stream",
     "text": [
      "22/12/08 14:06:29 WARN RowBasedKeyValueBatch: Calling spill() on RowBasedKeyValueBatch. Will not spill but return 0.\n",
      "22/12/08 14:06:35 WARN RowBasedKeyValueBatch: Calling spill() on RowBasedKeyValueBatch. Will not spill but return 0.\n",
      "22/12/08 14:06:35 WARN RowBasedKeyValueBatch: Calling spill() on RowBasedKeyValueBatch. Will not spill but return 0.\n"
     ]
    },
    {
     "name": "stderr",
     "output_type": "stream",
     "text": [
      "[Stage 64:=======================>                                 (9 + 2) / 22]\r"
     ]
    },
    {
     "name": "stdout",
     "output_type": "stream",
     "text": [
      "22/12/08 14:06:41 WARN RowBasedKeyValueBatch: Calling spill() on RowBasedKeyValueBatch. Will not spill but return 0.\n"
     ]
    },
    {
     "name": "stderr",
     "output_type": "stream",
     "text": [
      "[Stage 64:=========================>                              (10 + 2) / 22]\r"
     ]
    },
    {
     "name": "stdout",
     "output_type": "stream",
     "text": [
      "22/12/08 14:06:56 WARN RowBasedKeyValueBatch: Calling spill() on RowBasedKeyValueBatch. Will not spill but return 0.\n",
      "22/12/08 14:06:57 WARN RowBasedKeyValueBatch: Calling spill() on RowBasedKeyValueBatch. Will not spill but return 0.\n"
     ]
    },
    {
     "name": "stderr",
     "output_type": "stream",
     "text": [
      "[Stage 64:============================>                           (11 + 2) / 22]\r"
     ]
    },
    {
     "name": "stdout",
     "output_type": "stream",
     "text": [
      "22/12/08 14:07:06 WARN RowBasedKeyValueBatch: Calling spill() on RowBasedKeyValueBatch. Will not spill but return 0.\n"
     ]
    },
    {
     "name": "stderr",
     "output_type": "stream",
     "text": [
      "[Stage 64:==============================>                         (12 + 2) / 22]\r"
     ]
    },
    {
     "name": "stdout",
     "output_type": "stream",
     "text": [
      "22/12/08 14:07:14 WARN RowBasedKeyValueBatch: Calling spill() on RowBasedKeyValueBatch. Will not spill but return 0.\n",
      "22/12/08 14:07:21 WARN RowBasedKeyValueBatch: Calling spill() on RowBasedKeyValueBatch. Will not spill but return 0.\n",
      "22/12/08 14:07:25 WARN RowBasedKeyValueBatch: Calling spill() on RowBasedKeyValueBatch. Will not spill but return 0.\n"
     ]
    },
    {
     "name": "stderr",
     "output_type": "stream",
     "text": [
      "[Stage 64:=================================>                      (13 + 2) / 22]\r"
     ]
    },
    {
     "name": "stdout",
     "output_type": "stream",
     "text": [
      "22/12/08 14:07:30 WARN RowBasedKeyValueBatch: Calling spill() on RowBasedKeyValueBatch. Will not spill but return 0.\n"
     ]
    },
    {
     "name": "stderr",
     "output_type": "stream",
     "text": [
      "[Stage 64:===================================>                    (14 + 2) / 22]\r"
     ]
    },
    {
     "name": "stdout",
     "output_type": "stream",
     "text": [
      "22/12/08 14:07:41 WARN RowBasedKeyValueBatch: Calling spill() on RowBasedKeyValueBatch. Will not spill but return 0.\n",
      "22/12/08 14:07:48 WARN RowBasedKeyValueBatch: Calling spill() on RowBasedKeyValueBatch. Will not spill but return 0.\n",
      "22/12/08 14:07:48 WARN RowBasedKeyValueBatch: Calling spill() on RowBasedKeyValueBatch. Will not spill but return 0.\n"
     ]
    },
    {
     "name": "stderr",
     "output_type": "stream",
     "text": [
      "[Stage 64:======================================>                 (15 + 2) / 22]\r"
     ]
    },
    {
     "name": "stdout",
     "output_type": "stream",
     "text": [
      "22/12/08 14:07:55 WARN RowBasedKeyValueBatch: Calling spill() on RowBasedKeyValueBatch. Will not spill but return 0.\n"
     ]
    },
    {
     "name": "stderr",
     "output_type": "stream",
     "text": [
      "[Stage 64:========================================>               (16 + 2) / 22]\r"
     ]
    },
    {
     "name": "stdout",
     "output_type": "stream",
     "text": [
      "22/12/08 14:08:06 WARN RowBasedKeyValueBatch: Calling spill() on RowBasedKeyValueBatch. Will not spill but return 0.\n",
      "22/12/08 14:08:13 WARN RowBasedKeyValueBatch: Calling spill() on RowBasedKeyValueBatch. Will not spill but return 0.\n",
      "22/12/08 14:08:14 WARN RowBasedKeyValueBatch: Calling spill() on RowBasedKeyValueBatch. Will not spill but return 0.\n"
     ]
    },
    {
     "name": "stderr",
     "output_type": "stream",
     "text": [
      "[Stage 64:===========================================>            (17 + 2) / 22]\r"
     ]
    },
    {
     "name": "stdout",
     "output_type": "stream",
     "text": [
      "22/12/08 14:08:22 WARN RowBasedKeyValueBatch: Calling spill() on RowBasedKeyValueBatch. Will not spill but return 0.\n"
     ]
    },
    {
     "name": "stderr",
     "output_type": "stream",
     "text": [
      "[Stage 64:=============================================>          (18 + 2) / 22]\r"
     ]
    },
    {
     "name": "stdout",
     "output_type": "stream",
     "text": [
      "22/12/08 14:08:31 WARN RowBasedKeyValueBatch: Calling spill() on RowBasedKeyValueBatch. Will not spill but return 0.\n",
      "22/12/08 14:08:39 WARN RowBasedKeyValueBatch: Calling spill() on RowBasedKeyValueBatch. Will not spill but return 0.\n",
      "22/12/08 14:08:40 WARN RowBasedKeyValueBatch: Calling spill() on RowBasedKeyValueBatch. Will not spill but return 0.\n",
      "22/12/08 14:08:46 WARN RowBasedKeyValueBatch: Calling spill() on RowBasedKeyValueBatch. Will not spill but return 0.\n"
     ]
    },
    {
     "name": "stderr",
     "output_type": "stream",
     "text": [
      "                                                                                \r"
     ]
    }
   ],
   "source": [
    "evaluator = RegressionEvaluator(metricName=\"rmse\", labelCol=\"my_score\", predictionCol=\"preds_0\")\n",
    "rmse = evaluator.evaluate(valid)"
   ]
  },
  {
   "cell_type": "code",
   "execution_count": 63,
   "id": "37cee24d",
   "metadata": {
    "execution": {
     "iopub.execute_input": "2022-12-08T14:13:15.513671Z",
     "iopub.status.busy": "2022-12-08T14:13:15.513038Z",
     "iopub.status.idle": "2022-12-08T14:13:15.519536Z",
     "shell.execute_reply": "2022-12-08T14:13:15.518627Z"
    },
    "id": "092PU0Xvz9Km",
    "papermill": {
     "duration": 0.072755,
     "end_time": "2022-12-08T14:13:15.525539",
     "exception": false,
     "start_time": "2022-12-08T14:13:15.452784",
     "status": "completed"
    },
    "tags": []
   },
   "outputs": [
    {
     "name": "stdout",
     "output_type": "stream",
     "text": [
      "RMSE:1.5803892683548855\n"
     ]
    }
   ],
   "source": [
    "print(\"RMSE:\" + str(rmse))"
   ]
  },
  {
   "cell_type": "code",
   "execution_count": 64,
   "id": "0f8cb515",
   "metadata": {
    "execution": {
     "iopub.execute_input": "2022-12-08T14:13:15.637461Z",
     "iopub.status.busy": "2022-12-08T14:13:15.637085Z",
     "iopub.status.idle": "2022-12-08T14:13:15.757113Z",
     "shell.execute_reply": "2022-12-08T14:13:15.755724Z"
    },
    "id": "-nynLEPtwLKj",
    "papermill": {
     "duration": 0.164082,
     "end_time": "2022-12-08T14:13:15.760442",
     "exception": false,
     "start_time": "2022-12-08T14:13:15.596360",
     "status": "completed"
    },
    "tags": []
   },
   "outputs": [],
   "source": [
    "test = test.join(avg_score_by_anime, 'anime_id', how='left')"
   ]
  },
  {
   "cell_type": "code",
   "execution_count": 65,
   "id": "308fdee1",
   "metadata": {
    "execution": {
     "iopub.execute_input": "2022-12-08T14:13:15.878277Z",
     "iopub.status.busy": "2022-12-08T14:13:15.877884Z",
     "iopub.status.idle": "2022-12-08T14:13:15.913769Z",
     "shell.execute_reply": "2022-12-08T14:13:15.912616Z"
    },
    "id": "cZIiJ8IhwS1R",
    "papermill": {
     "duration": 0.096047,
     "end_time": "2022-12-08T14:13:15.916097",
     "exception": false,
     "start_time": "2022-12-08T14:13:15.820050",
     "status": "completed"
    },
    "tags": []
   },
   "outputs": [],
   "source": [
    "test = test.fillna(c[0].overall_average, subset=['preds_0'])"
   ]
  },
  {
   "cell_type": "markdown",
   "id": "8596db0e",
   "metadata": {
    "id": "UUIYLyQrZIz_",
    "papermill": {
     "duration": 0.03854,
     "end_time": "2022-12-08T14:13:15.993500",
     "exception": false,
     "start_time": "2022-12-08T14:13:15.954960",
     "status": "completed"
    },
    "tags": []
   },
   "source": [
    "Biased User Model"
   ]
  },
  {
   "cell_type": "code",
   "execution_count": 66,
   "id": "3289625d",
   "metadata": {
    "execution": {
     "iopub.execute_input": "2022-12-08T14:13:16.071959Z",
     "iopub.status.busy": "2022-12-08T14:13:16.071538Z",
     "iopub.status.idle": "2022-12-08T14:13:16.095984Z",
     "shell.execute_reply": "2022-12-08T14:13:16.094994Z"
    },
    "id": "8e_jYcoVZJUE",
    "papermill": {
     "duration": 0.065974,
     "end_time": "2022-12-08T14:13:16.098123",
     "exception": false,
     "start_time": "2022-12-08T14:13:16.032149",
     "status": "completed"
    },
    "tags": []
   },
   "outputs": [],
   "source": [
    "avg_score_by_user = training.groupBy('user_id').agg(avg('my_score').alias('preds_1'))"
   ]
  },
  {
   "cell_type": "code",
   "execution_count": 67,
   "id": "225903db",
   "metadata": {
    "execution": {
     "iopub.execute_input": "2022-12-08T14:13:16.180090Z",
     "iopub.status.busy": "2022-12-08T14:13:16.179715Z",
     "iopub.status.idle": "2022-12-08T14:13:16.263253Z",
     "shell.execute_reply": "2022-12-08T14:13:16.261721Z"
    },
    "id": "QdiIWnfkZR_e",
    "papermill": {
     "duration": 0.126212,
     "end_time": "2022-12-08T14:13:16.267261",
     "exception": false,
     "start_time": "2022-12-08T14:13:16.141049",
     "status": "completed"
    },
    "tags": []
   },
   "outputs": [],
   "source": [
    "valid = valid.join(avg_score_by_user, 'user_id', how='left')"
   ]
  },
  {
   "cell_type": "code",
   "execution_count": 68,
   "id": "1137ee52",
   "metadata": {
    "execution": {
     "iopub.execute_input": "2022-12-08T14:13:16.360947Z",
     "iopub.status.busy": "2022-12-08T14:13:16.360569Z",
     "iopub.status.idle": "2022-12-08T14:13:16.395274Z",
     "shell.execute_reply": "2022-12-08T14:13:16.393801Z"
    },
    "id": "LJsgZhiIaLXO",
    "papermill": {
     "duration": 0.077482,
     "end_time": "2022-12-08T14:13:16.398509",
     "exception": false,
     "start_time": "2022-12-08T14:13:16.321027",
     "status": "completed"
    },
    "tags": []
   },
   "outputs": [],
   "source": [
    "valid = valid.fillna(c[0].overall_average, subset=['preds_1'])"
   ]
  },
  {
   "cell_type": "code",
   "execution_count": 69,
   "id": "0225b8f7",
   "metadata": {
    "execution": {
     "iopub.execute_input": "2022-12-08T14:13:16.490055Z",
     "iopub.status.busy": "2022-12-08T14:13:16.489647Z",
     "iopub.status.idle": "2022-12-08T14:30:32.769094Z",
     "shell.execute_reply": "2022-12-08T14:30:32.764462Z"
    },
    "id": "_qLQSqo5aUjH",
    "papermill": {
     "duration": 1036.322342,
     "end_time": "2022-12-08T14:30:32.771494",
     "exception": false,
     "start_time": "2022-12-08T14:13:16.449152",
     "status": "completed"
    },
    "tags": []
   },
   "outputs": [
    {
     "name": "stderr",
     "output_type": "stream",
     "text": [
      "[Stage 89:===============>(21 + 1) / 22][Stage 90:>                (0 + 1) / 22]\r"
     ]
    },
    {
     "name": "stdout",
     "output_type": "stream",
     "text": [
      "22/12/08 14:21:44 WARN RowBasedKeyValueBatch: Calling spill() on RowBasedKeyValueBatch. Will not spill but return 0.\n"
     ]
    },
    {
     "name": "stderr",
     "output_type": "stream",
     "text": [
      "[Stage 90:>                (0 + 2) / 22][Stage 92:>                 (0 + 0) / 1]\r"
     ]
    },
    {
     "name": "stdout",
     "output_type": "stream",
     "text": [
      "22/12/08 14:21:52 WARN RowBasedKeyValueBatch: Calling spill() on RowBasedKeyValueBatch. Will not spill but return 0.\n"
     ]
    },
    {
     "name": "stderr",
     "output_type": "stream",
     "text": [
      "[Stage 90:>                (1 + 2) / 22][Stage 92:>                 (0 + 0) / 1]\r"
     ]
    },
    {
     "name": "stdout",
     "output_type": "stream",
     "text": [
      "22/12/08 14:22:03 WARN RowBasedKeyValueBatch: Calling spill() on RowBasedKeyValueBatch. Will not spill but return 0.\n",
      "22/12/08 14:22:09 WARN RowBasedKeyValueBatch: Calling spill() on RowBasedKeyValueBatch. Will not spill but return 0.\n",
      "22/12/08 14:22:10 WARN RowBasedKeyValueBatch: Calling spill() on RowBasedKeyValueBatch. Will not spill but return 0.\n"
     ]
    },
    {
     "name": "stderr",
     "output_type": "stream",
     "text": [
      "[Stage 90:=>               (2 + 2) / 22][Stage 92:>                 (0 + 0) / 1]\r"
     ]
    },
    {
     "name": "stdout",
     "output_type": "stream",
     "text": [
      "22/12/08 14:22:18 WARN RowBasedKeyValueBatch: Calling spill() on RowBasedKeyValueBatch. Will not spill but return 0.\n"
     ]
    },
    {
     "name": "stderr",
     "output_type": "stream",
     "text": [
      "[Stage 90:==>              (3 + 2) / 22][Stage 92:>                 (0 + 0) / 1]\r"
     ]
    },
    {
     "name": "stdout",
     "output_type": "stream",
     "text": [
      "22/12/08 14:22:28 WARN RowBasedKeyValueBatch: Calling spill() on RowBasedKeyValueBatch. Will not spill but return 0.\n",
      "22/12/08 14:22:34 WARN RowBasedKeyValueBatch: Calling spill() on RowBasedKeyValueBatch. Will not spill but return 0.\n",
      "22/12/08 14:22:37 WARN RowBasedKeyValueBatch: Calling spill() on RowBasedKeyValueBatch. Will not spill but return 0.\n"
     ]
    },
    {
     "name": "stderr",
     "output_type": "stream",
     "text": [
      "[Stage 90:===>             (4 + 2) / 22][Stage 92:>                 (0 + 0) / 1]\r"
     ]
    },
    {
     "name": "stdout",
     "output_type": "stream",
     "text": [
      "22/12/08 14:22:45 WARN RowBasedKeyValueBatch: Calling spill() on RowBasedKeyValueBatch. Will not spill but return 0.\n"
     ]
    },
    {
     "name": "stderr",
     "output_type": "stream",
     "text": [
      "[Stage 90:===>             (5 + 2) / 22][Stage 92:>                 (0 + 0) / 1]\r"
     ]
    },
    {
     "name": "stdout",
     "output_type": "stream",
     "text": [
      "22/12/08 14:22:56 WARN RowBasedKeyValueBatch: Calling spill() on RowBasedKeyValueBatch. Will not spill but return 0.\n",
      "22/12/08 14:23:02 WARN RowBasedKeyValueBatch: Calling spill() on RowBasedKeyValueBatch. Will not spill but return 0.\n"
     ]
    },
    {
     "name": "stderr",
     "output_type": "stream",
     "text": [
      "[Stage 90:====>            (6 + 2) / 22][Stage 92:>                 (0 + 0) / 1]\r"
     ]
    },
    {
     "name": "stdout",
     "output_type": "stream",
     "text": [
      "22/12/08 14:23:09 WARN RowBasedKeyValueBatch: Calling spill() on RowBasedKeyValueBatch. Will not spill but return 0.\n"
     ]
    },
    {
     "name": "stderr",
     "output_type": "stream",
     "text": [
      "[Stage 90:=====>           (7 + 2) / 22][Stage 92:>                 (0 + 0) / 1]\r"
     ]
    },
    {
     "name": "stdout",
     "output_type": "stream",
     "text": [
      "22/12/08 14:23:23 WARN RowBasedKeyValueBatch: Calling spill() on RowBasedKeyValueBatch. Will not spill but return 0.\n",
      "22/12/08 14:23:29 WARN RowBasedKeyValueBatch: Calling spill() on RowBasedKeyValueBatch. Will not spill but return 0.\n",
      "22/12/08 14:23:30 WARN RowBasedKeyValueBatch: Calling spill() on RowBasedKeyValueBatch. Will not spill but return 0.\n",
      "22/12/08 14:23:35 WARN RowBasedKeyValueBatch: Calling spill() on RowBasedKeyValueBatch. Will not spill but return 0.\n"
     ]
    },
    {
     "name": "stderr",
     "output_type": "stream",
     "text": [
      "[Stage 90:======>          (9 + 2) / 22][Stage 92:>                 (0 + 0) / 1]\r"
     ]
    },
    {
     "name": "stdout",
     "output_type": "stream",
     "text": [
      "22/12/08 14:23:48 WARN RowBasedKeyValueBatch: Calling spill() on RowBasedKeyValueBatch. Will not spill but return 0.\n",
      "22/12/08 14:23:54 WARN RowBasedKeyValueBatch: Calling spill() on RowBasedKeyValueBatch. Will not spill but return 0.\n",
      "22/12/08 14:23:57 WARN RowBasedKeyValueBatch: Calling spill() on RowBasedKeyValueBatch. Will not spill but return 0.\n"
     ]
    },
    {
     "name": "stderr",
     "output_type": "stream",
     "text": [
      "[Stage 90:========>       (11 + 2) / 22][Stage 92:>                 (0 + 0) / 1]\r"
     ]
    },
    {
     "name": "stdout",
     "output_type": "stream",
     "text": [
      "22/12/08 14:24:12 WARN RowBasedKeyValueBatch: Calling spill() on RowBasedKeyValueBatch. Will not spill but return 0.\n",
      "22/12/08 14:24:14 WARN RowBasedKeyValueBatch: Calling spill() on RowBasedKeyValueBatch. Will not spill but return 0.\n",
      "22/12/08 14:24:20 WARN RowBasedKeyValueBatch: Calling spill() on RowBasedKeyValueBatch. Will not spill but return 0.\n",
      "22/12/08 14:24:21 WARN RowBasedKeyValueBatch: Calling spill() on RowBasedKeyValueBatch. Will not spill but return 0.\n"
     ]
    },
    {
     "name": "stderr",
     "output_type": "stream",
     "text": [
      "[Stage 90:=========>      (13 + 2) / 22][Stage 92:>                 (0 + 0) / 1]\r"
     ]
    },
    {
     "name": "stdout",
     "output_type": "stream",
     "text": [
      "22/12/08 14:24:40 WARN RowBasedKeyValueBatch: Calling spill() on RowBasedKeyValueBatch. Will not spill but return 0.\n",
      "22/12/08 14:24:41 WARN RowBasedKeyValueBatch: Calling spill() on RowBasedKeyValueBatch. Will not spill but return 0.\n",
      "22/12/08 14:24:46 WARN RowBasedKeyValueBatch: Calling spill() on RowBasedKeyValueBatch. Will not spill but return 0.\n",
      "22/12/08 14:24:48 WARN RowBasedKeyValueBatch: Calling spill() on RowBasedKeyValueBatch. Will not spill but return 0.\n"
     ]
    },
    {
     "name": "stderr",
     "output_type": "stream",
     "text": [
      "[Stage 90:==========>     (15 + 2) / 22][Stage 92:>                 (0 + 0) / 1]\r"
     ]
    },
    {
     "name": "stdout",
     "output_type": "stream",
     "text": [
      "22/12/08 14:25:04 WARN RowBasedKeyValueBatch: Calling spill() on RowBasedKeyValueBatch. Will not spill but return 0.\n",
      "22/12/08 14:25:07 WARN RowBasedKeyValueBatch: Calling spill() on RowBasedKeyValueBatch. Will not spill but return 0.\n",
      "22/12/08 14:25:11 WARN RowBasedKeyValueBatch: Calling spill() on RowBasedKeyValueBatch. Will not spill but return 0.\n",
      "22/12/08 14:25:13 WARN RowBasedKeyValueBatch: Calling spill() on RowBasedKeyValueBatch. Will not spill but return 0.\n"
     ]
    },
    {
     "name": "stderr",
     "output_type": "stream",
     "text": [
      "[Stage 90:============>   (17 + 2) / 22][Stage 92:>                 (0 + 0) / 1]\r"
     ]
    },
    {
     "name": "stdout",
     "output_type": "stream",
     "text": [
      "22/12/08 14:25:29 WARN RowBasedKeyValueBatch: Calling spill() on RowBasedKeyValueBatch. Will not spill but return 0.\n",
      "22/12/08 14:25:31 WARN RowBasedKeyValueBatch: Calling spill() on RowBasedKeyValueBatch. Will not spill but return 0.\n",
      "22/12/08 14:25:37 WARN RowBasedKeyValueBatch: Calling spill() on RowBasedKeyValueBatch. Will not spill but return 0.\n",
      "22/12/08 14:25:39 WARN RowBasedKeyValueBatch: Calling spill() on RowBasedKeyValueBatch. Will not spill but return 0.\n"
     ]
    },
    {
     "name": "stderr",
     "output_type": "stream",
     "text": [
      "[Stage 90:=============>  (19 + 2) / 22][Stage 92:>                 (0 + 0) / 1]\r"
     ]
    },
    {
     "name": "stdout",
     "output_type": "stream",
     "text": [
      "22/12/08 14:25:55 WARN RowBasedKeyValueBatch: Calling spill() on RowBasedKeyValueBatch. Will not spill but return 0.\n",
      "22/12/08 14:25:58 WARN RowBasedKeyValueBatch: Calling spill() on RowBasedKeyValueBatch. Will not spill but return 0.\n",
      "22/12/08 14:26:01 WARN RowBasedKeyValueBatch: Calling spill() on RowBasedKeyValueBatch. Will not spill but return 0.\n",
      "22/12/08 14:26:06 WARN RowBasedKeyValueBatch: Calling spill() on RowBasedKeyValueBatch. Will not spill but return 0.\n"
     ]
    },
    {
     "name": "stderr",
     "output_type": "stream",
     "text": [
      "                                                                                \r"
     ]
    }
   ],
   "source": [
    "evaluator = RegressionEvaluator(metricName=\"rmse\", labelCol=\"my_score\", predictionCol=\"preds_1\")\n",
    "rmse = evaluator.evaluate(valid)"
   ]
  },
  {
   "cell_type": "code",
   "execution_count": 70,
   "id": "675a12bd",
   "metadata": {
    "execution": {
     "iopub.execute_input": "2022-12-08T14:30:32.868433Z",
     "iopub.status.busy": "2022-12-08T14:30:32.866659Z",
     "iopub.status.idle": "2022-12-08T14:30:32.875230Z",
     "shell.execute_reply": "2022-12-08T14:30:32.873989Z"
    },
    "id": "ucp57_o2aaBL",
    "papermill": {
     "duration": 0.059116,
     "end_time": "2022-12-08T14:30:32.877549",
     "exception": false,
     "start_time": "2022-12-08T14:30:32.818433",
     "status": "completed"
    },
    "tags": []
   },
   "outputs": [
    {
     "name": "stdout",
     "output_type": "stream",
     "text": [
      "RMSE:1.4939422780918006\n"
     ]
    }
   ],
   "source": [
    "print(\"RMSE:\" + str(rmse))"
   ]
  },
  {
   "cell_type": "code",
   "execution_count": 71,
   "id": "48fb0b50",
   "metadata": {
    "execution": {
     "iopub.execute_input": "2022-12-08T14:30:32.970428Z",
     "iopub.status.busy": "2022-12-08T14:30:32.970073Z",
     "iopub.status.idle": "2022-12-08T14:30:33.062303Z",
     "shell.execute_reply": "2022-12-08T14:30:33.061131Z"
    },
    "id": "X0PPWdud15HN",
    "papermill": {
     "duration": 0.141355,
     "end_time": "2022-12-08T14:30:33.065072",
     "exception": false,
     "start_time": "2022-12-08T14:30:32.923717",
     "status": "completed"
    },
    "tags": []
   },
   "outputs": [],
   "source": [
    "test = test.join(avg_score_by_user, 'user_id', how='left')"
   ]
  },
  {
   "cell_type": "code",
   "execution_count": 72,
   "id": "d3c3ef7b",
   "metadata": {
    "execution": {
     "iopub.execute_input": "2022-12-08T14:30:33.210481Z",
     "iopub.status.busy": "2022-12-08T14:30:33.210072Z",
     "iopub.status.idle": "2022-12-08T14:30:33.242386Z",
     "shell.execute_reply": "2022-12-08T14:30:33.241245Z"
    },
    "id": "gIo9U65y18gG",
    "papermill": {
     "duration": 0.085199,
     "end_time": "2022-12-08T14:30:33.246309",
     "exception": false,
     "start_time": "2022-12-08T14:30:33.161110",
     "status": "completed"
    },
    "tags": []
   },
   "outputs": [],
   "source": [
    "test = test.fillna(c[0].overall_average, subset=['preds_1'])"
   ]
  },
  {
   "cell_type": "markdown",
   "id": "88e2fecf",
   "metadata": {
    "id": "JTZKs5vnH0bp",
    "papermill": {
     "duration": 0.05407,
     "end_time": "2022-12-08T14:30:33.371869",
     "exception": false,
     "start_time": "2022-12-08T14:30:33.317799",
     "status": "completed"
    },
    "tags": []
   },
   "source": [
    "Random Forest"
   ]
  },
  {
   "cell_type": "code",
   "execution_count": 73,
   "id": "8f6db7f2",
   "metadata": {
    "execution": {
     "iopub.execute_input": "2022-12-08T14:30:33.469131Z",
     "iopub.status.busy": "2022-12-08T14:30:33.468136Z",
     "iopub.status.idle": "2022-12-08T14:30:33.473629Z",
     "shell.execute_reply": "2022-12-08T14:30:33.472441Z"
    },
    "id": "sG30OjTMH0br",
    "papermill": {
     "duration": 0.054919,
     "end_time": "2022-12-08T14:30:33.476025",
     "exception": false,
     "start_time": "2022-12-08T14:30:33.421106",
     "status": "completed"
    },
    "tags": []
   },
   "outputs": [],
   "source": [
    "from pyspark.ml.regression import RandomForestRegressor, RandomForestRegressionModel"
   ]
  },
  {
   "cell_type": "code",
   "execution_count": 74,
   "id": "3bba057a",
   "metadata": {
    "execution": {
     "iopub.execute_input": "2022-12-08T14:30:33.571360Z",
     "iopub.status.busy": "2022-12-08T14:30:33.570190Z",
     "iopub.status.idle": "2022-12-08T14:30:33.624673Z",
     "shell.execute_reply": "2022-12-08T14:30:33.623517Z"
    },
    "id": "cKIeyYBYH0bw",
    "papermill": {
     "duration": 0.104884,
     "end_time": "2022-12-08T14:30:33.627015",
     "exception": false,
     "start_time": "2022-12-08T14:30:33.522131",
     "status": "completed"
    },
    "tags": []
   },
   "outputs": [],
   "source": [
    "rf = RandomForestRegressor(featuresCol='features', labelCol='my_score', \n",
    "                           numTrees=5, maxMemoryInMB=1024,\n",
    "                           subsamplingRate=0.1)"
   ]
  },
  {
   "cell_type": "code",
   "execution_count": 75,
   "id": "a6f37d60",
   "metadata": {
    "execution": {
     "iopub.execute_input": "2022-12-08T14:30:33.811433Z",
     "iopub.status.busy": "2022-12-08T14:30:33.811026Z",
     "iopub.status.idle": "2022-12-08T15:00:08.049101Z",
     "shell.execute_reply": "2022-12-08T15:00:08.048053Z"
    },
    "id": "3Uba6FLnH0b4",
    "papermill": {
     "duration": 1774.291211,
     "end_time": "2022-12-08T15:00:08.051998",
     "exception": false,
     "start_time": "2022-12-08T14:30:33.760787",
     "status": "completed"
    },
    "tags": []
   },
   "outputs": [
    {
     "name": "stderr",
     "output_type": "stream",
     "text": [
      "[Stage 134:>                                                       (0 + 2) / 22]\r"
     ]
    },
    {
     "name": "stdout",
     "output_type": "stream",
     "text": [
      "22/12/08 14:44:14 WARN MemoryStore: Not enough space to cache rdd_291_0 in memory! (computed 527.2 MiB so far)\n",
      "22/12/08 14:44:14 WARN BlockManager: Persisting block rdd_291_0 to disk instead.\n"
     ]
    },
    {
     "name": "stderr",
     "output_type": "stream",
     "text": [
      "[Stage 134:=======>                                                (3 + 2) / 22]\r"
     ]
    },
    {
     "name": "stdout",
     "output_type": "stream",
     "text": [
      "22/12/08 14:45:11 WARN MemoryStore: Not enough space to cache rdd_291_3 in memory! (computed 527.2 MiB so far)\n",
      "22/12/08 14:45:11 WARN BlockManager: Persisting block rdd_291_3 to disk instead.\n"
     ]
    },
    {
     "name": "stderr",
     "output_type": "stream",
     "text": [
      "[Stage 134:===============>                                        (6 + 2) / 22]\r"
     ]
    },
    {
     "name": "stdout",
     "output_type": "stream",
     "text": [
      "22/12/08 14:46:30 WARN MemoryStore: Not enough space to cache rdd_291_6 in memory! (computed 98.8 MiB so far)\n",
      "22/12/08 14:46:30 WARN BlockManager: Persisting block rdd_291_6 to disk instead.\n"
     ]
    },
    {
     "name": "stderr",
     "output_type": "stream",
     "text": [
      "[Stage 134:=================>                                      (7 + 2) / 22]\r"
     ]
    },
    {
     "name": "stdout",
     "output_type": "stream",
     "text": [
      "22/12/08 14:46:59 WARN MemoryStore: Not enough space to cache rdd_291_7 in memory! (computed 527.2 MiB so far)\n",
      "22/12/08 14:46:59 WARN BlockManager: Persisting block rdd_291_7 to disk instead.\n"
     ]
    },
    {
     "name": "stderr",
     "output_type": "stream",
     "text": [
      "[Stage 134:====================>                                   (8 + 2) / 22]\r"
     ]
    },
    {
     "name": "stdout",
     "output_type": "stream",
     "text": [
      "22/12/08 14:47:32 WARN MemoryStore: Not enough space to cache rdd_291_8 in memory! (computed 222.4 MiB so far)\n",
      "22/12/08 14:47:32 WARN BlockManager: Persisting block rdd_291_8 to disk instead.\n"
     ]
    },
    {
     "name": "stderr",
     "output_type": "stream",
     "text": [
      "[Stage 134:=========================>                             (10 + 2) / 22]\r"
     ]
    },
    {
     "name": "stdout",
     "output_type": "stream",
     "text": [
      "22/12/08 14:48:28 WARN MemoryStore: Not enough space to cache rdd_291_10 in memory! (computed 334.4 MiB so far)\n",
      "22/12/08 14:48:28 WARN BlockManager: Persisting block rdd_291_10 to disk instead.\n"
     ]
    },
    {
     "name": "stderr",
     "output_type": "stream",
     "text": [
      "[Stage 134:===========================>                           (11 + 2) / 22]\r"
     ]
    },
    {
     "name": "stdout",
     "output_type": "stream",
     "text": [
      "22/12/08 14:48:51 WARN MemoryStore: Not enough space to cache rdd_291_11 in memory! (computed 527.2 MiB so far)\n",
      "22/12/08 14:48:51 WARN BlockManager: Persisting block rdd_291_11 to disk instead.\n"
     ]
    },
    {
     "name": "stderr",
     "output_type": "stream",
     "text": [
      "[Stage 134:================================>                      (13 + 2) / 22]\r"
     ]
    },
    {
     "name": "stdout",
     "output_type": "stream",
     "text": [
      "22/12/08 14:49:57 WARN MemoryStore: Not enough space to cache rdd_291_13 in memory! (computed 527.2 MiB so far)\n",
      "22/12/08 14:49:57 WARN BlockManager: Persisting block rdd_291_13 to disk instead.\n"
     ]
    },
    {
     "name": "stderr",
     "output_type": "stream",
     "text": [
      "[Stage 134:===================================>                   (14 + 2) / 22]\r"
     ]
    },
    {
     "name": "stdout",
     "output_type": "stream",
     "text": [
      "22/12/08 14:50:19 WARN MemoryStore: Not enough space to cache rdd_291_14 in memory! (computed 334.4 MiB so far)\n",
      "22/12/08 14:50:19 WARN BlockManager: Persisting block rdd_291_14 to disk instead.\n"
     ]
    },
    {
     "name": "stderr",
     "output_type": "stream",
     "text": [
      "[Stage 140:=====>                                                  (2 + 2) / 22]\r"
     ]
    },
    {
     "name": "stdout",
     "output_type": "stream",
     "text": [
      "22/12/08 14:53:24 WARN MemoryStore: Not enough space to cache rdd_291_3 in memory! (computed 148.3 MiB so far)\n",
      "22/12/08 14:53:24 WARN MemoryStore: Not enough space to cache rdd_291_2 in memory! (computed 222.4 MiB so far)\n"
     ]
    },
    {
     "name": "stderr",
     "output_type": "stream",
     "text": [
      "[Stage 140:==========>                                             (4 + 2) / 22]\r"
     ]
    },
    {
     "name": "stdout",
     "output_type": "stream",
     "text": [
      "22/12/08 14:53:35 WARN MemoryStore: Not enough space to cache rdd_291_5 in memory! (computed 148.3 MiB so far)\n",
      "22/12/08 14:53:35 WARN MemoryStore: Not enough space to cache rdd_291_4 in memory! (computed 222.4 MiB so far)\n"
     ]
    },
    {
     "name": "stderr",
     "output_type": "stream",
     "text": [
      "[Stage 140:===============>                                        (6 + 2) / 22]\r"
     ]
    },
    {
     "name": "stdout",
     "output_type": "stream",
     "text": [
      "22/12/08 14:53:44 WARN MemoryStore: Not enough space to cache rdd_291_7 in memory! (computed 148.3 MiB so far)\n",
      "22/12/08 14:53:44 WARN MemoryStore: Not enough space to cache rdd_291_6 in memory! (computed 222.4 MiB so far)\n"
     ]
    },
    {
     "name": "stderr",
     "output_type": "stream",
     "text": [
      "[Stage 140:====================>                                   (8 + 2) / 22]\r"
     ]
    },
    {
     "name": "stdout",
     "output_type": "stream",
     "text": [
      "22/12/08 14:53:57 WARN MemoryStore: Not enough space to cache rdd_291_9 in memory! (computed 41.6 MiB so far)\n",
      "22/12/08 14:53:58 WARN MemoryStore: Not enough space to cache rdd_291_8 in memory! (computed 334.4 MiB so far)\n"
     ]
    },
    {
     "name": "stderr",
     "output_type": "stream",
     "text": [
      "[Stage 140:=========================>                             (10 + 2) / 22]\r"
     ]
    },
    {
     "name": "stdout",
     "output_type": "stream",
     "text": [
      "22/12/08 14:54:07 WARN MemoryStore: Not enough space to cache rdd_291_11 in memory! (computed 41.6 MiB so far)\n",
      "22/12/08 14:54:07 WARN MemoryStore: Not enough space to cache rdd_291_10 in memory! (computed 334.4 MiB so far)\n"
     ]
    },
    {
     "name": "stderr",
     "output_type": "stream",
     "text": [
      "[Stage 140:===========================>                           (11 + 2) / 22]\r"
     ]
    },
    {
     "name": "stdout",
     "output_type": "stream",
     "text": [
      "22/12/08 14:54:17 WARN MemoryStore: Not enough space to cache rdd_291_12 in memory! (computed 334.4 MiB so far)\n"
     ]
    },
    {
     "name": "stderr",
     "output_type": "stream",
     "text": [
      "[Stage 140:==============================>                        (12 + 2) / 22]\r"
     ]
    },
    {
     "name": "stdout",
     "output_type": "stream",
     "text": [
      "22/12/08 14:54:17 WARN MemoryStore: Not enough space to cache rdd_291_13 in memory! (computed 41.6 MiB so far)\n"
     ]
    },
    {
     "name": "stderr",
     "output_type": "stream",
     "text": [
      "[Stage 140:===================================>                   (14 + 2) / 22]\r"
     ]
    },
    {
     "name": "stdout",
     "output_type": "stream",
     "text": [
      "22/12/08 14:54:31 WARN MemoryStore: Not enough space to cache rdd_291_15 in memory! (computed 41.6 MiB so far)\n",
      "22/12/08 14:54:31 WARN MemoryStore: Not enough space to cache rdd_291_14 in memory! (computed 334.4 MiB so far)\n"
     ]
    },
    {
     "name": "stderr",
     "output_type": "stream",
     "text": [
      "[Stage 140:========================================>              (16 + 2) / 22]\r"
     ]
    },
    {
     "name": "stdout",
     "output_type": "stream",
     "text": [
      "22/12/08 14:54:41 WARN MemoryStore: Not enough space to cache rdd_291_17 in memory! (computed 41.6 MiB so far)\n",
      "22/12/08 14:54:42 WARN MemoryStore: Not enough space to cache rdd_291_16 in memory! (computed 334.4 MiB so far)\n"
     ]
    },
    {
     "name": "stderr",
     "output_type": "stream",
     "text": [
      "[Stage 146:=====>                                                  (2 + 2) / 22]\r"
     ]
    },
    {
     "name": "stdout",
     "output_type": "stream",
     "text": [
      "22/12/08 14:55:04 WARN MemoryStore: Not enough space to cache rdd_291_2 in memory! (computed 148.3 MiB so far)\n",
      "22/12/08 14:55:05 WARN MemoryStore: Not enough space to cache rdd_291_3 in memory! (computed 222.4 MiB so far)\n"
     ]
    },
    {
     "name": "stderr",
     "output_type": "stream",
     "text": [
      "[Stage 146:==========>                                             (4 + 2) / 22]\r"
     ]
    },
    {
     "name": "stdout",
     "output_type": "stream",
     "text": [
      "22/12/08 14:55:16 WARN MemoryStore: Not enough space to cache rdd_291_4 in memory! (computed 222.4 MiB so far)\n",
      "22/12/08 14:55:17 WARN MemoryStore: Not enough space to cache rdd_291_5 in memory! (computed 148.3 MiB so far)\n"
     ]
    },
    {
     "name": "stderr",
     "output_type": "stream",
     "text": [
      "[Stage 146:===============>                                        (6 + 2) / 22]\r"
     ]
    },
    {
     "name": "stdout",
     "output_type": "stream",
     "text": [
      "22/12/08 14:55:26 WARN MemoryStore: Not enough space to cache rdd_291_6 in memory! (computed 222.4 MiB so far)\n",
      "22/12/08 14:55:27 WARN MemoryStore: Not enough space to cache rdd_291_7 in memory! (computed 148.3 MiB so far)\n"
     ]
    },
    {
     "name": "stderr",
     "output_type": "stream",
     "text": [
      "[Stage 146:====================>                                   (8 + 2) / 22]\r"
     ]
    },
    {
     "name": "stdout",
     "output_type": "stream",
     "text": [
      "22/12/08 14:55:36 WARN MemoryStore: Not enough space to cache rdd_291_9 in memory! (computed 41.6 MiB so far)\n",
      "22/12/08 14:55:37 WARN MemoryStore: Not enough space to cache rdd_291_8 in memory! (computed 334.4 MiB so far)\n"
     ]
    },
    {
     "name": "stderr",
     "output_type": "stream",
     "text": [
      "[Stage 146:=========================>                             (10 + 2) / 22]\r"
     ]
    },
    {
     "name": "stdout",
     "output_type": "stream",
     "text": [
      "22/12/08 14:55:45 WARN MemoryStore: Not enough space to cache rdd_291_11 in memory! (computed 41.6 MiB so far)\n",
      "22/12/08 14:55:46 WARN MemoryStore: Not enough space to cache rdd_291_10 in memory! (computed 334.4 MiB so far)\n"
     ]
    },
    {
     "name": "stderr",
     "output_type": "stream",
     "text": [
      "[Stage 146:===========================>                           (11 + 2) / 22]\r"
     ]
    },
    {
     "name": "stdout",
     "output_type": "stream",
     "text": [
      "22/12/08 14:55:57 WARN MemoryStore: Not enough space to cache rdd_291_12 in memory! (computed 334.4 MiB so far)\n"
     ]
    },
    {
     "name": "stderr",
     "output_type": "stream",
     "text": [
      "[Stage 146:==============================>                        (12 + 2) / 22]\r"
     ]
    },
    {
     "name": "stdout",
     "output_type": "stream",
     "text": [
      "22/12/08 14:55:59 WARN MemoryStore: Not enough space to cache rdd_291_13 in memory! (computed 41.6 MiB so far)\n"
     ]
    },
    {
     "name": "stderr",
     "output_type": "stream",
     "text": [
      "[Stage 146:================================>                      (13 + 2) / 22]\r"
     ]
    },
    {
     "name": "stdout",
     "output_type": "stream",
     "text": [
      "22/12/08 14:56:08 WARN MemoryStore: Not enough space to cache rdd_291_14 in memory! (computed 334.4 MiB so far)\n"
     ]
    },
    {
     "name": "stderr",
     "output_type": "stream",
     "text": [
      "[Stage 146:===================================>                   (14 + 2) / 22]\r"
     ]
    },
    {
     "name": "stdout",
     "output_type": "stream",
     "text": [
      "22/12/08 14:56:09 WARN MemoryStore: Not enough space to cache rdd_291_15 in memory! (computed 41.6 MiB so far)\n"
     ]
    },
    {
     "name": "stderr",
     "output_type": "stream",
     "text": [
      "[Stage 146:=====================================>                 (15 + 2) / 22]\r"
     ]
    },
    {
     "name": "stdout",
     "output_type": "stream",
     "text": [
      "22/12/08 14:56:19 WARN MemoryStore: Not enough space to cache rdd_291_16 in memory! (computed 334.4 MiB so far)\n"
     ]
    },
    {
     "name": "stderr",
     "output_type": "stream",
     "text": [
      "[Stage 146:========================================>              (16 + 2) / 22]\r"
     ]
    },
    {
     "name": "stdout",
     "output_type": "stream",
     "text": [
      "22/12/08 14:56:19 WARN MemoryStore: Not enough space to cache rdd_291_17 in memory! (computed 41.6 MiB so far)\n"
     ]
    },
    {
     "name": "stderr",
     "output_type": "stream",
     "text": [
      "[Stage 152:=====>                                                  (2 + 2) / 22]\r"
     ]
    },
    {
     "name": "stdout",
     "output_type": "stream",
     "text": [
      "22/12/08 14:56:45 WARN MemoryStore: Not enough space to cache rdd_291_3 in memory! (computed 148.3 MiB so far)\n",
      "22/12/08 14:56:45 WARN MemoryStore: Not enough space to cache rdd_291_2 in memory! (computed 222.4 MiB so far)\n"
     ]
    },
    {
     "name": "stderr",
     "output_type": "stream",
     "text": [
      "[Stage 152:==========>                                             (4 + 2) / 22]\r"
     ]
    },
    {
     "name": "stdout",
     "output_type": "stream",
     "text": [
      "22/12/08 14:56:55 WARN MemoryStore: Not enough space to cache rdd_291_4 in memory! (computed 222.4 MiB so far)\n",
      "22/12/08 14:56:55 WARN MemoryStore: Not enough space to cache rdd_291_5 in memory! (computed 148.3 MiB so far)\n"
     ]
    },
    {
     "name": "stderr",
     "output_type": "stream",
     "text": [
      "[Stage 152:===============>                                        (6 + 2) / 22]\r"
     ]
    },
    {
     "name": "stdout",
     "output_type": "stream",
     "text": [
      "22/12/08 14:57:05 WARN MemoryStore: Not enough space to cache rdd_291_6 in memory! (computed 222.4 MiB so far)\n",
      "22/12/08 14:57:06 WARN MemoryStore: Not enough space to cache rdd_291_7 in memory! (computed 148.3 MiB so far)\n"
     ]
    },
    {
     "name": "stderr",
     "output_type": "stream",
     "text": [
      "[Stage 152:====================>                                   (8 + 2) / 22]\r"
     ]
    },
    {
     "name": "stdout",
     "output_type": "stream",
     "text": [
      "22/12/08 14:57:17 WARN MemoryStore: Not enough space to cache rdd_291_9 in memory! (computed 41.6 MiB so far)\n",
      "22/12/08 14:57:18 WARN MemoryStore: Not enough space to cache rdd_291_8 in memory! (computed 334.4 MiB so far)\n"
     ]
    },
    {
     "name": "stderr",
     "output_type": "stream",
     "text": [
      "[Stage 152:=========================>                             (10 + 2) / 22]\r"
     ]
    },
    {
     "name": "stdout",
     "output_type": "stream",
     "text": [
      "22/12/08 14:57:27 WARN MemoryStore: Not enough space to cache rdd_291_10 in memory! (computed 334.4 MiB so far)\n",
      "22/12/08 14:57:27 WARN MemoryStore: Not enough space to cache rdd_291_11 in memory! (computed 41.6 MiB so far)\n"
     ]
    },
    {
     "name": "stderr",
     "output_type": "stream",
     "text": [
      "[Stage 152:===========================>                           (11 + 2) / 22]\r"
     ]
    },
    {
     "name": "stdout",
     "output_type": "stream",
     "text": [
      "22/12/08 14:57:36 WARN MemoryStore: Not enough space to cache rdd_291_12 in memory! (computed 334.4 MiB so far)\n"
     ]
    },
    {
     "name": "stderr",
     "output_type": "stream",
     "text": [
      "[Stage 152:==============================>                        (12 + 2) / 22]\r"
     ]
    },
    {
     "name": "stdout",
     "output_type": "stream",
     "text": [
      "22/12/08 14:57:39 WARN MemoryStore: Not enough space to cache rdd_291_13 in memory! (computed 41.6 MiB so far)\n"
     ]
    },
    {
     "name": "stderr",
     "output_type": "stream",
     "text": [
      "[Stage 152:================================>                      (13 + 2) / 22]\r"
     ]
    },
    {
     "name": "stdout",
     "output_type": "stream",
     "text": [
      "22/12/08 14:57:50 WARN MemoryStore: Not enough space to cache rdd_291_14 in memory! (computed 334.4 MiB so far)\n"
     ]
    },
    {
     "name": "stderr",
     "output_type": "stream",
     "text": [
      "[Stage 152:===================================>                   (14 + 2) / 22]\r"
     ]
    },
    {
     "name": "stdout",
     "output_type": "stream",
     "text": [
      "22/12/08 14:57:51 WARN MemoryStore: Not enough space to cache rdd_291_15 in memory! (computed 41.6 MiB so far)\n"
     ]
    },
    {
     "name": "stderr",
     "output_type": "stream",
     "text": [
      "[Stage 152:=====================================>                 (15 + 2) / 22]\r"
     ]
    },
    {
     "name": "stdout",
     "output_type": "stream",
     "text": [
      "22/12/08 14:58:01 WARN MemoryStore: Not enough space to cache rdd_291_16 in memory! (computed 334.4 MiB so far)\n"
     ]
    },
    {
     "name": "stderr",
     "output_type": "stream",
     "text": [
      "[Stage 152:========================================>              (16 + 2) / 22]\r"
     ]
    },
    {
     "name": "stdout",
     "output_type": "stream",
     "text": [
      "22/12/08 14:58:01 WARN MemoryStore: Not enough space to cache rdd_291_17 in memory! (computed 41.6 MiB so far)\n"
     ]
    },
    {
     "name": "stderr",
     "output_type": "stream",
     "text": [
      "[Stage 158:=====>                                                  (2 + 2) / 22]\r"
     ]
    },
    {
     "name": "stdout",
     "output_type": "stream",
     "text": [
      "22/12/08 14:58:26 WARN MemoryStore: Not enough space to cache rdd_291_3 in memory! (computed 148.3 MiB so far)\n",
      "22/12/08 14:58:26 WARN MemoryStore: Not enough space to cache rdd_291_2 in memory! (computed 222.4 MiB so far)\n"
     ]
    },
    {
     "name": "stderr",
     "output_type": "stream",
     "text": [
      "[Stage 158:==========>                                             (4 + 2) / 22]\r"
     ]
    },
    {
     "name": "stdout",
     "output_type": "stream",
     "text": [
      "22/12/08 14:58:39 WARN MemoryStore: Not enough space to cache rdd_291_5 in memory! (computed 148.3 MiB so far)\n",
      "22/12/08 14:58:39 WARN MemoryStore: Not enough space to cache rdd_291_4 in memory! (computed 222.4 MiB so far)\n"
     ]
    },
    {
     "name": "stderr",
     "output_type": "stream",
     "text": [
      "[Stage 158:===============>                                        (6 + 2) / 22]\r"
     ]
    },
    {
     "name": "stdout",
     "output_type": "stream",
     "text": [
      "22/12/08 14:58:50 WARN MemoryStore: Not enough space to cache rdd_291_7 in memory! (computed 148.3 MiB so far)\n",
      "22/12/08 14:58:50 WARN MemoryStore: Not enough space to cache rdd_291_6 in memory! (computed 222.4 MiB so far)\n"
     ]
    },
    {
     "name": "stderr",
     "output_type": "stream",
     "text": [
      "[Stage 158:====================>                                   (8 + 2) / 22]\r"
     ]
    },
    {
     "name": "stdout",
     "output_type": "stream",
     "text": [
      "22/12/08 14:59:00 WARN MemoryStore: Not enough space to cache rdd_291_8 in memory! (computed 222.4 MiB so far)\n",
      "22/12/08 14:59:01 WARN MemoryStore: Not enough space to cache rdd_291_9 in memory! (computed 148.3 MiB so far)\n"
     ]
    },
    {
     "name": "stderr",
     "output_type": "stream",
     "text": [
      "[Stage 158:=========================>                             (10 + 2) / 22]\r"
     ]
    },
    {
     "name": "stdout",
     "output_type": "stream",
     "text": [
      "22/12/08 14:59:13 WARN MemoryStore: Not enough space to cache rdd_291_10 in memory! (computed 222.4 MiB so far)\n",
      "22/12/08 14:59:14 WARN MemoryStore: Not enough space to cache rdd_291_11 in memory! (computed 148.3 MiB so far)\n"
     ]
    },
    {
     "name": "stderr",
     "output_type": "stream",
     "text": [
      "[Stage 158:===========================>                           (11 + 2) / 22]\r"
     ]
    },
    {
     "name": "stdout",
     "output_type": "stream",
     "text": [
      "22/12/08 14:59:24 WARN MemoryStore: Not enough space to cache rdd_291_12 in memory! (computed 334.4 MiB so far)\n"
     ]
    },
    {
     "name": "stderr",
     "output_type": "stream",
     "text": [
      "[Stage 158:==============================>                        (12 + 2) / 22]\r"
     ]
    },
    {
     "name": "stdout",
     "output_type": "stream",
     "text": [
      "22/12/08 14:59:24 WARN MemoryStore: Not enough space to cache rdd_291_13 in memory! (computed 41.6 MiB so far)\n"
     ]
    },
    {
     "name": "stderr",
     "output_type": "stream",
     "text": [
      "[Stage 158:===================================>                   (14 + 2) / 22]\r"
     ]
    },
    {
     "name": "stdout",
     "output_type": "stream",
     "text": [
      "22/12/08 14:59:37 WARN MemoryStore: Not enough space to cache rdd_291_15 in memory! (computed 41.6 MiB so far)\n",
      "22/12/08 14:59:37 WARN MemoryStore: Not enough space to cache rdd_291_14 in memory! (computed 334.4 MiB so far)\n"
     ]
    },
    {
     "name": "stderr",
     "output_type": "stream",
     "text": [
      "[Stage 158:========================================>              (16 + 2) / 22]\r"
     ]
    },
    {
     "name": "stdout",
     "output_type": "stream",
     "text": [
      "22/12/08 14:59:49 WARN MemoryStore: Not enough space to cache rdd_291_17 in memory! (computed 41.6 MiB so far)\n",
      "22/12/08 14:59:49 WARN MemoryStore: Not enough space to cache rdd_291_16 in memory! (computed 334.4 MiB so far)\n"
     ]
    },
    {
     "name": "stderr",
     "output_type": "stream",
     "text": [
      "                                                                                \r"
     ]
    }
   ],
   "source": [
    "rf_model = rf.fit(training)"
   ]
  },
  {
   "cell_type": "code",
   "execution_count": 76,
   "id": "f8678850",
   "metadata": {
    "execution": {
     "iopub.execute_input": "2022-12-08T15:00:08.366085Z",
     "iopub.status.busy": "2022-12-08T15:00:08.362623Z",
     "iopub.status.idle": "2022-12-08T15:00:08.375878Z",
     "shell.execute_reply": "2022-12-08T15:00:08.374338Z"
    },
    "id": "Tsnqwu7nWJA_",
    "papermill": {
     "duration": 0.140806,
     "end_time": "2022-12-08T15:00:08.380225",
     "exception": false,
     "start_time": "2022-12-08T15:00:08.239419",
     "status": "completed"
    },
    "tags": []
   },
   "outputs": [],
   "source": [
    "# rf_model = RandomForestRegressionModel.load('/kaggle/input/bd-models/rf_model')"
   ]
  },
  {
   "cell_type": "code",
   "execution_count": 77,
   "id": "f5858170",
   "metadata": {
    "execution": {
     "iopub.execute_input": "2022-12-08T15:00:08.568156Z",
     "iopub.status.busy": "2022-12-08T15:00:08.567715Z",
     "iopub.status.idle": "2022-12-08T15:00:09.304572Z",
     "shell.execute_reply": "2022-12-08T15:00:09.303425Z"
    },
    "id": "frc20jb_H0b9",
    "papermill": {
     "duration": 0.834993,
     "end_time": "2022-12-08T15:00:09.307676",
     "exception": false,
     "start_time": "2022-12-08T15:00:08.472683",
     "status": "completed"
    },
    "tags": []
   },
   "outputs": [
    {
     "name": "stderr",
     "output_type": "stream",
     "text": [
      "WARNING: An illegal reflective access operation has occurred\n",
      "WARNING: Illegal reflective access by org.apache.spark.util.SizeEstimator$ (file:/opt/conda/lib/python3.7/site-packages/pyspark/jars/spark-core_2.12-3.3.1.jar) to field java.nio.charset.Charset.name\n",
      "WARNING: Please consider reporting this to the maintainers of org.apache.spark.util.SizeEstimator$\n",
      "WARNING: Use --illegal-access=warn to enable warnings of further illegal reflective access operations\n",
      "WARNING: All illegal access operations will be denied in a future release\n"
     ]
    }
   ],
   "source": [
    "valid = rf_model.transform(valid)"
   ]
  },
  {
   "cell_type": "code",
   "execution_count": 78,
   "id": "54932853",
   "metadata": {
    "execution": {
     "iopub.execute_input": "2022-12-08T15:00:09.591105Z",
     "iopub.status.busy": "2022-12-08T15:00:09.590588Z",
     "iopub.status.idle": "2022-12-08T15:00:09.629017Z",
     "shell.execute_reply": "2022-12-08T15:00:09.627887Z"
    },
    "id": "G5T4mugU9PKx",
    "papermill": {
     "duration": 0.139619,
     "end_time": "2022-12-08T15:00:09.632793",
     "exception": false,
     "start_time": "2022-12-08T15:00:09.493174",
     "status": "completed"
    },
    "tags": []
   },
   "outputs": [],
   "source": [
    "valid = valid.withColumnRenamed(\"prediction\", \"preds_2\")"
   ]
  },
  {
   "cell_type": "code",
   "execution_count": 79,
   "id": "3810026e",
   "metadata": {
    "execution": {
     "iopub.execute_input": "2022-12-08T15:00:09.794507Z",
     "iopub.status.busy": "2022-12-08T15:00:09.794118Z",
     "iopub.status.idle": "2022-12-08T15:00:09.860344Z",
     "shell.execute_reply": "2022-12-08T15:00:09.859167Z"
    },
    "id": "uq_ybHXt9aTu",
    "papermill": {
     "duration": 0.135792,
     "end_time": "2022-12-08T15:00:09.864046",
     "exception": false,
     "start_time": "2022-12-08T15:00:09.728254",
     "status": "completed"
    },
    "tags": []
   },
   "outputs": [],
   "source": [
    "test = rf_model.transform(test)"
   ]
  },
  {
   "cell_type": "code",
   "execution_count": 80,
   "id": "8a08b09f",
   "metadata": {
    "execution": {
     "iopub.execute_input": "2022-12-08T15:00:10.042846Z",
     "iopub.status.busy": "2022-12-08T15:00:10.042463Z",
     "iopub.status.idle": "2022-12-08T15:00:10.059429Z",
     "shell.execute_reply": "2022-12-08T15:00:10.058378Z"
    },
    "id": "NeKTthFH9apg",
    "papermill": {
     "duration": 0.09092,
     "end_time": "2022-12-08T15:00:10.061775",
     "exception": false,
     "start_time": "2022-12-08T15:00:09.970855",
     "status": "completed"
    },
    "tags": []
   },
   "outputs": [],
   "source": [
    "test = test.withColumnRenamed(\"prediction\", \"preds_2\")"
   ]
  },
  {
   "cell_type": "code",
   "execution_count": 81,
   "id": "58c0b9dc",
   "metadata": {
    "execution": {
     "iopub.execute_input": "2022-12-08T15:00:10.190439Z",
     "iopub.status.busy": "2022-12-08T15:00:10.190078Z",
     "iopub.status.idle": "2022-12-08T15:17:17.860615Z",
     "shell.execute_reply": "2022-12-08T15:17:17.859234Z"
    },
    "id": "tUA4tTQJH0cC",
    "papermill": {
     "duration": 1027.738289,
     "end_time": "2022-12-08T15:17:17.863269",
     "exception": false,
     "start_time": "2022-12-08T15:00:10.124980",
     "status": "completed"
    },
    "tags": []
   },
   "outputs": [
    {
     "name": "stderr",
     "output_type": "stream",
     "text": [
      "                                                                                \r"
     ]
    }
   ],
   "source": [
    "evaluator = RegressionEvaluator(metricName=\"rmse\", labelCol=\"my_score\", predictionCol=\"preds_2\")\n",
    "rmse = evaluator.evaluate(valid)"
   ]
  },
  {
   "cell_type": "code",
   "execution_count": 82,
   "id": "8dc47303",
   "metadata": {
    "execution": {
     "iopub.execute_input": "2022-12-08T15:17:18.007865Z",
     "iopub.status.busy": "2022-12-08T15:17:18.007505Z",
     "iopub.status.idle": "2022-12-08T15:17:18.013156Z",
     "shell.execute_reply": "2022-12-08T15:17:18.012116Z"
    },
    "id": "aTtZwLBWJSj5",
    "papermill": {
     "duration": 0.082418,
     "end_time": "2022-12-08T15:17:18.016424",
     "exception": false,
     "start_time": "2022-12-08T15:17:17.934006",
     "status": "completed"
    },
    "tags": []
   },
   "outputs": [
    {
     "name": "stdout",
     "output_type": "stream",
     "text": [
      "RMSE:1.5836486450873215\n"
     ]
    }
   ],
   "source": [
    "print(\"RMSE:\" + str(rmse))"
   ]
  },
  {
   "cell_type": "markdown",
   "id": "8409ed38",
   "metadata": {
    "id": "TZWmsauiRYe8",
    "papermill": {
     "duration": 0.068783,
     "end_time": "2022-12-08T15:17:18.151223",
     "exception": false,
     "start_time": "2022-12-08T15:17:18.082440",
     "status": "completed"
    },
    "tags": []
   },
   "source": [
    "Linear Regression"
   ]
  },
  {
   "cell_type": "code",
   "execution_count": 83,
   "id": "3a6f4877",
   "metadata": {
    "execution": {
     "iopub.execute_input": "2022-12-08T15:17:18.287895Z",
     "iopub.status.busy": "2022-12-08T15:17:18.287547Z",
     "iopub.status.idle": "2022-12-08T15:17:18.292411Z",
     "shell.execute_reply": "2022-12-08T15:17:18.291400Z"
    },
    "id": "SIRlv4zsLFgd",
    "papermill": {
     "duration": 0.077081,
     "end_time": "2022-12-08T15:17:18.294518",
     "exception": false,
     "start_time": "2022-12-08T15:17:18.217437",
     "status": "completed"
    },
    "tags": []
   },
   "outputs": [],
   "source": [
    "from pyspark.ml.regression import LinearRegression, LinearRegressionModel\n",
    "from pyspark.ml.feature import StandardScaler, StandardScalerModel"
   ]
  },
  {
   "cell_type": "code",
   "execution_count": 84,
   "id": "d82e6439",
   "metadata": {
    "execution": {
     "iopub.execute_input": "2022-12-08T15:17:18.427021Z",
     "iopub.status.busy": "2022-12-08T15:17:18.426615Z",
     "iopub.status.idle": "2022-12-08T15:17:18.444824Z",
     "shell.execute_reply": "2022-12-08T15:17:18.443943Z"
    },
    "id": "-osYlAEHtCh_",
    "papermill": {
     "duration": 0.088182,
     "end_time": "2022-12-08T15:17:18.447204",
     "exception": false,
     "start_time": "2022-12-08T15:17:18.359022",
     "status": "completed"
    },
    "tags": []
   },
   "outputs": [],
   "source": [
    "scaler = StandardScaler(inputCol=\"features\", \n",
    "                        outputCol=\"std_features\",\n",
    "                        withStd=True, withMean=True)"
   ]
  },
  {
   "cell_type": "code",
   "execution_count": 85,
   "id": "e65ca17e",
   "metadata": {
    "execution": {
     "iopub.execute_input": "2022-12-08T15:17:18.583098Z",
     "iopub.status.busy": "2022-12-08T15:17:18.582725Z",
     "iopub.status.idle": "2022-12-08T15:26:16.192649Z",
     "shell.execute_reply": "2022-12-08T15:26:16.191510Z"
    },
    "id": "HzZFW8H51jrT",
    "papermill": {
     "duration": 537.681688,
     "end_time": "2022-12-08T15:26:16.196234",
     "exception": false,
     "start_time": "2022-12-08T15:17:18.514546",
     "status": "completed"
    },
    "tags": []
   },
   "outputs": [
    {
     "name": "stderr",
     "output_type": "stream",
     "text": [
      "                                                                                \r"
     ]
    }
   ],
   "source": [
    "model_scaler = scaler.fit(training)"
   ]
  },
  {
   "cell_type": "code",
   "execution_count": 86,
   "id": "0c909fc2",
   "metadata": {
    "execution": {
     "iopub.execute_input": "2022-12-08T15:26:16.419134Z",
     "iopub.status.busy": "2022-12-08T15:26:16.418648Z",
     "iopub.status.idle": "2022-12-08T15:26:16.423368Z",
     "shell.execute_reply": "2022-12-08T15:26:16.422495Z"
    },
    "id": "yADr4MzX1cZR",
    "papermill": {
     "duration": 0.116575,
     "end_time": "2022-12-08T15:26:16.428264",
     "exception": false,
     "start_time": "2022-12-08T15:26:16.311689",
     "status": "completed"
    },
    "tags": []
   },
   "outputs": [],
   "source": [
    "# model_scaler = StandardScalerModel.load('/kaggle/input/bd-models/scaler_model')"
   ]
  },
  {
   "cell_type": "code",
   "execution_count": 87,
   "id": "b81873f6",
   "metadata": {
    "execution": {
     "iopub.execute_input": "2022-12-08T15:26:16.638478Z",
     "iopub.status.busy": "2022-12-08T15:26:16.638008Z",
     "iopub.status.idle": "2022-12-08T15:26:16.801898Z",
     "shell.execute_reply": "2022-12-08T15:26:16.800840Z"
    },
    "id": "6IeOYViPyBBX",
    "papermill": {
     "duration": 0.271051,
     "end_time": "2022-12-08T15:26:16.805372",
     "exception": false,
     "start_time": "2022-12-08T15:26:16.534321",
     "status": "completed"
    },
    "tags": []
   },
   "outputs": [],
   "source": [
    "training = model_scaler.transform(training)\n",
    "valid = model_scaler.transform(valid)\n",
    "test = model_scaler.transform(test)"
   ]
  },
  {
   "cell_type": "code",
   "execution_count": 88,
   "id": "189ca8f1",
   "metadata": {
    "execution": {
     "iopub.execute_input": "2022-12-08T15:26:16.971680Z",
     "iopub.status.busy": "2022-12-08T15:26:16.971348Z",
     "iopub.status.idle": "2022-12-08T15:26:17.054153Z",
     "shell.execute_reply": "2022-12-08T15:26:17.053053Z"
    },
    "id": "eccLttqTVGjV",
    "papermill": {
     "duration": 0.154975,
     "end_time": "2022-12-08T15:26:17.056585",
     "exception": false,
     "start_time": "2022-12-08T15:26:16.901610",
     "status": "completed"
    },
    "tags": []
   },
   "outputs": [],
   "source": [
    "lm = LinearRegression(featuresCol='std_features', labelCol='my_score', maxIter=10)"
   ]
  },
  {
   "cell_type": "code",
   "execution_count": 89,
   "id": "c4f95467",
   "metadata": {
    "execution": {
     "iopub.execute_input": "2022-12-08T15:26:17.198904Z",
     "iopub.status.busy": "2022-12-08T15:26:17.198547Z",
     "iopub.status.idle": "2022-12-08T16:09:10.907092Z",
     "shell.execute_reply": "2022-12-08T16:09:10.905984Z"
    },
    "id": "sXTPjqn0tUgX",
    "papermill": {
     "duration": 2573.787774,
     "end_time": "2022-12-08T16:09:10.914287",
     "exception": false,
     "start_time": "2022-12-08T15:26:17.126513",
     "status": "completed"
    },
    "tags": []
   },
   "outputs": [
    {
     "name": "stderr",
     "output_type": "stream",
     "text": [
      "[Stage 217:================================================>        (6 + 1) / 7]\r"
     ]
    },
    {
     "name": "stdout",
     "output_type": "stream",
     "text": [
      "22/12/08 15:33:43 WARN Instrumentation: [648181a8] regParam is zero, which might cause numerical instability and overfitting.\n"
     ]
    },
    {
     "name": "stderr",
     "output_type": "stream",
     "text": [
      "                                                                                \r"
     ]
    }
   ],
   "source": [
    "lr_model = lm.fit(training)"
   ]
  },
  {
   "cell_type": "code",
   "execution_count": 90,
   "id": "79f1a3f9",
   "metadata": {
    "execution": {
     "iopub.execute_input": "2022-12-08T16:09:11.095506Z",
     "iopub.status.busy": "2022-12-08T16:09:11.094718Z",
     "iopub.status.idle": "2022-12-08T16:09:11.102848Z",
     "shell.execute_reply": "2022-12-08T16:09:11.101883Z"
    },
    "id": "AcPodjgzWyv_",
    "papermill": {
     "duration": 0.100123,
     "end_time": "2022-12-08T16:09:11.105071",
     "exception": false,
     "start_time": "2022-12-08T16:09:11.004948",
     "status": "completed"
    },
    "tags": []
   },
   "outputs": [],
   "source": [
    "# lr_model = LinearRegressionModel.load('/kaggle/input/bd-models/lr_model')"
   ]
  },
  {
   "cell_type": "code",
   "execution_count": 91,
   "id": "872af0eb",
   "metadata": {
    "execution": {
     "iopub.execute_input": "2022-12-08T16:09:11.277030Z",
     "iopub.status.busy": "2022-12-08T16:09:11.276631Z",
     "iopub.status.idle": "2022-12-08T16:09:11.411204Z",
     "shell.execute_reply": "2022-12-08T16:09:11.410108Z"
    },
    "id": "0YGE6pIMkbTI",
    "papermill": {
     "duration": 0.22398,
     "end_time": "2022-12-08T16:09:11.414051",
     "exception": false,
     "start_time": "2022-12-08T16:09:11.190071",
     "status": "completed"
    },
    "tags": []
   },
   "outputs": [],
   "source": [
    "valid = lr_model.transform(valid)\n",
    "test = lr_model.transform(test)"
   ]
  },
  {
   "cell_type": "code",
   "execution_count": 92,
   "id": "530912ec",
   "metadata": {
    "execution": {
     "iopub.execute_input": "2022-12-08T16:09:11.584886Z",
     "iopub.status.busy": "2022-12-08T16:09:11.584500Z",
     "iopub.status.idle": "2022-12-08T16:09:11.616046Z",
     "shell.execute_reply": "2022-12-08T16:09:11.614641Z"
    },
    "id": "gh5hm2RnBWZU",
    "papermill": {
     "duration": 0.118506,
     "end_time": "2022-12-08T16:09:11.619417",
     "exception": false,
     "start_time": "2022-12-08T16:09:11.500911",
     "status": "completed"
    },
    "tags": []
   },
   "outputs": [],
   "source": [
    "valid = valid.withColumnRenamed(\"prediction\", \"preds_3\")\n",
    "test = test.withColumnRenamed(\"prediction\", \"preds_3\")"
   ]
  },
  {
   "cell_type": "code",
   "execution_count": 93,
   "id": "9a3cbde1",
   "metadata": {
    "execution": {
     "iopub.execute_input": "2022-12-08T16:09:11.806938Z",
     "iopub.status.busy": "2022-12-08T16:09:11.806558Z",
     "iopub.status.idle": "2022-12-08T16:26:11.345457Z",
     "shell.execute_reply": "2022-12-08T16:26:11.344402Z"
    },
    "id": "w-IcNordkoS9",
    "papermill": {
     "duration": 1019.625402,
     "end_time": "2022-12-08T16:26:11.347863",
     "exception": false,
     "start_time": "2022-12-08T16:09:11.722461",
     "status": "completed"
    },
    "tags": []
   },
   "outputs": [
    {
     "name": "stderr",
     "output_type": "stream",
     "text": [
      "                                                                                \r"
     ]
    }
   ],
   "source": [
    "evaluator = RegressionEvaluator(metricName=\"rmse\", labelCol=\"my_score\", predictionCol=\"preds_3\")\n",
    "rmse = evaluator.evaluate(valid)"
   ]
  },
  {
   "cell_type": "code",
   "execution_count": 94,
   "id": "a2c161b5",
   "metadata": {
    "execution": {
     "iopub.execute_input": "2022-12-08T16:26:11.522552Z",
     "iopub.status.busy": "2022-12-08T16:26:11.522198Z",
     "iopub.status.idle": "2022-12-08T16:26:11.527568Z",
     "shell.execute_reply": "2022-12-08T16:26:11.526643Z"
    },
    "id": "uQpopH9Zk5_a",
    "papermill": {
     "duration": 0.095025,
     "end_time": "2022-12-08T16:26:11.530010",
     "exception": false,
     "start_time": "2022-12-08T16:26:11.434985",
     "status": "completed"
    },
    "tags": []
   },
   "outputs": [
    {
     "name": "stdout",
     "output_type": "stream",
     "text": [
      "RMSE:1.569880223422923\n"
     ]
    }
   ],
   "source": [
    "print(\"RMSE:\" + str(rmse))"
   ]
  },
  {
   "cell_type": "markdown",
   "id": "42346cd9",
   "metadata": {
    "id": "JqrhacqtRUbm",
    "papermill": {
     "duration": 0.088607,
     "end_time": "2022-12-08T16:26:11.703141",
     "exception": false,
     "start_time": "2022-12-08T16:26:11.614534",
     "status": "completed"
    },
    "tags": []
   },
   "source": [
    "ALS"
   ]
  },
  {
   "cell_type": "code",
   "execution_count": 95,
   "id": "56e631bc",
   "metadata": {
    "execution": {
     "iopub.execute_input": "2022-12-08T16:26:11.874700Z",
     "iopub.status.busy": "2022-12-08T16:26:11.874318Z",
     "iopub.status.idle": "2022-12-08T16:26:11.879109Z",
     "shell.execute_reply": "2022-12-08T16:26:11.877942Z"
    },
    "id": "sjpPjrPbRUbn",
    "papermill": {
     "duration": 0.092653,
     "end_time": "2022-12-08T16:26:11.881265",
     "exception": false,
     "start_time": "2022-12-08T16:26:11.788612",
     "status": "completed"
    },
    "tags": []
   },
   "outputs": [],
   "source": [
    "from pyspark.ml.recommendation import ALS, ALSModel\n",
    "from pyspark.ml.tuning import ParamGridBuilder, TrainValidationSplit"
   ]
  },
  {
   "cell_type": "code",
   "execution_count": 96,
   "id": "037fabb5",
   "metadata": {
    "execution": {
     "iopub.execute_input": "2022-12-08T16:26:12.051749Z",
     "iopub.status.busy": "2022-12-08T16:26:12.051393Z",
     "iopub.status.idle": "2022-12-08T16:26:12.143259Z",
     "shell.execute_reply": "2022-12-08T16:26:12.142005Z"
    },
    "id": "2vGsAucTRUbn",
    "papermill": {
     "duration": 0.180775,
     "end_time": "2022-12-08T16:26:12.146403",
     "exception": false,
     "start_time": "2022-12-08T16:26:11.965628",
     "status": "completed"
    },
    "tags": []
   },
   "outputs": [],
   "source": [
    "als = ALS(userCol=\"user_id\", itemCol=\"anime_id\", ratingCol=\"my_score\", coldStartStrategy=\"drop\")\n",
    "\n",
    "param_grid = ParamGridBuilder().addGrid(als.rank, [25]) \\\n",
    "                               .addGrid(als.regParam, [0.1, 0.15]) \\\n",
    "                               .addGrid(als.maxIter, [10]) \\\n",
    "                               .build()"
   ]
  },
  {
   "cell_type": "code",
   "execution_count": 97,
   "id": "0ab6478b",
   "metadata": {
    "execution": {
     "iopub.execute_input": "2022-12-08T16:26:12.411045Z",
     "iopub.status.busy": "2022-12-08T16:26:12.410461Z",
     "iopub.status.idle": "2022-12-08T16:26:12.423856Z",
     "shell.execute_reply": "2022-12-08T16:26:12.422948Z"
    },
    "id": "ZQTIZ0OYRUbp",
    "papermill": {
     "duration": 0.147789,
     "end_time": "2022-12-08T16:26:12.426387",
     "exception": false,
     "start_time": "2022-12-08T16:26:12.278598",
     "status": "completed"
    },
    "tags": []
   },
   "outputs": [],
   "source": [
    "tvs = TrainValidationSplit(estimator=als,\n",
    "                           estimatorParamMaps=param_grid,\n",
    "                           evaluator=RegressionEvaluator(metricName=\"rmse\", labelCol=\"my_score\", predictionCol=\"prediction\"),\n",
    "                           trainRatio=0.8)"
   ]
  },
  {
   "cell_type": "code",
   "execution_count": 98,
   "id": "dd1774a8",
   "metadata": {
    "execution": {
     "iopub.execute_input": "2022-12-08T16:26:12.621836Z",
     "iopub.status.busy": "2022-12-08T16:26:12.621489Z",
     "iopub.status.idle": "2022-12-08T16:26:12.626225Z",
     "shell.execute_reply": "2022-12-08T16:26:12.625264Z"
    },
    "id": "jlRKJF6erxRV",
    "papermill": {
     "duration": 0.093306,
     "end_time": "2022-12-08T16:26:12.628268",
     "exception": false,
     "start_time": "2022-12-08T16:26:12.534962",
     "status": "completed"
    },
    "tags": []
   },
   "outputs": [],
   "source": [
    "maxIter = 10\n",
    "regParam = 0.1\n",
    "rank=25"
   ]
  },
  {
   "cell_type": "code",
   "execution_count": 99,
   "id": "4333fc81",
   "metadata": {
    "execution": {
     "iopub.execute_input": "2022-12-08T16:26:12.802295Z",
     "iopub.status.busy": "2022-12-08T16:26:12.801373Z",
     "iopub.status.idle": "2022-12-08T16:26:12.815098Z",
     "shell.execute_reply": "2022-12-08T16:26:12.814150Z"
    },
    "id": "-Bp9Ge0Hrwd0",
    "papermill": {
     "duration": 0.102285,
     "end_time": "2022-12-08T16:26:12.817081",
     "exception": false,
     "start_time": "2022-12-08T16:26:12.714796",
     "status": "completed"
    },
    "tags": []
   },
   "outputs": [],
   "source": [
    "als = ALS(maxIter=maxIter, regParam=regParam, rank=rank, \n",
    "          userCol=\"user_id\", itemCol=\"anime_id\", ratingCol=\"my_score\",\n",
    "          coldStartStrategy=\"drop\")"
   ]
  },
  {
   "cell_type": "code",
   "execution_count": 100,
   "id": "c89f79d5",
   "metadata": {
    "execution": {
     "iopub.execute_input": "2022-12-08T16:26:12.991569Z",
     "iopub.status.busy": "2022-12-08T16:26:12.991217Z",
     "iopub.status.idle": "2022-12-08T20:28:44.416429Z",
     "shell.execute_reply": "2022-12-08T20:28:44.414954Z"
    },
    "id": "HWrD6kHoRUbq",
    "papermill": {
     "duration": 14551.514216,
     "end_time": "2022-12-08T20:28:44.419749",
     "exception": false,
     "start_time": "2022-12-08T16:26:12.905533",
     "status": "completed"
    },
    "tags": []
   },
   "outputs": [
    {
     "name": "stderr",
     "output_type": "stream",
     "text": [
      "                                                                                \r"
     ]
    }
   ],
   "source": [
    "als_model = als.fit(training)"
   ]
  },
  {
   "cell_type": "code",
   "execution_count": 101,
   "id": "c4a58d48",
   "metadata": {
    "execution": {
     "iopub.execute_input": "2022-12-08T20:28:44.650056Z",
     "iopub.status.busy": "2022-12-08T20:28:44.649651Z",
     "iopub.status.idle": "2022-12-08T20:28:44.655774Z",
     "shell.execute_reply": "2022-12-08T20:28:44.653913Z"
    },
    "id": "oKzUfl6Hze3G",
    "papermill": {
     "duration": 0.126763,
     "end_time": "2022-12-08T20:28:44.657911",
     "exception": false,
     "start_time": "2022-12-08T20:28:44.531148",
     "status": "completed"
    },
    "tags": []
   },
   "outputs": [],
   "source": [
    "# als_model = ALSModel.load('/kaggle/input/bd-models/als_model')"
   ]
  },
  {
   "cell_type": "code",
   "execution_count": 102,
   "id": "2cb67342",
   "metadata": {
    "execution": {
     "iopub.execute_input": "2022-12-08T20:28:44.883384Z",
     "iopub.status.busy": "2022-12-08T20:28:44.883010Z",
     "iopub.status.idle": "2022-12-08T20:28:45.027023Z",
     "shell.execute_reply": "2022-12-08T20:28:45.025975Z"
    },
    "id": "9lBmh8tIqf5g",
    "papermill": {
     "duration": 0.263343,
     "end_time": "2022-12-08T20:28:45.029839",
     "exception": false,
     "start_time": "2022-12-08T20:28:44.766496",
     "status": "completed"
    },
    "tags": []
   },
   "outputs": [],
   "source": [
    "valid = als_model.transform(valid)\n",
    "test = als_model.transform(test)"
   ]
  },
  {
   "cell_type": "code",
   "execution_count": 103,
   "id": "007780db",
   "metadata": {
    "execution": {
     "iopub.execute_input": "2022-12-08T20:28:45.277634Z",
     "iopub.status.busy": "2022-12-08T20:28:45.277266Z",
     "iopub.status.idle": "2022-12-08T20:28:45.307804Z",
     "shell.execute_reply": "2022-12-08T20:28:45.306735Z"
    },
    "id": "L2HxA7nfDeJZ",
    "papermill": {
     "duration": 0.145733,
     "end_time": "2022-12-08T20:28:45.310830",
     "exception": false,
     "start_time": "2022-12-08T20:28:45.165097",
     "status": "completed"
    },
    "tags": []
   },
   "outputs": [],
   "source": [
    "valid = valid.withColumnRenamed(\"prediction\", \"preds_4\")\n",
    "test = test.withColumnRenamed(\"prediction\", \"preds_4\")"
   ]
  },
  {
   "cell_type": "code",
   "execution_count": 104,
   "id": "cf778626",
   "metadata": {
    "execution": {
     "iopub.execute_input": "2022-12-08T20:28:45.539860Z",
     "iopub.status.busy": "2022-12-08T20:28:45.539517Z",
     "iopub.status.idle": "2022-12-08T20:45:53.271077Z",
     "shell.execute_reply": "2022-12-08T20:45:53.269999Z"
    },
    "id": "2ZNSMm0Wql1R",
    "papermill": {
     "duration": 1027.846155,
     "end_time": "2022-12-08T20:45:53.275037",
     "exception": false,
     "start_time": "2022-12-08T20:28:45.428882",
     "status": "completed"
    },
    "tags": []
   },
   "outputs": [
    {
     "name": "stderr",
     "output_type": "stream",
     "text": [
      "                                                                                \r"
     ]
    }
   ],
   "source": [
    "evaluator = RegressionEvaluator(metricName=\"rmse\", labelCol=\"my_score\", predictionCol=\"preds_4\")\n",
    "rmse = evaluator.evaluate(valid)"
   ]
  },
  {
   "cell_type": "code",
   "execution_count": 105,
   "id": "4e5ae5b1",
   "metadata": {
    "execution": {
     "iopub.execute_input": "2022-12-08T20:45:53.577558Z",
     "iopub.status.busy": "2022-12-08T20:45:53.576490Z",
     "iopub.status.idle": "2022-12-08T20:45:53.583170Z",
     "shell.execute_reply": "2022-12-08T20:45:53.581949Z"
    },
    "id": "JoJXFg1lRUb7",
    "papermill": {
     "duration": 0.162136,
     "end_time": "2022-12-08T20:45:53.585358",
     "exception": false,
     "start_time": "2022-12-08T20:45:53.423222",
     "status": "completed"
    },
    "tags": []
   },
   "outputs": [
    {
     "name": "stdout",
     "output_type": "stream",
     "text": [
      "RMSE:1.2200258317584438\n"
     ]
    }
   ],
   "source": [
    "print(\"RMSE:\" + str(rmse))"
   ]
  },
  {
   "cell_type": "code",
   "execution_count": 106,
   "id": "3ccfc525",
   "metadata": {
    "execution": {
     "iopub.execute_input": "2022-12-08T20:45:53.983290Z",
     "iopub.status.busy": "2022-12-08T20:45:53.982717Z",
     "iopub.status.idle": "2022-12-08T20:45:54.365019Z",
     "shell.execute_reply": "2022-12-08T20:45:54.363965Z"
    },
    "papermill": {
     "duration": 0.576293,
     "end_time": "2022-12-08T20:45:54.367579",
     "exception": false,
     "start_time": "2022-12-08T20:45:53.791286",
     "status": "completed"
    },
    "tags": []
   },
   "outputs": [],
   "source": [
    "userRecs = als_model.recommendForAllUsers(10)"
   ]
  },
  {
   "cell_type": "code",
   "execution_count": 107,
   "id": "9ef28c4b",
   "metadata": {
    "execution": {
     "iopub.execute_input": "2022-12-08T20:45:54.691049Z",
     "iopub.status.busy": "2022-12-08T20:45:54.690383Z",
     "iopub.status.idle": "2022-12-08T20:48:47.812681Z",
     "shell.execute_reply": "2022-12-08T20:48:47.811578Z"
    },
    "papermill": {
     "duration": 173.329709,
     "end_time": "2022-12-08T20:48:47.815899",
     "exception": false,
     "start_time": "2022-12-08T20:45:54.486190",
     "status": "completed"
    },
    "tags": []
   },
   "outputs": [
    {
     "name": "stderr",
     "output_type": "stream",
     "text": [
      "[Stage 517:=====================================================>(99 + 1) / 100]\r"
     ]
    },
    {
     "name": "stdout",
     "output_type": "stream",
     "text": [
      "+-------+-----------------------------------------------------------------------------------------------------------------------------------------------------------------------------------------------------+\n",
      "|user_id|recommendations                                                                                                                                                                                      |\n",
      "+-------+-----------------------------------------------------------------------------------------------------------------------------------------------------------------------------------------------------+\n",
      "|1      |[{37105, 11.355072}, {35035, 10.00731}, {35055, 10.00731}, {35058, 10.00731}, {31004, 9.936791}, {26293, 8.943113}, {33607, 8.81378}, {44, 8.792454}, {25065, 8.738379}, {5114, 8.728648}]           |\n",
      "|44     |[{37105, 10.309638}, {820, 8.633801}, {2921, 8.26084}, {3297, 8.210474}, {35055, 8.09686}, {35035, 8.09686}, {35058, 8.09686}, {31004, 8.06693}, {32, 7.9826703}, {7785, 7.9292636}]                 |\n",
      "|47     |[{37105, 10.234417}, {33443, 9.165988}, {35055, 9.097591}, {35035, 9.097591}, {35058, 9.097591}, {31004, 9.052402}, {4181, 8.421682}, {3297, 8.302265}, {2167, 8.210481}, {7311, 8.18116}]           |\n",
      "|53     |[{37105, 13.778849}, {31004, 11.948574}, {35035, 11.904824}, {35055, 11.904824}, {35058, 11.904824}, {33443, 10.841125}, {26293, 10.753716}, {25065, 10.508974}, {66, 10.171714}, {33828, 10.135471}]|\n",
      "|81     |[{37105, 11.421013}, {35035, 10.348327}, {35055, 10.348327}, {35058, 10.348327}, {31004, 10.212934}, {35385, 9.32618}, {26293, 9.19164}, {25065, 9.149635}, {5114, 9.125438}, {9253, 8.978613}]      |\n",
      "+-------+-----------------------------------------------------------------------------------------------------------------------------------------------------------------------------------------------------+\n",
      "only showing top 5 rows\n",
      "\n"
     ]
    },
    {
     "name": "stderr",
     "output_type": "stream",
     "text": [
      "                                                                                \r"
     ]
    }
   ],
   "source": [
    "userRecs.show(5, False)"
   ]
  },
  {
   "cell_type": "code",
   "execution_count": 108,
   "id": "87c360bb",
   "metadata": {
    "execution": {
     "iopub.execute_input": "2022-12-08T20:48:48.082424Z",
     "iopub.status.busy": "2022-12-08T20:48:48.082036Z",
     "iopub.status.idle": "2022-12-08T20:48:54.438245Z",
     "shell.execute_reply": "2022-12-08T20:48:54.437161Z"
    },
    "papermill": {
     "duration": 6.487058,
     "end_time": "2022-12-08T20:48:54.442003",
     "exception": false,
     "start_time": "2022-12-08T20:48:47.954945",
     "status": "completed"
    },
    "tags": []
   },
   "outputs": [
    {
     "name": "stderr",
     "output_type": "stream",
     "text": [
      "                                                                                \r"
     ]
    }
   ],
   "source": [
    "als_model.save('/kaggle/working/als_model')"
   ]
  },
  {
   "cell_type": "markdown",
   "id": "ba9345bd",
   "metadata": {
    "id": "ZbWvgChXqER-",
    "papermill": {
     "duration": 0.14756,
     "end_time": "2022-12-08T20:48:54.726221",
     "exception": false,
     "start_time": "2022-12-08T20:48:54.578661",
     "status": "completed"
    },
    "tags": []
   },
   "source": [
    "Ensemble"
   ]
  },
  {
   "cell_type": "code",
   "execution_count": 109,
   "id": "63f625ef",
   "metadata": {
    "execution": {
     "iopub.execute_input": "2022-12-08T20:48:54.974053Z",
     "iopub.status.busy": "2022-12-08T20:48:54.973202Z",
     "iopub.status.idle": "2022-12-08T20:48:55.539487Z",
     "shell.execute_reply": "2022-12-08T20:48:55.538313Z"
    },
    "papermill": {
     "duration": 0.6938,
     "end_time": "2022-12-08T20:48:55.542831",
     "exception": false,
     "start_time": "2022-12-08T20:48:54.849031",
     "status": "completed"
    },
    "tags": []
   },
   "outputs": [],
   "source": [
    "als_model_2 = ALSModel.load('/kaggle/working/als_model')"
   ]
  },
  {
   "cell_type": "code",
   "execution_count": 110,
   "id": "b7db7308",
   "metadata": {
    "execution": {
     "iopub.execute_input": "2022-12-08T20:48:55.801968Z",
     "iopub.status.busy": "2022-12-08T20:48:55.801582Z",
     "iopub.status.idle": "2022-12-08T20:48:58.426231Z",
     "shell.execute_reply": "2022-12-08T20:48:58.425113Z"
    },
    "papermill": {
     "duration": 2.75317,
     "end_time": "2022-12-08T20:48:58.428943",
     "exception": false,
     "start_time": "2022-12-08T20:48:55.675773",
     "status": "completed"
    },
    "tags": []
   },
   "outputs": [
    {
     "name": "stdout",
     "output_type": "stream",
     "text": [
      "  adding: kaggle/working/als_model/ (stored 0%)\r\n",
      "  adding: kaggle/working/als_model/metadata/ (stored 0%)\r\n",
      "  adding: kaggle/working/als_model/metadata/part-00000 (deflated 39%)\r\n",
      "  adding: kaggle/working/als_model/metadata/._SUCCESS.crc (stored 0%)\r\n",
      "  adding: kaggle/working/als_model/metadata/_SUCCESS (stored 0%)\r\n",
      "  adding: kaggle/working/als_model/metadata/.part-00000.crc (stored 0%)\r\n",
      "  adding: kaggle/working/als_model/userFactors/ (stored 0%)\r\n",
      "  adding: kaggle/working/als_model/userFactors/.part-00004-c89dcdbc-3778-4b99-aea7-94e938635e35-c000.snappy.parquet.crc (stored 0%)\r\n",
      "  adding: kaggle/working/als_model/userFactors/.part-00002-c89dcdbc-3778-4b99-aea7-94e938635e35-c000.snappy.parquet.crc (stored 0%)\r\n",
      "  adding: kaggle/working/als_model/userFactors/part-00001-c89dcdbc-3778-4b99-aea7-94e938635e35-c000.snappy.parquet (deflated 9%)\r\n",
      "  adding: kaggle/working/als_model/userFactors/part-00002-c89dcdbc-3778-4b99-aea7-94e938635e35-c000.snappy.parquet (deflated 9%)\r\n",
      "  adding: kaggle/working/als_model/userFactors/part-00006-c89dcdbc-3778-4b99-aea7-94e938635e35-c000.snappy.parquet (deflated 9%)\r\n",
      "  adding: kaggle/working/als_model/userFactors/.part-00006-c89dcdbc-3778-4b99-aea7-94e938635e35-c000.snappy.parquet.crc (stored 0%)\r\n",
      "  adding: kaggle/working/als_model/userFactors/.part-00009-c89dcdbc-3778-4b99-aea7-94e938635e35-c000.snappy.parquet.crc (stored 0%)\r\n",
      "  adding: kaggle/working/als_model/userFactors/part-00008-c89dcdbc-3778-4b99-aea7-94e938635e35-c000.snappy.parquet (deflated 9%)\r\n",
      "  adding: kaggle/working/als_model/userFactors/part-00003-c89dcdbc-3778-4b99-aea7-94e938635e35-c000.snappy.parquet (deflated 9%)\r\n",
      "  adding: kaggle/working/als_model/userFactors/.part-00007-c89dcdbc-3778-4b99-aea7-94e938635e35-c000.snappy.parquet.crc (stored 0%)\r\n",
      "  adding: kaggle/working/als_model/userFactors/.part-00008-c89dcdbc-3778-4b99-aea7-94e938635e35-c000.snappy.parquet.crc (stored 0%)\r\n",
      "  adding: kaggle/working/als_model/userFactors/.part-00000-c89dcdbc-3778-4b99-aea7-94e938635e35-c000.snappy.parquet.crc (stored 0%)\r\n",
      "  adding: kaggle/working/als_model/userFactors/part-00009-c89dcdbc-3778-4b99-aea7-94e938635e35-c000.snappy.parquet (deflated 9%)\r\n",
      "  adding: kaggle/working/als_model/userFactors/.part-00003-c89dcdbc-3778-4b99-aea7-94e938635e35-c000.snappy.parquet.crc (stored 0%)\r\n",
      "  adding: kaggle/working/als_model/userFactors/._SUCCESS.crc (stored 0%)\r\n",
      "  adding: kaggle/working/als_model/userFactors/part-00004-c89dcdbc-3778-4b99-aea7-94e938635e35-c000.snappy.parquet (deflated 9%)\r\n",
      "  adding: kaggle/working/als_model/userFactors/part-00005-c89dcdbc-3778-4b99-aea7-94e938635e35-c000.snappy.parquet (deflated 9%)\r\n",
      "  adding: kaggle/working/als_model/userFactors/.part-00005-c89dcdbc-3778-4b99-aea7-94e938635e35-c000.snappy.parquet.crc (stored 0%)\r\n",
      "  adding: kaggle/working/als_model/userFactors/_SUCCESS (stored 0%)\r\n",
      "  adding: kaggle/working/als_model/userFactors/part-00000-c89dcdbc-3778-4b99-aea7-94e938635e35-c000.snappy.parquet (deflated 9%)\r\n",
      "  adding: kaggle/working/als_model/userFactors/.part-00001-c89dcdbc-3778-4b99-aea7-94e938635e35-c000.snappy.parquet.crc (stored 0%)\r\n",
      "  adding: kaggle/working/als_model/userFactors/part-00007-c89dcdbc-3778-4b99-aea7-94e938635e35-c000.snappy.parquet (deflated 9%)\r\n",
      "  adding: kaggle/working/als_model/itemFactors/ (stored 0%)\r\n",
      "  adding: kaggle/working/als_model/itemFactors/.part-00009-57ef1371-dfc7-44ed-ab27-f9cb96f20f34-c000.snappy.parquet.crc (stored 0%)\r\n",
      "  adding: kaggle/working/als_model/itemFactors/.part-00006-57ef1371-dfc7-44ed-ab27-f9cb96f20f34-c000.snappy.parquet.crc (stored 0%)\r\n",
      "  adding: kaggle/working/als_model/itemFactors/.part-00004-57ef1371-dfc7-44ed-ab27-f9cb96f20f34-c000.snappy.parquet.crc (stored 0%)\r\n",
      "  adding: kaggle/working/als_model/itemFactors/part-00004-57ef1371-dfc7-44ed-ab27-f9cb96f20f34-c000.snappy.parquet (deflated 9%)\r\n",
      "  adding: kaggle/working/als_model/itemFactors/.part-00001-57ef1371-dfc7-44ed-ab27-f9cb96f20f34-c000.snappy.parquet.crc (stored 0%)\r\n",
      "  adding: kaggle/working/als_model/itemFactors/part-00000-57ef1371-dfc7-44ed-ab27-f9cb96f20f34-c000.snappy.parquet (deflated 9%)\r\n",
      "  adding: kaggle/working/als_model/itemFactors/.part-00005-57ef1371-dfc7-44ed-ab27-f9cb96f20f34-c000.snappy.parquet.crc (stored 0%)\r\n",
      "  adding: kaggle/working/als_model/itemFactors/.part-00003-57ef1371-dfc7-44ed-ab27-f9cb96f20f34-c000.snappy.parquet.crc (stored 0%)\r\n",
      "  adding: kaggle/working/als_model/itemFactors/.part-00007-57ef1371-dfc7-44ed-ab27-f9cb96f20f34-c000.snappy.parquet.crc (stored 0%)\r\n",
      "  adding: kaggle/working/als_model/itemFactors/part-00005-57ef1371-dfc7-44ed-ab27-f9cb96f20f34-c000.snappy.parquet (deflated 10%)\r\n",
      "  adding: kaggle/working/als_model/itemFactors/.part-00000-57ef1371-dfc7-44ed-ab27-f9cb96f20f34-c000.snappy.parquet.crc (stored 0%)\r\n",
      "  adding: kaggle/working/als_model/itemFactors/._SUCCESS.crc (stored 0%)\r\n",
      "  adding: kaggle/working/als_model/itemFactors/part-00006-57ef1371-dfc7-44ed-ab27-f9cb96f20f34-c000.snappy.parquet (deflated 9%)\r\n",
      "  adding: kaggle/working/als_model/itemFactors/.part-00008-57ef1371-dfc7-44ed-ab27-f9cb96f20f34-c000.snappy.parquet.crc (stored 0%)\r\n",
      "  adding: kaggle/working/als_model/itemFactors/part-00003-57ef1371-dfc7-44ed-ab27-f9cb96f20f34-c000.snappy.parquet (deflated 10%)\r\n",
      "  adding: kaggle/working/als_model/itemFactors/_SUCCESS (stored 0%)\r\n",
      "  adding: kaggle/working/als_model/itemFactors/.part-00002-57ef1371-dfc7-44ed-ab27-f9cb96f20f34-c000.snappy.parquet.crc (stored 0%)\r\n",
      "  adding: kaggle/working/als_model/itemFactors/part-00001-57ef1371-dfc7-44ed-ab27-f9cb96f20f34-c000.snappy.parquet (deflated 10%)\r\n",
      "  adding: kaggle/working/als_model/itemFactors/part-00002-57ef1371-dfc7-44ed-ab27-f9cb96f20f34-c000.snappy.parquet (deflated 9%)\r\n",
      "  adding: kaggle/working/als_model/itemFactors/part-00009-57ef1371-dfc7-44ed-ab27-f9cb96f20f34-c000.snappy.parquet (deflated 9%)\r\n",
      "  adding: kaggle/working/als_model/itemFactors/part-00008-57ef1371-dfc7-44ed-ab27-f9cb96f20f34-c000.snappy.parquet (deflated 9%)\r\n",
      "  adding: kaggle/working/als_model/itemFactors/part-00007-57ef1371-dfc7-44ed-ab27-f9cb96f20f34-c000.snappy.parquet (deflated 10%)\r\n"
     ]
    }
   ],
   "source": [
    "!zip -r file.zip /kaggle/working/als_model\n"
   ]
  },
  {
   "cell_type": "code",
   "execution_count": 111,
   "id": "b69bd28f",
   "metadata": {
    "execution": {
     "iopub.execute_input": "2022-12-08T20:48:58.683003Z",
     "iopub.status.busy": "2022-12-08T20:48:58.681871Z",
     "iopub.status.idle": "2022-12-08T20:48:59.659405Z",
     "shell.execute_reply": "2022-12-08T20:48:59.658128Z"
    },
    "papermill": {
     "duration": 1.109128,
     "end_time": "2022-12-08T20:48:59.661949",
     "exception": false,
     "start_time": "2022-12-08T20:48:58.552821",
     "status": "completed"
    },
    "tags": []
   },
   "outputs": [
    {
     "name": "stdout",
     "output_type": "stream",
     "text": [
      "__notebook__.ipynb  als_model  file.zip  ngrok\tngrok-stable-linux-amd64.zip\r\n"
     ]
    }
   ],
   "source": [
    "!ls"
   ]
  },
  {
   "cell_type": "code",
   "execution_count": 112,
   "id": "1510edaf",
   "metadata": {
    "execution": {
     "iopub.execute_input": "2022-12-08T20:48:59.933510Z",
     "iopub.status.busy": "2022-12-08T20:48:59.933111Z",
     "iopub.status.idle": "2022-12-08T20:48:59.942653Z",
     "shell.execute_reply": "2022-12-08T20:48:59.941705Z"
    },
    "papermill": {
     "duration": 0.140769,
     "end_time": "2022-12-08T20:48:59.945096",
     "exception": false,
     "start_time": "2022-12-08T20:48:59.804327",
     "status": "completed"
    },
    "tags": []
   },
   "outputs": [
    {
     "data": {
      "text/html": [
       "<a href='file.zip' target='_blank'>file.zip</a><br>"
      ],
      "text/plain": [
       "/kaggle/working/file.zip"
      ]
     },
     "execution_count": 112,
     "metadata": {},
     "output_type": "execute_result"
    }
   ],
   "source": [
    "from IPython.display import FileLink\n",
    "FileLink(r'file.zip')"
   ]
  },
  {
   "cell_type": "code",
   "execution_count": 113,
   "id": "95c05bc7",
   "metadata": {
    "execution": {
     "iopub.execute_input": "2022-12-08T20:49:00.211091Z",
     "iopub.status.busy": "2022-12-08T20:49:00.210682Z",
     "iopub.status.idle": "2022-12-08T20:49:01.304761Z",
     "shell.execute_reply": "2022-12-08T20:49:01.303314Z"
    },
    "papermill": {
     "duration": 1.2367,
     "end_time": "2022-12-08T20:49:01.307790",
     "exception": false,
     "start_time": "2022-12-08T20:49:00.071090",
     "status": "completed"
    },
    "tags": []
   },
   "outputs": [
    {
     "name": "stdout",
     "output_type": "stream",
     "text": [
      "/kaggle/working\r\n"
     ]
    }
   ],
   "source": [
    "!pwd"
   ]
  },
  {
   "cell_type": "code",
   "execution_count": 114,
   "id": "10435a53",
   "metadata": {
    "execution": {
     "iopub.execute_input": "2022-12-08T20:49:01.563244Z",
     "iopub.status.busy": "2022-12-08T20:49:01.562152Z",
     "iopub.status.idle": "2022-12-08T20:51:46.562138Z",
     "shell.execute_reply": "2022-12-08T20:51:46.561152Z"
    },
    "papermill": {
     "duration": 165.129825,
     "end_time": "2022-12-08T20:51:46.565720",
     "exception": false,
     "start_time": "2022-12-08T20:49:01.435895",
     "status": "completed"
    },
    "tags": []
   },
   "outputs": [
    {
     "name": "stderr",
     "output_type": "stream",
     "text": [
      "[Stage 633:=====================================================>(99 + 1) / 100]\r"
     ]
    },
    {
     "name": "stdout",
     "output_type": "stream",
     "text": [
      "+-------+-----------------------------------------------------------------------------------------------------------------------------------------------------------------------------------------------------+\n",
      "|user_id|recommendations                                                                                                                                                                                      |\n",
      "+-------+-----------------------------------------------------------------------------------------------------------------------------------------------------------------------------------------------------+\n",
      "|1      |[{37105, 11.355072}, {35035, 10.00731}, {35055, 10.00731}, {35058, 10.00731}, {31004, 9.936791}, {26293, 8.943113}, {33607, 8.81378}, {44, 8.792454}, {25065, 8.738379}, {5114, 8.728648}]           |\n",
      "|44     |[{37105, 10.309638}, {820, 8.633801}, {2921, 8.26084}, {3297, 8.210474}, {35055, 8.09686}, {35035, 8.09686}, {35058, 8.09686}, {31004, 8.06693}, {32, 7.9826703}, {7785, 7.9292636}]                 |\n",
      "|47     |[{37105, 10.234417}, {33443, 9.165988}, {35055, 9.097591}, {35035, 9.097591}, {35058, 9.097591}, {31004, 9.052402}, {4181, 8.421682}, {3297, 8.302265}, {2167, 8.210481}, {7311, 8.18116}]           |\n",
      "|53     |[{37105, 13.778849}, {31004, 11.948574}, {35035, 11.904824}, {35055, 11.904824}, {35058, 11.904824}, {33443, 10.841125}, {26293, 10.753716}, {25065, 10.508974}, {66, 10.171714}, {33828, 10.135471}]|\n",
      "|81     |[{37105, 11.421013}, {35035, 10.348327}, {35055, 10.348327}, {35058, 10.348327}, {31004, 10.212934}, {35385, 9.32618}, {26293, 9.19164}, {25065, 9.149635}, {5114, 9.125438}, {9253, 8.978613}]      |\n",
      "+-------+-----------------------------------------------------------------------------------------------------------------------------------------------------------------------------------------------------+\n",
      "only showing top 5 rows\n",
      "\n"
     ]
    },
    {
     "name": "stderr",
     "output_type": "stream",
     "text": [
      "                                                                                \r"
     ]
    }
   ],
   "source": [
    "userRecs.show(5, False)"
   ]
  },
  {
   "cell_type": "code",
   "execution_count": 115,
   "id": "92186ab3",
   "metadata": {
    "execution": {
     "iopub.execute_input": "2022-12-08T20:51:46.859781Z",
     "iopub.status.busy": "2022-12-08T20:51:46.859435Z",
     "iopub.status.idle": "2022-12-08T20:51:46.864310Z",
     "shell.execute_reply": "2022-12-08T20:51:46.863385Z"
    },
    "id": "6JFoou8DKBB8",
    "papermill": {
     "duration": 0.140969,
     "end_time": "2022-12-08T20:51:46.866324",
     "exception": false,
     "start_time": "2022-12-08T20:51:46.725355",
     "status": "completed"
    },
    "tags": []
   },
   "outputs": [],
   "source": [
    "alpha_0 = 0.1\n",
    "alpha_1 = 0.1\n",
    "alpha_2 = 0.1\n",
    "alpha_3 = 0.1\n",
    "alpha_4 = 0.6"
   ]
  },
  {
   "cell_type": "code",
   "execution_count": 116,
   "id": "9a0e400f",
   "metadata": {
    "execution": {
     "iopub.execute_input": "2022-12-08T20:51:47.136029Z",
     "iopub.status.busy": "2022-12-08T20:51:47.135650Z",
     "iopub.status.idle": "2022-12-08T20:51:47.164118Z",
     "shell.execute_reply": "2022-12-08T20:51:47.163134Z"
    },
    "id": "neq_4i4gNGa5",
    "papermill": {
     "duration": 0.168662,
     "end_time": "2022-12-08T20:51:47.166260",
     "exception": false,
     "start_time": "2022-12-08T20:51:46.997598",
     "status": "completed"
    },
    "tags": []
   },
   "outputs": [],
   "source": [
    "valid = valid.fillna(c[0].overall_average)"
   ]
  },
  {
   "cell_type": "code",
   "execution_count": 117,
   "id": "2334e033",
   "metadata": {
    "execution": {
     "iopub.execute_input": "2022-12-08T20:51:47.433715Z",
     "iopub.status.busy": "2022-12-08T20:51:47.433358Z",
     "iopub.status.idle": "2022-12-08T20:51:47.497304Z",
     "shell.execute_reply": "2022-12-08T20:51:47.496177Z"
    },
    "id": "8lG6gFmBIutm",
    "papermill": {
     "duration": 0.200185,
     "end_time": "2022-12-08T20:51:47.499579",
     "exception": false,
     "start_time": "2022-12-08T20:51:47.299394",
     "status": "completed"
    },
    "tags": []
   },
   "outputs": [],
   "source": [
    "valid = valid.withColumn('prediction', alpha_0*valid['preds_0'] + alpha_1*valid['preds_1'] + alpha_2*valid['preds_2'] + alpha_3*valid['preds_3'] + alpha_4*valid['preds_4'] )"
   ]
  },
  {
   "cell_type": "code",
   "execution_count": 118,
   "id": "b02d3baa",
   "metadata": {
    "execution": {
     "iopub.execute_input": "2022-12-08T20:51:47.773787Z",
     "iopub.status.busy": "2022-12-08T20:51:47.773428Z",
     "iopub.status.idle": "2022-12-08T20:51:47.801256Z",
     "shell.execute_reply": "2022-12-08T20:51:47.800174Z"
    },
    "id": "nppd1x-nOrdQ",
    "papermill": {
     "duration": 0.163899,
     "end_time": "2022-12-08T20:51:47.803621",
     "exception": false,
     "start_time": "2022-12-08T20:51:47.639722",
     "status": "completed"
    },
    "tags": []
   },
   "outputs": [],
   "source": [
    "valid = valid.select(['anime_id', 'user_id', 'my_score', 'prediction'])"
   ]
  },
  {
   "cell_type": "code",
   "execution_count": 119,
   "id": "b4e9e93c",
   "metadata": {
    "execution": {
     "iopub.execute_input": "2022-12-08T20:51:48.161631Z",
     "iopub.status.busy": "2022-12-08T20:51:48.161228Z",
     "iopub.status.idle": "2022-12-08T21:11:16.618714Z",
     "shell.execute_reply": "2022-12-08T21:11:16.617685Z"
    },
    "id": "VI_fMrGgz3I7",
    "papermill": {
     "duration": 1168.839276,
     "end_time": "2022-12-08T21:11:16.776981",
     "exception": false,
     "start_time": "2022-12-08T20:51:47.937705",
     "status": "completed"
    },
    "tags": []
   },
   "outputs": [
    {
     "name": "stderr",
     "output_type": "stream",
     "text": [
      "[Stage 702:>               (0 + 2) / 22][Stage 703:>               (0 + 0) / 22]\r"
     ]
    },
    {
     "name": "stdout",
     "output_type": "stream",
     "text": [
      "22/12/08 20:56:02 WARN RowBasedKeyValueBatch: Calling spill() on RowBasedKeyValueBatch. Will not spill but return 0.\n",
      "22/12/08 20:56:02 WARN RowBasedKeyValueBatch: Calling spill() on RowBasedKeyValueBatch. Will not spill but return 0.\n",
      "22/12/08 20:56:12 WARN RowBasedKeyValueBatch: Calling spill() on RowBasedKeyValueBatch. Will not spill but return 0.\n",
      "22/12/08 20:56:13 WARN RowBasedKeyValueBatch: Calling spill() on RowBasedKeyValueBatch. Will not spill but return 0.\n"
     ]
    },
    {
     "name": "stderr",
     "output_type": "stream",
     "text": [
      "[Stage 702:=>              (2 + 2) / 22][Stage 703:>               (0 + 0) / 22]\r"
     ]
    },
    {
     "name": "stdout",
     "output_type": "stream",
     "text": [
      "22/12/08 20:56:35 WARN RowBasedKeyValueBatch: Calling spill() on RowBasedKeyValueBatch. Will not spill but return 0.\n",
      "22/12/08 20:56:37 WARN RowBasedKeyValueBatch: Calling spill() on RowBasedKeyValueBatch. Will not spill but return 0.\n",
      "22/12/08 20:56:47 WARN RowBasedKeyValueBatch: Calling spill() on RowBasedKeyValueBatch. Will not spill but return 0.\n",
      "22/12/08 20:56:47 WARN RowBasedKeyValueBatch: Calling spill() on RowBasedKeyValueBatch. Will not spill but return 0.\n"
     ]
    },
    {
     "name": "stderr",
     "output_type": "stream",
     "text": [
      "[Stage 702:==>             (4 + 2) / 22][Stage 703:>               (0 + 0) / 22]\r"
     ]
    },
    {
     "name": "stdout",
     "output_type": "stream",
     "text": [
      "22/12/08 20:57:07 WARN RowBasedKeyValueBatch: Calling spill() on RowBasedKeyValueBatch. Will not spill but return 0.\n",
      "22/12/08 20:57:09 WARN RowBasedKeyValueBatch: Calling spill() on RowBasedKeyValueBatch. Will not spill but return 0.\n",
      "22/12/08 20:57:17 WARN RowBasedKeyValueBatch: Calling spill() on RowBasedKeyValueBatch. Will not spill but return 0.\n",
      "22/12/08 20:57:19 WARN RowBasedKeyValueBatch: Calling spill() on RowBasedKeyValueBatch. Will not spill but return 0.\n"
     ]
    },
    {
     "name": "stderr",
     "output_type": "stream",
     "text": [
      "[Stage 702:====>           (6 + 2) / 22][Stage 703:>               (0 + 0) / 22]\r"
     ]
    },
    {
     "name": "stdout",
     "output_type": "stream",
     "text": [
      "22/12/08 20:57:39 WARN RowBasedKeyValueBatch: Calling spill() on RowBasedKeyValueBatch. Will not spill but return 0.\n",
      "22/12/08 20:57:39 WARN RowBasedKeyValueBatch: Calling spill() on RowBasedKeyValueBatch. Will not spill but return 0.\n",
      "22/12/08 20:57:46 WARN RowBasedKeyValueBatch: Calling spill() on RowBasedKeyValueBatch. Will not spill but return 0.\n",
      "22/12/08 20:57:49 WARN RowBasedKeyValueBatch: Calling spill() on RowBasedKeyValueBatch. Will not spill but return 0.\n"
     ]
    },
    {
     "name": "stderr",
     "output_type": "stream",
     "text": [
      "[Stage 702:=====>          (8 + 2) / 22][Stage 703:>               (0 + 0) / 22]\r"
     ]
    },
    {
     "name": "stdout",
     "output_type": "stream",
     "text": [
      "22/12/08 20:58:03 WARN RowBasedKeyValueBatch: Calling spill() on RowBasedKeyValueBatch. Will not spill but return 0.\n",
      "22/12/08 20:58:07 WARN RowBasedKeyValueBatch: Calling spill() on RowBasedKeyValueBatch. Will not spill but return 0.\n",
      "22/12/08 20:58:09 WARN RowBasedKeyValueBatch: Calling spill() on RowBasedKeyValueBatch. Will not spill but return 0.\n"
     ]
    },
    {
     "name": "stderr",
     "output_type": "stream",
     "text": [
      "[Stage 702:======>         (9 + 2) / 22][Stage 703:>               (0 + 0) / 22]\r"
     ]
    },
    {
     "name": "stdout",
     "output_type": "stream",
     "text": [
      "22/12/08 20:58:15 WARN RowBasedKeyValueBatch: Calling spill() on RowBasedKeyValueBatch. Will not spill but return 0.\n"
     ]
    },
    {
     "name": "stderr",
     "output_type": "stream",
     "text": [
      "[Stage 702:======>        (10 + 2) / 22][Stage 703:>               (0 + 0) / 22]\r"
     ]
    },
    {
     "name": "stdout",
     "output_type": "stream",
     "text": [
      "22/12/08 20:58:28 WARN RowBasedKeyValueBatch: Calling spill() on RowBasedKeyValueBatch. Will not spill but return 0.\n",
      "22/12/08 20:58:33 WARN RowBasedKeyValueBatch: Calling spill() on RowBasedKeyValueBatch. Will not spill but return 0.\n",
      "22/12/08 20:58:34 WARN RowBasedKeyValueBatch: Calling spill() on RowBasedKeyValueBatch. Will not spill but return 0.\n"
     ]
    },
    {
     "name": "stderr",
     "output_type": "stream",
     "text": [
      "[Stage 702:=======>       (11 + 2) / 22][Stage 703:>               (0 + 0) / 22]\r"
     ]
    },
    {
     "name": "stdout",
     "output_type": "stream",
     "text": [
      "22/12/08 20:58:42 WARN RowBasedKeyValueBatch: Calling spill() on RowBasedKeyValueBatch. Will not spill but return 0.\n"
     ]
    },
    {
     "name": "stderr",
     "output_type": "stream",
     "text": [
      "[Stage 702:========>      (12 + 2) / 22][Stage 703:>               (0 + 0) / 22]\r"
     ]
    },
    {
     "name": "stdout",
     "output_type": "stream",
     "text": [
      "22/12/08 20:58:50 WARN RowBasedKeyValueBatch: Calling spill() on RowBasedKeyValueBatch. Will not spill but return 0.\n",
      "22/12/08 20:59:00 WARN RowBasedKeyValueBatch: Calling spill() on RowBasedKeyValueBatch. Will not spill but return 0.\n",
      "22/12/08 20:59:02 WARN RowBasedKeyValueBatch: Calling spill() on RowBasedKeyValueBatch. Will not spill but return 0.\n"
     ]
    },
    {
     "name": "stderr",
     "output_type": "stream",
     "text": [
      "[Stage 702:========>      (13 + 2) / 22][Stage 703:>               (0 + 0) / 22]\r"
     ]
    },
    {
     "name": "stdout",
     "output_type": "stream",
     "text": [
      "22/12/08 20:59:10 WARN RowBasedKeyValueBatch: Calling spill() on RowBasedKeyValueBatch. Will not spill but return 0.\n"
     ]
    },
    {
     "name": "stderr",
     "output_type": "stream",
     "text": [
      "[Stage 702:=========>     (14 + 2) / 22][Stage 703:>               (0 + 0) / 22]\r"
     ]
    },
    {
     "name": "stdout",
     "output_type": "stream",
     "text": [
      "22/12/08 20:59:20 WARN RowBasedKeyValueBatch: Calling spill() on RowBasedKeyValueBatch. Will not spill but return 0.\n",
      "22/12/08 20:59:29 WARN RowBasedKeyValueBatch: Calling spill() on RowBasedKeyValueBatch. Will not spill but return 0.\n",
      "22/12/08 20:59:30 WARN RowBasedKeyValueBatch: Calling spill() on RowBasedKeyValueBatch. Will not spill but return 0.\n"
     ]
    },
    {
     "name": "stderr",
     "output_type": "stream",
     "text": [
      "[Stage 702:==========>    (15 + 2) / 22][Stage 703:>               (0 + 0) / 22]\r"
     ]
    },
    {
     "name": "stdout",
     "output_type": "stream",
     "text": [
      "22/12/08 20:59:39 WARN RowBasedKeyValueBatch: Calling spill() on RowBasedKeyValueBatch. Will not spill but return 0.\n"
     ]
    },
    {
     "name": "stderr",
     "output_type": "stream",
     "text": [
      "[Stage 702:==========>    (16 + 2) / 22][Stage 703:>               (0 + 0) / 22]\r"
     ]
    },
    {
     "name": "stdout",
     "output_type": "stream",
     "text": [
      "22/12/08 20:59:48 WARN RowBasedKeyValueBatch: Calling spill() on RowBasedKeyValueBatch. Will not spill but return 0.\n",
      "22/12/08 20:59:57 WARN RowBasedKeyValueBatch: Calling spill() on RowBasedKeyValueBatch. Will not spill but return 0.\n",
      "22/12/08 20:59:58 WARN RowBasedKeyValueBatch: Calling spill() on RowBasedKeyValueBatch. Will not spill but return 0.\n"
     ]
    },
    {
     "name": "stderr",
     "output_type": "stream",
     "text": [
      "[Stage 702:===========>   (17 + 2) / 22][Stage 703:>               (0 + 0) / 22]\r"
     ]
    },
    {
     "name": "stdout",
     "output_type": "stream",
     "text": [
      "22/12/08 21:00:07 WARN RowBasedKeyValueBatch: Calling spill() on RowBasedKeyValueBatch. Will not spill but return 0.\n"
     ]
    },
    {
     "name": "stderr",
     "output_type": "stream",
     "text": [
      "[Stage 702:============>  (18 + 2) / 22][Stage 703:>               (0 + 0) / 22]\r"
     ]
    },
    {
     "name": "stdout",
     "output_type": "stream",
     "text": [
      "22/12/08 21:00:15 WARN RowBasedKeyValueBatch: Calling spill() on RowBasedKeyValueBatch. Will not spill but return 0.\n",
      "22/12/08 21:00:25 WARN RowBasedKeyValueBatch: Calling spill() on RowBasedKeyValueBatch. Will not spill but return 0.\n",
      "22/12/08 21:00:26 WARN RowBasedKeyValueBatch: Calling spill() on RowBasedKeyValueBatch. Will not spill but return 0.\n"
     ]
    },
    {
     "name": "stderr",
     "output_type": "stream",
     "text": [
      "[Stage 702:============>  (19 + 2) / 22][Stage 703:>               (0 + 0) / 22]\r"
     ]
    },
    {
     "name": "stdout",
     "output_type": "stream",
     "text": [
      "22/12/08 21:00:34 WARN RowBasedKeyValueBatch: Calling spill() on RowBasedKeyValueBatch. Will not spill but return 0.\n"
     ]
    },
    {
     "name": "stderr",
     "output_type": "stream",
     "text": [
      "[Stage 702:==============>(21 + 1) / 22][Stage 703:>               (0 + 1) / 22]\r"
     ]
    },
    {
     "name": "stdout",
     "output_type": "stream",
     "text": [
      "22/12/08 21:00:45 WARN RowBasedKeyValueBatch: Calling spill() on RowBasedKeyValueBatch. Will not spill but return 0.\n",
      "22/12/08 21:00:55 WARN RowBasedKeyValueBatch: Calling spill() on RowBasedKeyValueBatch. Will not spill but return 0.\n",
      "22/12/08 21:00:55 WARN RowBasedKeyValueBatch: Calling spill() on RowBasedKeyValueBatch. Will not spill but return 0.\n"
     ]
    },
    {
     "name": "stderr",
     "output_type": "stream",
     "text": [
      "[Stage 703:>               (0 + 2) / 22][Stage 705:>                (0 + 0) / 1]\r"
     ]
    },
    {
     "name": "stdout",
     "output_type": "stream",
     "text": [
      "22/12/08 21:01:04 WARN RowBasedKeyValueBatch: Calling spill() on RowBasedKeyValueBatch. Will not spill but return 0.\n"
     ]
    },
    {
     "name": "stderr",
     "output_type": "stream",
     "text": [
      "[Stage 703:>               (1 + 2) / 22][Stage 705:>                (0 + 0) / 1]\r"
     ]
    },
    {
     "name": "stdout",
     "output_type": "stream",
     "text": [
      "22/12/08 21:01:14 WARN RowBasedKeyValueBatch: Calling spill() on RowBasedKeyValueBatch. Will not spill but return 0.\n",
      "22/12/08 21:01:23 WARN RowBasedKeyValueBatch: Calling spill() on RowBasedKeyValueBatch. Will not spill but return 0.\n",
      "22/12/08 21:01:25 WARN RowBasedKeyValueBatch: Calling spill() on RowBasedKeyValueBatch. Will not spill but return 0.\n"
     ]
    },
    {
     "name": "stderr",
     "output_type": "stream",
     "text": [
      "[Stage 703:=>              (2 + 2) / 22][Stage 705:>                (0 + 0) / 1]\r"
     ]
    },
    {
     "name": "stdout",
     "output_type": "stream",
     "text": [
      "22/12/08 21:01:35 WARN RowBasedKeyValueBatch: Calling spill() on RowBasedKeyValueBatch. Will not spill but return 0.\n",
      "22/12/08 21:01:42 WARN RowBasedKeyValueBatch: Calling spill() on RowBasedKeyValueBatch. Will not spill but return 0.\n"
     ]
    },
    {
     "name": "stderr",
     "output_type": "stream",
     "text": [
      "[Stage 703:==>             (3 + 2) / 22][Stage 705:>                (0 + 0) / 1]\r"
     ]
    },
    {
     "name": "stdout",
     "output_type": "stream",
     "text": [
      "22/12/08 21:01:50 WARN RowBasedKeyValueBatch: Calling spill() on RowBasedKeyValueBatch. Will not spill but return 0.\n",
      "22/12/08 21:01:54 WARN RowBasedKeyValueBatch: Calling spill() on RowBasedKeyValueBatch. Will not spill but return 0.\n"
     ]
    },
    {
     "name": "stderr",
     "output_type": "stream",
     "text": [
      "[Stage 703:==>             (4 + 2) / 22][Stage 705:>                (0 + 0) / 1]\r"
     ]
    },
    {
     "name": "stdout",
     "output_type": "stream",
     "text": [
      "22/12/08 21:02:02 WARN RowBasedKeyValueBatch: Calling spill() on RowBasedKeyValueBatch. Will not spill but return 0.\n",
      "22/12/08 21:02:09 WARN RowBasedKeyValueBatch: Calling spill() on RowBasedKeyValueBatch. Will not spill but return 0.\n"
     ]
    },
    {
     "name": "stderr",
     "output_type": "stream",
     "text": [
      "[Stage 703:===>            (5 + 2) / 22][Stage 705:>                (0 + 0) / 1]\r"
     ]
    },
    {
     "name": "stdout",
     "output_type": "stream",
     "text": [
      "22/12/08 21:02:17 WARN RowBasedKeyValueBatch: Calling spill() on RowBasedKeyValueBatch. Will not spill but return 0.\n",
      "22/12/08 21:02:21 WARN RowBasedKeyValueBatch: Calling spill() on RowBasedKeyValueBatch. Will not spill but return 0.\n"
     ]
    },
    {
     "name": "stderr",
     "output_type": "stream",
     "text": [
      "[Stage 703:====>           (6 + 2) / 22][Stage 705:>                (0 + 0) / 1]\r"
     ]
    },
    {
     "name": "stdout",
     "output_type": "stream",
     "text": [
      "22/12/08 21:02:28 WARN RowBasedKeyValueBatch: Calling spill() on RowBasedKeyValueBatch. Will not spill but return 0.\n"
     ]
    },
    {
     "name": "stderr",
     "output_type": "stream",
     "text": [
      "[Stage 703:=====>          (7 + 2) / 22][Stage 705:>                (0 + 0) / 1]\r"
     ]
    },
    {
     "name": "stdout",
     "output_type": "stream",
     "text": [
      "22/12/08 21:02:36 WARN RowBasedKeyValueBatch: Calling spill() on RowBasedKeyValueBatch. Will not spill but return 0.\n",
      "22/12/08 21:02:44 WARN RowBasedKeyValueBatch: Calling spill() on RowBasedKeyValueBatch. Will not spill but return 0.\n",
      "22/12/08 21:02:46 WARN RowBasedKeyValueBatch: Calling spill() on RowBasedKeyValueBatch. Will not spill but return 0.\n"
     ]
    },
    {
     "name": "stderr",
     "output_type": "stream",
     "text": [
      "[Stage 703:=====>          (8 + 2) / 22][Stage 705:>                (0 + 0) / 1]\r"
     ]
    },
    {
     "name": "stdout",
     "output_type": "stream",
     "text": [
      "22/12/08 21:02:52 WARN RowBasedKeyValueBatch: Calling spill() on RowBasedKeyValueBatch. Will not spill but return 0.\n"
     ]
    },
    {
     "name": "stderr",
     "output_type": "stream",
     "text": [
      "[Stage 703:======>         (9 + 2) / 22][Stage 705:>                (0 + 0) / 1]\r"
     ]
    },
    {
     "name": "stdout",
     "output_type": "stream",
     "text": [
      "22/12/08 21:03:04 WARN RowBasedKeyValueBatch: Calling spill() on RowBasedKeyValueBatch. Will not spill but return 0.\n",
      "22/12/08 21:03:11 WARN RowBasedKeyValueBatch: Calling spill() on RowBasedKeyValueBatch. Will not spill but return 0.\n",
      "22/12/08 21:03:11 WARN RowBasedKeyValueBatch: Calling spill() on RowBasedKeyValueBatch. Will not spill but return 0.\n",
      "22/12/08 21:03:16 WARN RowBasedKeyValueBatch: Calling spill() on RowBasedKeyValueBatch. Will not spill but return 0.\n"
     ]
    },
    {
     "name": "stderr",
     "output_type": "stream",
     "text": [
      "[Stage 703:=======>       (11 + 2) / 22][Stage 705:>                (0 + 0) / 1]\r"
     ]
    },
    {
     "name": "stdout",
     "output_type": "stream",
     "text": [
      "22/12/08 21:03:31 WARN RowBasedKeyValueBatch: Calling spill() on RowBasedKeyValueBatch. Will not spill but return 0.\n",
      "22/12/08 21:03:35 WARN RowBasedKeyValueBatch: Calling spill() on RowBasedKeyValueBatch. Will not spill but return 0.\n",
      "22/12/08 21:03:40 WARN RowBasedKeyValueBatch: Calling spill() on RowBasedKeyValueBatch. Will not spill but return 0.\n",
      "22/12/08 21:03:44 WARN RowBasedKeyValueBatch: Calling spill() on RowBasedKeyValueBatch. Will not spill but return 0.\n"
     ]
    },
    {
     "name": "stderr",
     "output_type": "stream",
     "text": [
      "[Stage 703:========>      (13 + 2) / 22][Stage 705:>                (0 + 0) / 1]\r"
     ]
    },
    {
     "name": "stdout",
     "output_type": "stream",
     "text": [
      "22/12/08 21:03:59 WARN RowBasedKeyValueBatch: Calling spill() on RowBasedKeyValueBatch. Will not spill but return 0.\n",
      "22/12/08 21:04:04 WARN RowBasedKeyValueBatch: Calling spill() on RowBasedKeyValueBatch. Will not spill but return 0.\n",
      "22/12/08 21:04:08 WARN RowBasedKeyValueBatch: Calling spill() on RowBasedKeyValueBatch. Will not spill but return 0.\n",
      "22/12/08 21:04:13 WARN RowBasedKeyValueBatch: Calling spill() on RowBasedKeyValueBatch. Will not spill but return 0.\n"
     ]
    },
    {
     "name": "stderr",
     "output_type": "stream",
     "text": [
      "[Stage 703:==========>    (15 + 2) / 22][Stage 705:>                (0 + 0) / 1]\r"
     ]
    },
    {
     "name": "stdout",
     "output_type": "stream",
     "text": [
      "22/12/08 21:04:26 WARN RowBasedKeyValueBatch: Calling spill() on RowBasedKeyValueBatch. Will not spill but return 0.\n",
      "22/12/08 21:04:32 WARN RowBasedKeyValueBatch: Calling spill() on RowBasedKeyValueBatch. Will not spill but return 0.\n",
      "22/12/08 21:04:36 WARN RowBasedKeyValueBatch: Calling spill() on RowBasedKeyValueBatch. Will not spill but return 0.\n",
      "22/12/08 21:04:41 WARN RowBasedKeyValueBatch: Calling spill() on RowBasedKeyValueBatch. Will not spill but return 0.\n"
     ]
    },
    {
     "name": "stderr",
     "output_type": "stream",
     "text": [
      "[Stage 703:===========>   (17 + 2) / 22][Stage 705:>                (0 + 0) / 1]\r"
     ]
    },
    {
     "name": "stdout",
     "output_type": "stream",
     "text": [
      "22/12/08 21:04:55 WARN RowBasedKeyValueBatch: Calling spill() on RowBasedKeyValueBatch. Will not spill but return 0.\n",
      "22/12/08 21:04:59 WARN RowBasedKeyValueBatch: Calling spill() on RowBasedKeyValueBatch. Will not spill but return 0.\n",
      "22/12/08 21:05:03 WARN RowBasedKeyValueBatch: Calling spill() on RowBasedKeyValueBatch. Will not spill but return 0.\n",
      "22/12/08 21:05:09 WARN RowBasedKeyValueBatch: Calling spill() on RowBasedKeyValueBatch. Will not spill but return 0.\n"
     ]
    },
    {
     "name": "stderr",
     "output_type": "stream",
     "text": [
      "[Stage 703:============>  (19 + 2) / 22][Stage 705:>                (0 + 0) / 1]\r"
     ]
    },
    {
     "name": "stdout",
     "output_type": "stream",
     "text": [
      "22/12/08 21:05:23 WARN RowBasedKeyValueBatch: Calling spill() on RowBasedKeyValueBatch. Will not spill but return 0.\n",
      "22/12/08 21:05:29 WARN RowBasedKeyValueBatch: Calling spill() on RowBasedKeyValueBatch. Will not spill but return 0.\n",
      "22/12/08 21:05:30 WARN RowBasedKeyValueBatch: Calling spill() on RowBasedKeyValueBatch. Will not spill but return 0.\n"
     ]
    },
    {
     "name": "stderr",
     "output_type": "stream",
     "text": [
      "[Stage 703:=============> (20 + 2) / 22][Stage 705:>                (0 + 0) / 1]\r"
     ]
    },
    {
     "name": "stdout",
     "output_type": "stream",
     "text": [
      "22/12/08 21:05:38 WARN RowBasedKeyValueBatch: Calling spill() on RowBasedKeyValueBatch. Will not spill but return 0.\n"
     ]
    },
    {
     "name": "stderr",
     "output_type": "stream",
     "text": [
      "                                                                                \r"
     ]
    }
   ],
   "source": [
    "evaluator = RegressionEvaluator(metricName=\"rmse\", labelCol=\"my_score\", predictionCol=\"prediction\")\n",
    "rmse = evaluator.evaluate(valid)"
   ]
  },
  {
   "cell_type": "code",
   "execution_count": 120,
   "id": "2dd9b8f8",
   "metadata": {
    "execution": {
     "iopub.execute_input": "2022-12-08T21:11:17.101433Z",
     "iopub.status.busy": "2022-12-08T21:11:17.101028Z",
     "iopub.status.idle": "2022-12-08T21:11:17.107869Z",
     "shell.execute_reply": "2022-12-08T21:11:17.106715Z"
    },
    "id": "I2xOIWyoKmV-",
    "papermill": {
     "duration": 0.175781,
     "end_time": "2022-12-08T21:11:17.110793",
     "exception": false,
     "start_time": "2022-12-08T21:11:16.935012",
     "status": "completed"
    },
    "tags": []
   },
   "outputs": [
    {
     "name": "stdout",
     "output_type": "stream",
     "text": [
      "RMSE:1.2641943435787215\n"
     ]
    }
   ],
   "source": [
    "print(\"RMSE:\" + str(rmse))"
   ]
  },
  {
   "cell_type": "markdown",
   "id": "65338847",
   "metadata": {
    "id": "ypy2DDoxqH8w",
    "papermill": {
     "duration": 0.159156,
     "end_time": "2022-12-08T21:11:17.430204",
     "exception": false,
     "start_time": "2022-12-08T21:11:17.271048",
     "status": "completed"
    },
    "tags": []
   },
   "source": [
    "Test"
   ]
  },
  {
   "cell_type": "code",
   "execution_count": 121,
   "id": "d81967d6",
   "metadata": {
    "execution": {
     "iopub.execute_input": "2022-12-08T21:11:17.742756Z",
     "iopub.status.busy": "2022-12-08T21:11:17.742391Z",
     "iopub.status.idle": "2022-12-08T21:11:17.783975Z",
     "shell.execute_reply": "2022-12-08T21:11:17.782786Z"
    },
    "id": "ZQw44ikNNXsT",
    "papermill": {
     "duration": 0.200103,
     "end_time": "2022-12-08T21:11:17.786793",
     "exception": false,
     "start_time": "2022-12-08T21:11:17.586690",
     "status": "completed"
    },
    "tags": []
   },
   "outputs": [],
   "source": [
    "test = test.fillna(c[0].overall_average)"
   ]
  },
  {
   "cell_type": "code",
   "execution_count": 122,
   "id": "9c9e710d",
   "metadata": {
    "execution": {
     "iopub.execute_input": "2022-12-08T21:11:18.106094Z",
     "iopub.status.busy": "2022-12-08T21:11:18.105698Z",
     "iopub.status.idle": "2022-12-08T21:11:18.137581Z",
     "shell.execute_reply": "2022-12-08T21:11:18.136196Z"
    },
    "id": "0xTrAnqiIfQC",
    "papermill": {
     "duration": 0.195126,
     "end_time": "2022-12-08T21:11:18.140282",
     "exception": false,
     "start_time": "2022-12-08T21:11:17.945156",
     "status": "completed"
    },
    "tags": []
   },
   "outputs": [],
   "source": [
    "test = test.withColumn('prediction', alpha_0*test['preds_0'] + alpha_1*test['preds_1'] + alpha_2*test['preds_2'] + alpha_3*test['preds_3'] + alpha_4*test['preds_4'] )"
   ]
  },
  {
   "cell_type": "code",
   "execution_count": 123,
   "id": "a2fb3178",
   "metadata": {
    "execution": {
     "iopub.execute_input": "2022-12-08T21:11:18.460655Z",
     "iopub.status.busy": "2022-12-08T21:11:18.460257Z",
     "iopub.status.idle": "2022-12-08T21:11:18.489339Z",
     "shell.execute_reply": "2022-12-08T21:11:18.488241Z"
    },
    "id": "8U9R7U-3PFX6",
    "papermill": {
     "duration": 0.190467,
     "end_time": "2022-12-08T21:11:18.492108",
     "exception": false,
     "start_time": "2022-12-08T21:11:18.301641",
     "status": "completed"
    },
    "tags": []
   },
   "outputs": [],
   "source": [
    "test = test.select(['anime_id', 'user_id', 'my_score', 'prediction'])"
   ]
  },
  {
   "cell_type": "code",
   "execution_count": 124,
   "id": "ea5b5413",
   "metadata": {
    "execution": {
     "iopub.execute_input": "2022-12-08T21:11:18.810743Z",
     "iopub.status.busy": "2022-12-08T21:11:18.810342Z",
     "iopub.status.idle": "2022-12-08T21:30:42.000540Z",
     "shell.execute_reply": "2022-12-08T21:30:41.999530Z"
    },
    "id": "XOcZB3z1qJD8",
    "papermill": {
     "duration": 1163.352307,
     "end_time": "2022-12-08T21:30:42.005079",
     "exception": false,
     "start_time": "2022-12-08T21:11:18.652772",
     "status": "completed"
    },
    "tags": []
   },
   "outputs": [
    {
     "name": "stderr",
     "output_type": "stream",
     "text": [
      "[Stage 841:>               (0 + 2) / 22][Stage 842:>               (0 + 0) / 22]\r"
     ]
    },
    {
     "name": "stdout",
     "output_type": "stream",
     "text": [
      "22/12/08 21:15:44 WARN RowBasedKeyValueBatch: Calling spill() on RowBasedKeyValueBatch. Will not spill but return 0.\n",
      "22/12/08 21:15:44 WARN RowBasedKeyValueBatch: Calling spill() on RowBasedKeyValueBatch. Will not spill but return 0.\n",
      "22/12/08 21:15:53 WARN RowBasedKeyValueBatch: Calling spill() on RowBasedKeyValueBatch. Will not spill but return 0.\n",
      "22/12/08 21:15:54 WARN RowBasedKeyValueBatch: Calling spill() on RowBasedKeyValueBatch. Will not spill but return 0.\n"
     ]
    },
    {
     "name": "stderr",
     "output_type": "stream",
     "text": [
      "[Stage 841:=>              (2 + 2) / 22][Stage 842:>               (0 + 0) / 22]\r"
     ]
    },
    {
     "name": "stdout",
     "output_type": "stream",
     "text": [
      "22/12/08 21:16:16 WARN RowBasedKeyValueBatch: Calling spill() on RowBasedKeyValueBatch. Will not spill but return 0.\n",
      "22/12/08 21:16:18 WARN RowBasedKeyValueBatch: Calling spill() on RowBasedKeyValueBatch. Will not spill but return 0.\n",
      "22/12/08 21:16:27 WARN RowBasedKeyValueBatch: Calling spill() on RowBasedKeyValueBatch. Will not spill but return 0.\n",
      "22/12/08 21:16:27 WARN RowBasedKeyValueBatch: Calling spill() on RowBasedKeyValueBatch. Will not spill but return 0.\n"
     ]
    },
    {
     "name": "stderr",
     "output_type": "stream",
     "text": [
      "[Stage 841:==>             (4 + 2) / 22][Stage 842:>               (0 + 0) / 22]\r"
     ]
    },
    {
     "name": "stdout",
     "output_type": "stream",
     "text": [
      "22/12/08 21:16:50 WARN RowBasedKeyValueBatch: Calling spill() on RowBasedKeyValueBatch. Will not spill but return 0.\n",
      "22/12/08 21:16:51 WARN RowBasedKeyValueBatch: Calling spill() on RowBasedKeyValueBatch. Will not spill but return 0.\n",
      "22/12/08 21:16:59 WARN RowBasedKeyValueBatch: Calling spill() on RowBasedKeyValueBatch. Will not spill but return 0.\n",
      "22/12/08 21:17:00 WARN RowBasedKeyValueBatch: Calling spill() on RowBasedKeyValueBatch. Will not spill but return 0.\n"
     ]
    },
    {
     "name": "stderr",
     "output_type": "stream",
     "text": [
      "[Stage 841:====>           (6 + 2) / 22][Stage 842:>               (0 + 0) / 22]\r"
     ]
    },
    {
     "name": "stdout",
     "output_type": "stream",
     "text": [
      "22/12/08 21:17:23 WARN RowBasedKeyValueBatch: Calling spill() on RowBasedKeyValueBatch. Will not spill but return 0.\n",
      "22/12/08 21:17:24 WARN RowBasedKeyValueBatch: Calling spill() on RowBasedKeyValueBatch. Will not spill but return 0.\n",
      "22/12/08 21:17:30 WARN RowBasedKeyValueBatch: Calling spill() on RowBasedKeyValueBatch. Will not spill but return 0.\n",
      "22/12/08 21:17:34 WARN RowBasedKeyValueBatch: Calling spill() on RowBasedKeyValueBatch. Will not spill but return 0.\n"
     ]
    },
    {
     "name": "stderr",
     "output_type": "stream",
     "text": [
      "[Stage 841:=====>          (8 + 2) / 22][Stage 842:>               (0 + 0) / 22]\r"
     ]
    },
    {
     "name": "stdout",
     "output_type": "stream",
     "text": [
      "22/12/08 21:17:50 WARN RowBasedKeyValueBatch: Calling spill() on RowBasedKeyValueBatch. Will not spill but return 0.\n",
      "22/12/08 21:17:55 WARN RowBasedKeyValueBatch: Calling spill() on RowBasedKeyValueBatch. Will not spill but return 0.\n",
      "22/12/08 21:17:58 WARN RowBasedKeyValueBatch: Calling spill() on RowBasedKeyValueBatch. Will not spill but return 0.\n",
      "22/12/08 21:18:03 WARN RowBasedKeyValueBatch: Calling spill() on RowBasedKeyValueBatch. Will not spill but return 0.\n"
     ]
    },
    {
     "name": "stderr",
     "output_type": "stream",
     "text": [
      "[Stage 841:======>        (10 + 2) / 22][Stage 842:>               (0 + 0) / 22]\r"
     ]
    },
    {
     "name": "stdout",
     "output_type": "stream",
     "text": [
      "22/12/08 21:18:17 WARN RowBasedKeyValueBatch: Calling spill() on RowBasedKeyValueBatch. Will not spill but return 0.\n",
      "22/12/08 21:18:22 WARN RowBasedKeyValueBatch: Calling spill() on RowBasedKeyValueBatch. Will not spill but return 0.\n",
      "22/12/08 21:18:23 WARN RowBasedKeyValueBatch: Calling spill() on RowBasedKeyValueBatch. Will not spill but return 0.\n"
     ]
    },
    {
     "name": "stderr",
     "output_type": "stream",
     "text": [
      "[Stage 841:=======>       (11 + 2) / 22][Stage 842:>               (0 + 0) / 22]\r"
     ]
    },
    {
     "name": "stdout",
     "output_type": "stream",
     "text": [
      "22/12/08 21:18:30 WARN RowBasedKeyValueBatch: Calling spill() on RowBasedKeyValueBatch. Will not spill but return 0.\n"
     ]
    },
    {
     "name": "stderr",
     "output_type": "stream",
     "text": [
      "[Stage 841:========>      (12 + 2) / 22][Stage 842:>               (0 + 0) / 22]\r"
     ]
    },
    {
     "name": "stdout",
     "output_type": "stream",
     "text": [
      "22/12/08 21:18:38 WARN RowBasedKeyValueBatch: Calling spill() on RowBasedKeyValueBatch. Will not spill but return 0.\n",
      "22/12/08 21:18:48 WARN RowBasedKeyValueBatch: Calling spill() on RowBasedKeyValueBatch. Will not spill but return 0.\n",
      "22/12/08 21:18:49 WARN RowBasedKeyValueBatch: Calling spill() on RowBasedKeyValueBatch. Will not spill but return 0.\n"
     ]
    },
    {
     "name": "stderr",
     "output_type": "stream",
     "text": [
      "[Stage 841:========>      (13 + 2) / 22][Stage 842:>               (0 + 0) / 22]\r"
     ]
    },
    {
     "name": "stdout",
     "output_type": "stream",
     "text": [
      "22/12/08 21:18:57 WARN RowBasedKeyValueBatch: Calling spill() on RowBasedKeyValueBatch. Will not spill but return 0.\n"
     ]
    },
    {
     "name": "stderr",
     "output_type": "stream",
     "text": [
      "[Stage 841:=========>     (14 + 2) / 22][Stage 842:>               (0 + 0) / 22]\r"
     ]
    },
    {
     "name": "stdout",
     "output_type": "stream",
     "text": [
      "22/12/08 21:19:07 WARN RowBasedKeyValueBatch: Calling spill() on RowBasedKeyValueBatch. Will not spill but return 0.\n",
      "22/12/08 21:19:15 WARN RowBasedKeyValueBatch: Calling spill() on RowBasedKeyValueBatch. Will not spill but return 0.\n",
      "22/12/08 21:19:16 WARN RowBasedKeyValueBatch: Calling spill() on RowBasedKeyValueBatch. Will not spill but return 0.\n"
     ]
    },
    {
     "name": "stderr",
     "output_type": "stream",
     "text": [
      "[Stage 841:==========>    (15 + 2) / 22][Stage 842:>               (0 + 0) / 22]\r"
     ]
    },
    {
     "name": "stdout",
     "output_type": "stream",
     "text": [
      "22/12/08 21:19:24 WARN RowBasedKeyValueBatch: Calling spill() on RowBasedKeyValueBatch. Will not spill but return 0.\n"
     ]
    },
    {
     "name": "stderr",
     "output_type": "stream",
     "text": [
      "[Stage 841:==========>    (16 + 2) / 22][Stage 842:>               (0 + 0) / 22]\r"
     ]
    },
    {
     "name": "stdout",
     "output_type": "stream",
     "text": [
      "22/12/08 21:19:35 WARN RowBasedKeyValueBatch: Calling spill() on RowBasedKeyValueBatch. Will not spill but return 0.\n",
      "22/12/08 21:19:42 WARN RowBasedKeyValueBatch: Calling spill() on RowBasedKeyValueBatch. Will not spill but return 0.\n",
      "22/12/08 21:19:43 WARN RowBasedKeyValueBatch: Calling spill() on RowBasedKeyValueBatch. Will not spill but return 0.\n"
     ]
    },
    {
     "name": "stderr",
     "output_type": "stream",
     "text": [
      "[Stage 841:===========>   (17 + 2) / 22][Stage 842:>               (0 + 0) / 22]\r"
     ]
    },
    {
     "name": "stdout",
     "output_type": "stream",
     "text": [
      "22/12/08 21:19:52 WARN RowBasedKeyValueBatch: Calling spill() on RowBasedKeyValueBatch. Will not spill but return 0.\n"
     ]
    },
    {
     "name": "stderr",
     "output_type": "stream",
     "text": [
      "[Stage 841:============>  (18 + 2) / 22][Stage 842:>               (0 + 0) / 22]\r"
     ]
    },
    {
     "name": "stdout",
     "output_type": "stream",
     "text": [
      "22/12/08 21:20:00 WARN RowBasedKeyValueBatch: Calling spill() on RowBasedKeyValueBatch. Will not spill but return 0.\n",
      "22/12/08 21:20:09 WARN RowBasedKeyValueBatch: Calling spill() on RowBasedKeyValueBatch. Will not spill but return 0.\n",
      "22/12/08 21:20:10 WARN RowBasedKeyValueBatch: Calling spill() on RowBasedKeyValueBatch. Will not spill but return 0.\n",
      "22/12/08 21:20:17 WARN RowBasedKeyValueBatch: Calling spill() on RowBasedKeyValueBatch. Will not spill but return 0.\n"
     ]
    },
    {
     "name": "stderr",
     "output_type": "stream",
     "text": [
      "[Stage 841:==============>(21 + 1) / 22][Stage 842:>               (0 + 1) / 22]\r"
     ]
    },
    {
     "name": "stdout",
     "output_type": "stream",
     "text": [
      "22/12/08 21:20:31 WARN RowBasedKeyValueBatch: Calling spill() on RowBasedKeyValueBatch. Will not spill but return 0.\n",
      "22/12/08 21:20:38 WARN RowBasedKeyValueBatch: Calling spill() on RowBasedKeyValueBatch. Will not spill but return 0.\n",
      "22/12/08 21:20:40 WARN RowBasedKeyValueBatch: Calling spill() on RowBasedKeyValueBatch. Will not spill but return 0.\n",
      "22/12/08 21:20:46 WARN RowBasedKeyValueBatch: Calling spill() on RowBasedKeyValueBatch. Will not spill but return 0.\n"
     ]
    },
    {
     "name": "stderr",
     "output_type": "stream",
     "text": [
      "[Stage 842:>               (1 + 2) / 22][Stage 844:>                (0 + 0) / 1]\r"
     ]
    },
    {
     "name": "stdout",
     "output_type": "stream",
     "text": [
      "22/12/08 21:20:59 WARN RowBasedKeyValueBatch: Calling spill() on RowBasedKeyValueBatch. Will not spill but return 0.\n",
      "22/12/08 21:21:06 WARN RowBasedKeyValueBatch: Calling spill() on RowBasedKeyValueBatch. Will not spill but return 0.\n",
      "22/12/08 21:21:07 WARN RowBasedKeyValueBatch: Calling spill() on RowBasedKeyValueBatch. Will not spill but return 0.\n"
     ]
    },
    {
     "name": "stderr",
     "output_type": "stream",
     "text": [
      "[Stage 842:=>              (2 + 2) / 22][Stage 844:>                (0 + 0) / 1]\r"
     ]
    },
    {
     "name": "stdout",
     "output_type": "stream",
     "text": [
      "22/12/08 21:21:15 WARN RowBasedKeyValueBatch: Calling spill() on RowBasedKeyValueBatch. Will not spill but return 0.\n"
     ]
    },
    {
     "name": "stderr",
     "output_type": "stream",
     "text": [
      "[Stage 842:==>             (3 + 2) / 22][Stage 844:>                (0 + 0) / 1]\r"
     ]
    },
    {
     "name": "stdout",
     "output_type": "stream",
     "text": [
      "22/12/08 21:21:25 WARN RowBasedKeyValueBatch: Calling spill() on RowBasedKeyValueBatch. Will not spill but return 0.\n",
      "22/12/08 21:21:33 WARN RowBasedKeyValueBatch: Calling spill() on RowBasedKeyValueBatch. Will not spill but return 0.\n",
      "22/12/08 21:21:35 WARN RowBasedKeyValueBatch: Calling spill() on RowBasedKeyValueBatch. Will not spill but return 0.\n"
     ]
    },
    {
     "name": "stderr",
     "output_type": "stream",
     "text": [
      "[Stage 842:==>             (4 + 2) / 22][Stage 844:>                (0 + 0) / 1]\r"
     ]
    },
    {
     "name": "stdout",
     "output_type": "stream",
     "text": [
      "22/12/08 21:21:42 WARN RowBasedKeyValueBatch: Calling spill() on RowBasedKeyValueBatch. Will not spill but return 0.\n"
     ]
    },
    {
     "name": "stderr",
     "output_type": "stream",
     "text": [
      "[Stage 842:===>            (5 + 2) / 22][Stage 844:>                (0 + 0) / 1]\r"
     ]
    },
    {
     "name": "stdout",
     "output_type": "stream",
     "text": [
      "22/12/08 21:21:51 WARN RowBasedKeyValueBatch: Calling spill() on RowBasedKeyValueBatch. Will not spill but return 0.\n",
      "22/12/08 21:21:59 WARN RowBasedKeyValueBatch: Calling spill() on RowBasedKeyValueBatch. Will not spill but return 0.\n",
      "22/12/08 21:22:02 WARN RowBasedKeyValueBatch: Calling spill() on RowBasedKeyValueBatch. Will not spill but return 0.\n"
     ]
    },
    {
     "name": "stderr",
     "output_type": "stream",
     "text": [
      "[Stage 842:====>           (6 + 2) / 22][Stage 844:>                (0 + 0) / 1]\r"
     ]
    },
    {
     "name": "stdout",
     "output_type": "stream",
     "text": [
      "22/12/08 21:22:07 WARN RowBasedKeyValueBatch: Calling spill() on RowBasedKeyValueBatch. Will not spill but return 0.\n"
     ]
    },
    {
     "name": "stderr",
     "output_type": "stream",
     "text": [
      "[Stage 842:=====>          (7 + 2) / 22][Stage 844:>                (0 + 0) / 1]\r"
     ]
    },
    {
     "name": "stdout",
     "output_type": "stream",
     "text": [
      "22/12/08 21:22:16 WARN RowBasedKeyValueBatch: Calling spill() on RowBasedKeyValueBatch. Will not spill but return 0.\n",
      "22/12/08 21:22:24 WARN RowBasedKeyValueBatch: Calling spill() on RowBasedKeyValueBatch. Will not spill but return 0.\n",
      "22/12/08 21:22:24 WARN RowBasedKeyValueBatch: Calling spill() on RowBasedKeyValueBatch. Will not spill but return 0.\n",
      "22/12/08 21:22:31 WARN RowBasedKeyValueBatch: Calling spill() on RowBasedKeyValueBatch. Will not spill but return 0.\n"
     ]
    },
    {
     "name": "stderr",
     "output_type": "stream",
     "text": [
      "[Stage 842:======>         (9 + 2) / 22][Stage 844:>                (0 + 0) / 1]\r"
     ]
    },
    {
     "name": "stdout",
     "output_type": "stream",
     "text": [
      "22/12/08 21:22:42 WARN RowBasedKeyValueBatch: Calling spill() on RowBasedKeyValueBatch. Will not spill but return 0.\n",
      "22/12/08 21:22:48 WARN RowBasedKeyValueBatch: Calling spill() on RowBasedKeyValueBatch. Will not spill but return 0.\n",
      "22/12/08 21:22:49 WARN RowBasedKeyValueBatch: Calling spill() on RowBasedKeyValueBatch. Will not spill but return 0.\n",
      "22/12/08 21:22:53 WARN RowBasedKeyValueBatch: Calling spill() on RowBasedKeyValueBatch. Will not spill but return 0.\n"
     ]
    },
    {
     "name": "stderr",
     "output_type": "stream",
     "text": [
      "[Stage 842:=======>       (11 + 2) / 22][Stage 844:>                (0 + 0) / 1]\r"
     ]
    },
    {
     "name": "stdout",
     "output_type": "stream",
     "text": [
      "22/12/08 21:23:07 WARN RowBasedKeyValueBatch: Calling spill() on RowBasedKeyValueBatch. Will not spill but return 0.\n",
      "22/12/08 21:23:10 WARN RowBasedKeyValueBatch: Calling spill() on RowBasedKeyValueBatch. Will not spill but return 0.\n",
      "22/12/08 21:23:16 WARN RowBasedKeyValueBatch: Calling spill() on RowBasedKeyValueBatch. Will not spill but return 0.\n",
      "22/12/08 21:23:18 WARN RowBasedKeyValueBatch: Calling spill() on RowBasedKeyValueBatch. Will not spill but return 0.\n"
     ]
    },
    {
     "name": "stderr",
     "output_type": "stream",
     "text": [
      "[Stage 842:========>      (13 + 2) / 22][Stage 844:>                (0 + 0) / 1]\r"
     ]
    },
    {
     "name": "stdout",
     "output_type": "stream",
     "text": [
      "22/12/08 21:23:35 WARN RowBasedKeyValueBatch: Calling spill() on RowBasedKeyValueBatch. Will not spill but return 0.\n",
      "22/12/08 21:23:38 WARN RowBasedKeyValueBatch: Calling spill() on RowBasedKeyValueBatch. Will not spill but return 0.\n",
      "22/12/08 21:23:43 WARN RowBasedKeyValueBatch: Calling spill() on RowBasedKeyValueBatch. Will not spill but return 0.\n",
      "22/12/08 21:23:47 WARN RowBasedKeyValueBatch: Calling spill() on RowBasedKeyValueBatch. Will not spill but return 0.\n"
     ]
    },
    {
     "name": "stderr",
     "output_type": "stream",
     "text": [
      "[Stage 842:==========>    (15 + 2) / 22][Stage 844:>                (0 + 0) / 1]\r"
     ]
    },
    {
     "name": "stdout",
     "output_type": "stream",
     "text": [
      "22/12/08 21:24:00 WARN RowBasedKeyValueBatch: Calling spill() on RowBasedKeyValueBatch. Will not spill but return 0.\n",
      "22/12/08 21:24:05 WARN RowBasedKeyValueBatch: Calling spill() on RowBasedKeyValueBatch. Will not spill but return 0.\n",
      "22/12/08 21:24:09 WARN RowBasedKeyValueBatch: Calling spill() on RowBasedKeyValueBatch. Will not spill but return 0.\n",
      "22/12/08 21:24:12 WARN RowBasedKeyValueBatch: Calling spill() on RowBasedKeyValueBatch. Will not spill but return 0.\n"
     ]
    },
    {
     "name": "stderr",
     "output_type": "stream",
     "text": [
      "[Stage 842:===========>   (17 + 2) / 22][Stage 844:>                (0 + 0) / 1]\r"
     ]
    },
    {
     "name": "stdout",
     "output_type": "stream",
     "text": [
      "22/12/08 21:24:28 WARN RowBasedKeyValueBatch: Calling spill() on RowBasedKeyValueBatch. Will not spill but return 0.\n",
      "22/12/08 21:24:31 WARN RowBasedKeyValueBatch: Calling spill() on RowBasedKeyValueBatch. Will not spill but return 0.\n",
      "22/12/08 21:24:37 WARN RowBasedKeyValueBatch: Calling spill() on RowBasedKeyValueBatch. Will not spill but return 0.\n",
      "22/12/08 21:24:41 WARN RowBasedKeyValueBatch: Calling spill() on RowBasedKeyValueBatch. Will not spill but return 0.\n"
     ]
    },
    {
     "name": "stderr",
     "output_type": "stream",
     "text": [
      "[Stage 842:============>  (19 + 2) / 22][Stage 844:>                (0 + 0) / 1]\r"
     ]
    },
    {
     "name": "stdout",
     "output_type": "stream",
     "text": [
      "22/12/08 21:24:55 WARN RowBasedKeyValueBatch: Calling spill() on RowBasedKeyValueBatch. Will not spill but return 0.\n",
      "22/12/08 21:25:00 WARN RowBasedKeyValueBatch: Calling spill() on RowBasedKeyValueBatch. Will not spill but return 0.\n",
      "22/12/08 21:25:02 WARN RowBasedKeyValueBatch: Calling spill() on RowBasedKeyValueBatch. Will not spill but return 0.\n"
     ]
    },
    {
     "name": "stderr",
     "output_type": "stream",
     "text": [
      "[Stage 842:=============> (20 + 2) / 22][Stage 844:>                (0 + 0) / 1]\r"
     ]
    },
    {
     "name": "stdout",
     "output_type": "stream",
     "text": [
      "22/12/08 21:25:09 WARN RowBasedKeyValueBatch: Calling spill() on RowBasedKeyValueBatch. Will not spill but return 0.\n"
     ]
    },
    {
     "name": "stderr",
     "output_type": "stream",
     "text": [
      "                                                                                \r"
     ]
    }
   ],
   "source": [
    "evaluator = RegressionEvaluator(metricName=\"rmse\", labelCol=\"my_score\", predictionCol=\"prediction\")\n",
    "rmse = evaluator.evaluate(test)"
   ]
  },
  {
   "cell_type": "code",
   "execution_count": 125,
   "id": "c4881ba9",
   "metadata": {
    "execution": {
     "iopub.execute_input": "2022-12-08T21:30:42.462787Z",
     "iopub.status.busy": "2022-12-08T21:30:42.461783Z",
     "iopub.status.idle": "2022-12-08T21:30:42.467627Z",
     "shell.execute_reply": "2022-12-08T21:30:42.466597Z"
    },
    "id": "-uA-4aDJPWLs",
    "papermill": {
     "duration": 0.177358,
     "end_time": "2022-12-08T21:30:42.470058",
     "exception": false,
     "start_time": "2022-12-08T21:30:42.292700",
     "status": "completed"
    },
    "tags": []
   },
   "outputs": [
    {
     "name": "stdout",
     "output_type": "stream",
     "text": [
      "RMSE:1.2645565731487813\n"
     ]
    }
   ],
   "source": [
    "print(\"RMSE:\" + str(rmse))"
   ]
  },
  {
   "cell_type": "code",
   "execution_count": null,
   "id": "06e114a4",
   "metadata": {
    "id": "6GsKgqhQPoXI",
    "papermill": {
     "duration": 0.16959,
     "end_time": "2022-12-08T21:30:42.805359",
     "exception": false,
     "start_time": "2022-12-08T21:30:42.635769",
     "status": "completed"
    },
    "tags": []
   },
   "outputs": [],
   "source": []
  }
 ],
 "metadata": {
  "kernelspec": {
   "display_name": "Python 3",
   "language": "python",
   "name": "python3"
  },
  "language_info": {
   "codemirror_mode": {
    "name": "ipython",
    "version": 3
   },
   "file_extension": ".py",
   "mimetype": "text/x-python",
   "name": "python",
   "nbconvert_exporter": "python",
   "pygments_lexer": "ipython3",
   "version": "3.7.12"
  },
  "papermill": {
   "default_parameters": {},
   "duration": 27843.246817,
   "end_time": "2022-12-08T21:30:45.671726",
   "environment_variables": {},
   "exception": null,
   "input_path": "__notebook__.ipynb",
   "output_path": "__notebook__.ipynb",
   "parameters": {},
   "start_time": "2022-12-08T13:46:42.424909",
   "version": "2.3.4"
  }
 },
 "nbformat": 4,
 "nbformat_minor": 5
}
