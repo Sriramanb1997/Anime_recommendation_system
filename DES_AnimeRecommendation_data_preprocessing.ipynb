{
  "nbformat": 4,
  "nbformat_minor": 0,
  "metadata": {
    "colab": {
      "provenance": []
    },
    "kernelspec": {
      "name": "python3",
      "display_name": "Python 3"
    },
    "language_info": {
      "name": "python"
    }
  },
  "cells": [
    {
      "cell_type": "markdown",
      "source": [
        "# Imports and setup "
      ],
      "metadata": {
        "id": "sWn9p1YOsSZa"
      }
    },
    {
      "cell_type": "code",
      "execution_count": 54,
      "metadata": {
        "colab": {
          "base_uri": "https://localhost:8080/"
        },
        "id": "KpK2Et0qqXAC",
        "outputId": "0047f6bc-d736-45c6-f7a5-610462be92fa"
      },
      "outputs": [
        {
          "output_type": "stream",
          "name": "stdout",
          "text": [
            "Drive already mounted at /content/drive; to attempt to forcibly remount, call drive.mount(\"/content/drive\", force_remount=True).\n"
          ]
        }
      ],
      "source": [
        "from google.colab import drive\n",
        "drive.mount('/content/drive')"
      ]
    },
    {
      "cell_type": "code",
      "source": [
        "!apt-get install openjdk-8-jdk-headless -qq > /dev/null\n",
        "#Add Check for .tgz file present\n",
        "!wget -q https://mirrors.estointernet.in/apache/spark/spark-3.0.3/spark-3.0.3-bin-hadoop2.7.tgz\n",
        "!tar xf /content/spark-3.0.3-bin-hadoop2.7.tgz\n",
        "!pip install -q findspark\n",
        "\n",
        "import os\n",
        "os.environ[\"JAVA_HOME\"] = \"/usr/lib/jvm/java-8-openjdk-amd64\"\n",
        "os.environ[\"SPARK_HOME\"] = \"/content/spark-3.0.3-bin-hadoop2.7\""
      ],
      "metadata": {
        "id": "vC_ZGjSf5c6H"
      },
      "execution_count": 55,
      "outputs": []
    },
    {
      "cell_type": "code",
      "source": [
        "#Step 2: Imports\n",
        "\n",
        "#Spark\n",
        "import findspark\n",
        "findspark.init()\n",
        "findspark.find()\n",
        "from pyspark.sql.types import *\n",
        "from pyspark.sql.functions import col\n",
        "import pyspark.sql.functions as F\n",
        "from pyspark.sql import SparkSession\n",
        "from pyspark.sql.window import Window\n",
        "from pyspark.ml.feature import StringIndexer, OneHotEncoder, VectorAssembler, CountVectorizer\n",
        "from pyspark.ml import Pipeline\n",
        "import regex as re\n",
        "import string\n",
        "import pyspark\n",
        "from pyspark.sql.functions import *\n",
        "from pyspark.sql.types import *\n",
        "from pyspark.ml.stat import Summarizer\n",
        "import matplotlib.pyplot as plt\n",
        "import numpy as np"
      ],
      "metadata": {
        "id": "Ud60BIOc5gi-"
      },
      "execution_count": 56,
      "outputs": []
    },
    {
      "cell_type": "code",
      "source": [
        "spark = SparkSession.builder\\\n",
        "         .master(\"local\")\\\n",
        "         .appName(\"Colab\")\\\n",
        "         .config('spark.ui.port', '4050')\\\n",
        "         .getOrCreate()"
      ],
      "metadata": {
        "id": "zX87xOau5lX5"
      },
      "execution_count": 57,
      "outputs": []
    },
    {
      "cell_type": "code",
      "source": [
        "ROOT = \"/content/drive/MyDrive/MyAnimeList-parquet/\""
      ],
      "metadata": {
        "id": "J0J5KhVJ5uw_"
      },
      "execution_count": 58,
      "outputs": []
    },
    {
      "cell_type": "code",
      "source": [
        "anime_df = spark.read.format(\"parquet\").option(\"header\", \"true\") \\\n",
        "                                   .option(\"headers\", \"true\") \\\n",
        "                                   .option('escape','\"') \\\n",
        "                                   .option(\"inferSchema\", \"true\") \\\n",
        "                                   .load(ROOT + \"anime_cleaned.parquet\", sep=',')"
      ],
      "metadata": {
        "id": "56dZon705nuJ"
      },
      "execution_count": 59,
      "outputs": []
    },
    {
      "cell_type": "code",
      "source": [
        "anime_df.show(5)"
      ],
      "metadata": {
        "id": "FZNBFIFq5zPL",
        "colab": {
          "base_uri": "https://localhost:8080/"
        },
        "outputId": "2e100848-7c16-40ac-addd-a4c696aae16e"
      },
      "execution_count": 60,
      "outputs": [
        {
          "output_type": "stream",
          "name": "stdout",
          "text": [
            "+--------+-------------------+--------------------+----------------------+--------------------+--------------------+----+--------+--------+---------------+------+--------------------+--------------------+---------------+--------------------+-----+---------+------+----------+-------+---------+--------------------+-----------+------------------+--------------------+--------------------+----------------+----------------+--------------------+--------------------+--------------------+------------+---------------+\n",
            "|anime_id|              title|       title_english|        title_japanese|      title_synonyms|           image_url|type|  source|episodes|         status|airing|        aired_string|               aired|       duration|              rating|score|scored_by|  rank|popularity|members|favorites|          background|  premiered|         broadcast|             related|            producer|        licensor|          studio|               genre|       opening_theme|        ending_theme|duration_min|aired_from_year|\n",
            "+--------+-------------------+--------------------+----------------------+--------------------+--------------------+----+--------+--------+---------------+------+--------------------+--------------------+---------------+--------------------+-----+---------+------+----------+-------+---------+--------------------+-----------+------------------+--------------------+--------------------+----------------+----------------+--------------------+--------------------+--------------------+------------+---------------+\n",
            "|   11013|      Inu x Boku SS|Inu X Boku Secret...|             妖狐×僕SS|     Youko x Boku SS|https://myanimeli...|  TV|   Manga|      12|Finished Airing| false|Jan 13, 2012 to M...|{'from': '2012-01...|24 min. per ep.|PG-13 - Teens 13 ...| 7.63|   139250|1274.0|       231| 283882|     2809|Inu x Boku SS was...|Winter 2012|Fridays at Unknown|{'Adaptation': [{...|Aniplex, Square E...|Sentai Filmworks|David Production|Comedy, Supernatu...|['\"Nirvana\" by MU...|['#1: \"Nirvana\" b...|        24.0|         2012.0|\n",
            "|    2104|   Seto no Hanayome|My Bride is a Mer...|            瀬戸の花嫁|The Inland Sea Bride|https://myanimeli...|  TV|   Manga|      26|Finished Airing| false|Apr 2, 2007 to Oc...|{'from': '2007-04...|24 min. per ep.|PG-13 - Teens 13 ...| 7.89|    91206| 727.0|       366| 204003|     2579|                null|Spring 2007|           Unknown|{'Adaptation': [{...|TV Tokyo, AIC, Sq...|      Funimation|           Gonzo|Comedy, Parody, R...|['\"Romantic summe...|['#1: \"Ashita e n...|        24.0|         2007.0|\n",
            "|    5262| Shugo Chara!! Doki|  Shugo Chara!! Doki|しゅごキャラ！！どきっ|Shugo Chara Ninen...|https://myanimeli...|  TV|   Manga|      51|Finished Airing| false|Oct 4, 2008 to Se...|{'from': '2008-10...|24 min. per ep.|       PG - Children| 7.55|    37129|1508.0|      1173|  70127|      802|                null|  Fall 2008|           Unknown|{'Adaptation': [{...|     TV Tokyo, Sotsu|            null|       Satelight|Comedy, Magic, Sc...|['#1: \"Minna no T...|['#1: \"Rottara Ro...|        24.0|         2008.0|\n",
            "|     721|      Princess Tutu|       Princess Tutu|    プリンセスチュチュ|                null|https://myanimeli...|  TV|Original|      38|Finished Airing| false|Aug 16, 2002 to M...|{'from': '2002-08...|16 min. per ep.|PG-13 - Teens 13 ...| 8.21|    36501| 307.0|       916|  93312|     3344|Princess Tutu air...|Summer 2002|Fridays at Unknown|{'Adaptation': [{...|Memory-Tech, GANS...|       ADV Films|  Hal Film Maker|Comedy, Drama, Ma...|['\"Morning Grace\"...|['\"Watashi No Ai ...|        16.0|         2002.0|\n",
            "|   12365|Bakuman. 3rd Season|            Bakuman.|            バクマン。|    Bakuman Season 3|https://myanimeli...|  TV|   Manga|      25|Finished Airing| false|Oct 6, 2012 to Ma...|{'from': '2012-10...|24 min. per ep.|PG-13 - Teens 13 ...| 8.67|   107767|  50.0|       426| 182765|     2082|                null|  Fall 2012|           Unknown|{'Adaptation': [{...|       NHK, Shueisha|            null|       J.C.Staff|Comedy, Drama, Ro...|['#1: \"Moshimo no...|['#1: \"Pride on E...|        24.0|         2012.0|\n",
            "+--------+-------------------+--------------------+----------------------+--------------------+--------------------+----+--------+--------+---------------+------+--------------------+--------------------+---------------+--------------------+-----+---------+------+----------+-------+---------+--------------------+-----------+------------------+--------------------+--------------------+----------------+----------------+--------------------+--------------------+--------------------+------------+---------------+\n",
            "only showing top 5 rows\n",
            "\n"
          ]
        }
      ]
    },
    {
      "cell_type": "code",
      "source": [
        "user_df = spark.read.format(\"parquet\").option(\"header\", \"true\") \\\n",
        "                                   .option(\"headers\", \"true\") \\\n",
        "                                   .option('escape','\"') \\\n",
        "                                   .option(\"inferSchema\", \"true\") \\\n",
        "                                   .load(ROOT + \"users_cleaned.parquet\", sep=',')"
      ],
      "metadata": {
        "id": "8lXbbeGwsieb"
      },
      "execution_count": 61,
      "outputs": []
    },
    {
      "cell_type": "code",
      "source": [
        "user_df.show(5)"
      ],
      "metadata": {
        "id": "xn7MbZ1Jsnno",
        "colab": {
          "base_uri": "https://localhost:8080/"
        },
        "outputId": "ebb3fc10-8e93-4de4-d8a1-55b19f4a1d31"
      },
      "execution_count": 62,
      "outputs": [
        {
          "output_type": "stream",
          "name": "stdout",
          "text": [
            "+--------------+-------+-------------+--------------+-----------+------------+----------------+------------------------+------+-------------------+-------------------+-----------+-------------------+-------------------+----------------+---------------+--------------+\n",
            "|      username|user_id|user_watching|user_completed|user_onhold|user_dropped|user_plantowatch|user_days_spent_watching|gender|           location|         birth_date|access_rank|          join_date|        last_online|stats_mean_score|stats_rewatched|stats_episodes|\n",
            "+--------------+-------+-------------+--------------+-----------+------------+----------------+------------------------+------+-------------------+-------------------+-----------+-------------------+-------------------+----------------+---------------+--------------+\n",
            "|      karthiga|2255153|            3|            49|          1|           0|               0|       55.09166666666667|Female|    Chennai, India |1990-04-29 00:00:00|       null|2013-03-03 00:00:00|2014-02-04 01:32:00|            7.43|            0.0|          3391|\n",
            "|     Damonashu|  37326|           45|           195|         27|          25|              59|       82.57430555555555|  Male|   Detroit,Michigan|1991-08-01 00:00:00|       null|2008-02-13 00:00:00|2017-07-10 06:52:54|            6.15|            6.0|          4903|\n",
            "|         bskai| 228342|           25|           414|          2|           5|              11|      159.48333333333332|  Male|    Nayarit, Mexico|1990-12-14 00:00:00|       null|2009-08-31 00:00:00|2014-05-12 16:35:00|            8.27|            1.0|          9701|\n",
            "|terune_uzumaki| 327311|            5|             5|          0|           0|               0|      11.394444444444444|Female|  Malaysia, Kuantan|1998-08-24 00:00:00|       null|2010-05-10 00:00:00|2012-10-18 19:06:00|             9.7|            6.0|           697|\n",
            "|         Bas_G|5015094|           35|           114|          6|          20|             175|       30.45833333333333|  Male|Nijmegen, Nederland|1999-10-24 00:00:00|       null|2015-11-26 00:00:00|2018-05-10 20:53:37|            7.86|            0.0|          1847|\n",
            "+--------------+-------+-------------+--------------+-----------+------------+----------------+------------------------+------+-------------------+-------------------+-----------+-------------------+-------------------+----------------+---------------+--------------+\n",
            "only showing top 5 rows\n",
            "\n"
          ]
        }
      ]
    },
    {
      "cell_type": "code",
      "source": [
        "UA_df = spark.read.format(\"parquet\").option(\"header\", \"true\") \\\n",
        "                                   .option(\"headers\", \"true\") \\\n",
        "                                   .option('escape','\"') \\\n",
        "                                   .option(\"inferSchema\", \"true\") \\\n",
        "                                   .load(ROOT + \"animelists_cleaned.parquet\", sep=',')"
      ],
      "metadata": {
        "id": "IFmrWt83S5U6"
      },
      "execution_count": 63,
      "outputs": []
    },
    {
      "cell_type": "code",
      "source": [
        "UA_df.show(5)"
      ],
      "metadata": {
        "id": "U_LLznE1TJii",
        "colab": {
          "base_uri": "https://localhost:8080/"
        },
        "outputId": "f8fec3e6-3fad-4213-9cd9-99896cfc7b6d"
      },
      "execution_count": 64,
      "outputs": [
        {
          "output_type": "stream",
          "name": "stdout",
          "text": [
            "+--------+--------+-------------------+-------------+--------------+--------+---------+-------------+----------------+-------------------+-------+\n",
            "|username|anime_id|my_watched_episodes|my_start_date|my_finish_date|my_score|my_status|my_rewatching|my_rewatching_ep|    my_last_updated|my_tags|\n",
            "+--------+--------+-------------------+-------------+--------------+--------+---------+-------------+----------------+-------------------+-------+\n",
            "|karthiga|      21|                586|   0000-00-00|    0000-00-00|       9|        1|         null|               0|2013-03-03 10:52:53|   null|\n",
            "|karthiga|      59|                 26|   0000-00-00|    0000-00-00|       7|        2|         null|               0|2013-03-10 13:54:51|   null|\n",
            "|karthiga|      74|                 26|   0000-00-00|    0000-00-00|       7|        2|         null|               0|2013-04-27 16:43:35|   null|\n",
            "|karthiga|     120|                 26|   0000-00-00|    0000-00-00|       7|        2|         null|               0|2013-03-03 10:53:57|   null|\n",
            "|karthiga|     178|                 26|   0000-00-00|    0000-00-00|       7|        2|          0.0|               0|2013-03-27 15:59:13|   null|\n",
            "+--------+--------+-------------------+-------------+--------------+--------+---------+-------------+----------------+-------------------+-------+\n",
            "only showing top 5 rows\n",
            "\n"
          ]
        }
      ]
    },
    {
      "cell_type": "markdown",
      "source": [
        "# Preparing data"
      ],
      "metadata": {
        "id": "sY6MVyaFsZa0"
      }
    },
    {
      "cell_type": "markdown",
      "source": [
        "anime df"
      ],
      "metadata": {
        "id": "wBE8P7VUX5W6"
      }
    },
    {
      "cell_type": "code",
      "source": [
        "#filling null genre values\n",
        "anime_df = anime_df.fillna('', subset=['genre'])"
      ],
      "metadata": {
        "id": "Fw53E4nF7YbM"
      },
      "execution_count": 65,
      "outputs": []
    },
    {
      "cell_type": "code",
      "source": [
        "anime_df.show(2)"
      ],
      "metadata": {
        "colab": {
          "base_uri": "https://localhost:8080/"
        },
        "id": "Tao2DdmyXh0f",
        "outputId": "abaf1ca8-036d-4f94-dbc9-ef21d157b979"
      },
      "execution_count": 66,
      "outputs": [
        {
          "output_type": "stream",
          "name": "stdout",
          "text": [
            "+--------+----------------+--------------------+--------------+--------------------+--------------------+----+------+--------+---------------+------+--------------------+--------------------+---------------+--------------------+-----+---------+------+----------+-------+---------+--------------------+-----------+------------------+--------------------+--------------------+----------------+----------------+--------------------+--------------------+--------------------+------------+---------------+\n",
            "|anime_id|           title|       title_english|title_japanese|      title_synonyms|           image_url|type|source|episodes|         status|airing|        aired_string|               aired|       duration|              rating|score|scored_by|  rank|popularity|members|favorites|          background|  premiered|         broadcast|             related|            producer|        licensor|          studio|               genre|       opening_theme|        ending_theme|duration_min|aired_from_year|\n",
            "+--------+----------------+--------------------+--------------+--------------------+--------------------+----+------+--------+---------------+------+--------------------+--------------------+---------------+--------------------+-----+---------+------+----------+-------+---------+--------------------+-----------+------------------+--------------------+--------------------+----------------+----------------+--------------------+--------------------+--------------------+------------+---------------+\n",
            "|   11013|   Inu x Boku SS|Inu X Boku Secret...|     妖狐×僕SS|     Youko x Boku SS|https://myanimeli...|  TV| Manga|      12|Finished Airing| false|Jan 13, 2012 to M...|{'from': '2012-01...|24 min. per ep.|PG-13 - Teens 13 ...| 7.63|   139250|1274.0|       231| 283882|     2809|Inu x Boku SS was...|Winter 2012|Fridays at Unknown|{'Adaptation': [{...|Aniplex, Square E...|Sentai Filmworks|David Production|Comedy, Supernatu...|['\"Nirvana\" by MU...|['#1: \"Nirvana\" b...|        24.0|         2012.0|\n",
            "|    2104|Seto no Hanayome|My Bride is a Mer...|    瀬戸の花嫁|The Inland Sea Bride|https://myanimeli...|  TV| Manga|      26|Finished Airing| false|Apr 2, 2007 to Oc...|{'from': '2007-04...|24 min. per ep.|PG-13 - Teens 13 ...| 7.89|    91206| 727.0|       366| 204003|     2579|                null|Spring 2007|           Unknown|{'Adaptation': [{...|TV Tokyo, AIC, Sq...|      Funimation|           Gonzo|Comedy, Parody, R...|['\"Romantic summe...|['#1: \"Ashita e n...|        24.0|         2007.0|\n",
            "+--------+----------------+--------------------+--------------+--------------------+--------------------+----+------+--------+---------------+------+--------------------+--------------------+---------------+--------------------+-----+---------+------+----------+-------+---------+--------------------+-----------+------------------+--------------------+--------------------+----------------+----------------+--------------------+--------------------+--------------------+------------+---------------+\n",
            "only showing top 2 rows\n",
            "\n"
          ]
        }
      ]
    },
    {
      "cell_type": "code",
      "source": [
        "#removing scored_by as its highly correlated with members column and rank as its inversely correlated with score\n",
        "cols = ['title', 'title_english', 'title_japanese', 'title_synonyms', 'image_url', 'aired_string', 'background',\n",
        "       'broadcast', 'related', 'opening_theme', 'ending_theme', 'studio','scored_by','premiered','producer','licensor','rank','duration']\n",
        "anime_df = anime_df.drop(*cols)"
      ],
      "metadata": {
        "id": "AKmG5ceSRINY"
      },
      "execution_count": 67,
      "outputs": []
    },
    {
      "cell_type": "code",
      "source": [
        "anime_df.show(2)"
      ],
      "metadata": {
        "colab": {
          "base_uri": "https://localhost:8080/"
        },
        "id": "a2PzcMMeX9ZJ",
        "outputId": "d6e6abe1-9823-4eee-c809-4fab47b8bea4"
      },
      "execution_count": 68,
      "outputs": [
        {
          "output_type": "stream",
          "name": "stdout",
          "text": [
            "+--------+----+------+--------+---------------+------+--------------------+--------------------+-----+----------+-------+---------+--------------------+------------+---------------+\n",
            "|anime_id|type|source|episodes|         status|airing|               aired|              rating|score|popularity|members|favorites|               genre|duration_min|aired_from_year|\n",
            "+--------+----+------+--------+---------------+------+--------------------+--------------------+-----+----------+-------+---------+--------------------+------------+---------------+\n",
            "|   11013|  TV| Manga|      12|Finished Airing| false|{'from': '2012-01...|PG-13 - Teens 13 ...| 7.63|       231| 283882|     2809|Comedy, Supernatu...|        24.0|         2012.0|\n",
            "|    2104|  TV| Manga|      26|Finished Airing| false|{'from': '2007-04...|PG-13 - Teens 13 ...| 7.89|       366| 204003|     2579|Comedy, Parody, R...|        24.0|         2007.0|\n",
            "+--------+----+------+--------+---------------+------+--------------------+--------------------+-----+----------+-------+---------+--------------------+------------+---------------+\n",
            "only showing top 2 rows\n",
            "\n"
          ]
        }
      ]
    },
    {
      "cell_type": "code",
      "source": [
        "anime_df = anime_df.withColumn(\"episodes\", anime_df.episodes.cast('float'))\n",
        "anime_df = anime_df.withColumn(\"score\", anime_df.score.cast('float'))\n",
        "anime_df = anime_df.withColumn(\"popularity\", anime_df.popularity.cast('float'))\n",
        "anime_df = anime_df.withColumn(\"members\", anime_df.members.cast('float'))\n",
        "anime_df = anime_df.withColumn(\"favorites\", anime_df.favorites.cast('float'))\n",
        "anime_df = anime_df.withColumn(\"airing\", anime_df.favorites.cast('String'))"
      ],
      "metadata": {
        "id": "HXPIOVR-7k8B"
      },
      "execution_count": 69,
      "outputs": []
    },
    {
      "cell_type": "code",
      "source": [
        "#converting genre to array of strings\n",
        "anime_df = anime_df.withColumn(\n",
        "    'genre',\n",
        "    split(regexp_replace('genre', ' ', ''), ',').cast(\"array<string>\").alias(\"genre\")\n",
        ")"
      ],
      "metadata": {
        "id": "JCodgvOH8ZvW"
      },
      "execution_count": 70,
      "outputs": []
    },
    {
      "cell_type": "code",
      "source": [
        "anime_df.show(2)"
      ],
      "metadata": {
        "colab": {
          "base_uri": "https://localhost:8080/"
        },
        "id": "7O__UNh9YQAn",
        "outputId": "60ffab21-af4c-4835-9b88-dd2c2cdada87"
      },
      "execution_count": 71,
      "outputs": [
        {
          "output_type": "stream",
          "name": "stdout",
          "text": [
            "+--------+----+------+--------+---------------+------+--------------------+--------------------+-----+----------+--------+---------+--------------------+------------+---------------+\n",
            "|anime_id|type|source|episodes|         status|airing|               aired|              rating|score|popularity| members|favorites|               genre|duration_min|aired_from_year|\n",
            "+--------+----+------+--------+---------------+------+--------------------+--------------------+-----+----------+--------+---------+--------------------+------------+---------------+\n",
            "|   11013|  TV| Manga|    12.0|Finished Airing|2809.0|{'from': '2012-01...|PG-13 - Teens 13 ...| 7.63|     231.0|283882.0|   2809.0|[Comedy, Supernat...|        24.0|         2012.0|\n",
            "|    2104|  TV| Manga|    26.0|Finished Airing|2579.0|{'from': '2007-04...|PG-13 - Teens 13 ...| 7.89|     366.0|204003.0|   2579.0|[Comedy, Parody, ...|        24.0|         2007.0|\n",
            "+--------+----+------+--------+---------------+------+--------------------+--------------------+-----+----------+--------+---------+--------------------+------------+---------------+\n",
            "only showing top 2 rows\n",
            "\n"
          ]
        }
      ]
    },
    {
      "cell_type": "code",
      "source": [
        "anime_df = CountVectorizer(inputCol=\"genre\", outputCol=\"genre_fv\").fit(anime_df).transform(anime_df)\n",
        "anime_df = anime_df.drop('genre')"
      ],
      "metadata": {
        "id": "kx6G4v0F8TjO"
      },
      "execution_count": 72,
      "outputs": []
    },
    {
      "cell_type": "code",
      "source": [
        "anime_df.show(2)"
      ],
      "metadata": {
        "colab": {
          "base_uri": "https://localhost:8080/"
        },
        "id": "-tYeBbifYch2",
        "outputId": "143cb8c2-eb64-4d76-9269-6d1f1a1d72b9"
      },
      "execution_count": 73,
      "outputs": [
        {
          "output_type": "stream",
          "name": "stdout",
          "text": [
            "+--------+----+------+--------+---------------+------+--------------------+--------------------+-----+----------+--------+---------+------------+---------------+--------------------+\n",
            "|anime_id|type|source|episodes|         status|airing|               aired|              rating|score|popularity| members|favorites|duration_min|aired_from_year|            genre_fv|\n",
            "+--------+----+------+--------+---------------+------+--------------------+--------------------+-----+----------+--------+---------+------------+---------------+--------------------+\n",
            "|   11013|  TV| Manga|    12.0|Finished Airing|2809.0|{'from': '2012-01...|PG-13 - Teens 13 ...| 7.63|     231.0|283882.0|   2809.0|        24.0|         2012.0|(44,[0,6,7,10],[1...|\n",
            "|    2104|  TV| Manga|    26.0|Finished Airing|2579.0|{'from': '2007-04...|PG-13 - Teens 13 ...| 7.89|     366.0|204003.0|   2579.0|        24.0|         2007.0|(44,[0,6,7,8,25],...|\n",
            "+--------+----+------+--------+---------------+------+--------------------+--------------------+-----+----------+--------+---------+------------+---------------+--------------------+\n",
            "only showing top 2 rows\n",
            "\n"
          ]
        }
      ]
    },
    {
      "cell_type": "code",
      "source": [
        "categoricalColumns = ['type', 'source', 'status', 'rating','airing','aired']\n",
        "stages = []\n",
        "for categoricalCol in categoricalColumns:\n",
        "    stringIndexer = StringIndexer(inputCol = categoricalCol, outputCol = categoricalCol + 'Index')\n",
        "    encoder = OneHotEncoder(inputCols=[stringIndexer.getOutputCol()], outputCols=[categoricalCol + \"classVec\"])\n",
        "    stages += [stringIndexer, encoder]"
      ],
      "metadata": {
        "id": "PkA2lOhQ58R-"
      },
      "execution_count": 74,
      "outputs": []
    },
    {
      "cell_type": "code",
      "source": [
        "numericCols = ['episodes', 'score', 'popularity', 'members', 'favorites', 'genre_fv','duration_min','aired_from_year'] \n",
        "assemblerInputs = [c + \"classVec\" for c in categoricalColumns] + numericCols\n",
        "assembler = VectorAssembler(inputCols=assemblerInputs, outputCol=\"item_feats_profile\")\n",
        "stages += [assembler]"
      ],
      "metadata": {
        "id": "q2y17fbr69jD"
      },
      "execution_count": 75,
      "outputs": []
    },
    {
      "cell_type": "code",
      "source": [
        "pipeline = Pipeline(stages = stages)\n",
        "pipelineModel = pipeline.fit(anime_df)\n",
        "anime_df = pipelineModel.transform(anime_df)"
      ],
      "metadata": {
        "id": "ufPwmior7Ahg"
      },
      "execution_count": 76,
      "outputs": []
    },
    {
      "cell_type": "code",
      "source": [
        "anime_df.show(2)"
      ],
      "metadata": {
        "id": "qF1hVmlV9Rs8",
        "colab": {
          "base_uri": "https://localhost:8080/"
        },
        "outputId": "e9cc31d2-9f97-4863-b80c-0cb7521b7095"
      },
      "execution_count": 77,
      "outputs": [
        {
          "output_type": "stream",
          "name": "stdout",
          "text": [
            "+--------+----+------+--------+---------------+------+--------------------+--------------------+-----+----------+--------+---------+------------+---------------+--------------------+---------+-------------+-----------+--------------+-----------+--------------+-----------+--------------+-----------+------------------+----------+-------------------+--------------------+\n",
            "|anime_id|type|source|episodes|         status|airing|               aired|              rating|score|popularity| members|favorites|duration_min|aired_from_year|            genre_fv|typeIndex| typeclassVec|sourceIndex|sourceclassVec|statusIndex|statusclassVec|ratingIndex|ratingclassVec|airingIndex|    airingclassVec|airedIndex|      airedclassVec|  item_feats_profile|\n",
            "+--------+----+------+--------+---------------+------+--------------------+--------------------+-----+----------+--------+---------+------------+---------------+--------------------+---------+-------------+-----------+--------------+-----------+--------------+-----------+--------------+-----------+------------------+----------+-------------------+--------------------+\n",
            "|   11013|  TV| Manga|    12.0|Finished Airing|2809.0|{'from': '2012-01...|PG-13 - Teens 13 ...| 7.63|     231.0|283882.0|   2809.0|        24.0|         2012.0|(44,[0,6,7,10],[1...|      0.0|(5,[0],[1.0])|        0.0|(14,[0],[1.0])|        0.0| (1,[0],[1.0])|        0.0| (6,[0],[1.0])|      771.0|(1224,[771],[1.0])|    3721.0|(5230,[3721],[1.0])|(6531,[0,5,19,20,...|\n",
            "|    2104|  TV| Manga|    26.0|Finished Airing|2579.0|{'from': '2007-04...|PG-13 - Teens 13 ...| 7.89|     366.0|204003.0|   2579.0|        24.0|         2007.0|(44,[0,6,7,8,25],...|      0.0|(5,[0],[1.0])|        0.0|(14,[0],[1.0])|        0.0| (1,[0],[1.0])|        0.0| (6,[0],[1.0])|      330.0|(1224,[330],[1.0])|     425.0| (5230,[425],[1.0])|(6531,[0,5,19,20,...|\n",
            "+--------+----+------+--------+---------------+------+--------------------+--------------------+-----+----------+--------+---------+------------+---------------+--------------------+---------+-------------+-----------+--------------+-----------+--------------+-----------+--------------+-----------+------------------+----------+-------------------+--------------------+\n",
            "only showing top 2 rows\n",
            "\n"
          ]
        }
      ]
    },
    {
      "cell_type": "code",
      "source": [
        "selectedCols = ['anime_id', 'item_feats_profile']\n",
        "anime_df = anime_df.select(selectedCols)"
      ],
      "metadata": {
        "id": "YF5_ZanzZl5T"
      },
      "execution_count": 78,
      "outputs": []
    },
    {
      "cell_type": "code",
      "source": [
        "anime_df.show(5)"
      ],
      "metadata": {
        "id": "XTTGnRvCZqWx",
        "colab": {
          "base_uri": "https://localhost:8080/"
        },
        "outputId": "c68f9079-ed73-4a60-d978-17ac2f77b356"
      },
      "execution_count": 79,
      "outputs": [
        {
          "output_type": "stream",
          "name": "stdout",
          "text": [
            "+--------+--------------------+\n",
            "|anime_id|  item_feats_profile|\n",
            "+--------+--------------------+\n",
            "|   11013|(6531,[0,5,19,20,...|\n",
            "|    2104|(6531,[0,5,19,20,...|\n",
            "|    5262|(6531,[0,5,19,24,...|\n",
            "|     721|(6531,[0,6,19,20,...|\n",
            "|   12365|(6531,[0,5,19,20,...|\n",
            "+--------+--------------------+\n",
            "only showing top 5 rows\n",
            "\n"
          ]
        }
      ]
    },
    {
      "cell_type": "markdown",
      "source": [
        "user df "
      ],
      "metadata": {
        "id": "jYWuRCH5X8fJ"
      }
    },
    {
      "cell_type": "code",
      "source": [
        "user_df.show(2)"
      ],
      "metadata": {
        "id": "BTXxo_DtZxBU",
        "colab": {
          "base_uri": "https://localhost:8080/"
        },
        "outputId": "e48b32e1-b7a3-473e-93d1-625a406002ee"
      },
      "execution_count": 80,
      "outputs": [
        {
          "output_type": "stream",
          "name": "stdout",
          "text": [
            "+---------+-------+-------------+--------------+-----------+------------+----------------+------------------------+------+----------------+-------------------+-----------+-------------------+-------------------+----------------+---------------+--------------+\n",
            "| username|user_id|user_watching|user_completed|user_onhold|user_dropped|user_plantowatch|user_days_spent_watching|gender|        location|         birth_date|access_rank|          join_date|        last_online|stats_mean_score|stats_rewatched|stats_episodes|\n",
            "+---------+-------+-------------+--------------+-----------+------------+----------------+------------------------+------+----------------+-------------------+-----------+-------------------+-------------------+----------------+---------------+--------------+\n",
            "| karthiga|2255153|            3|            49|          1|           0|               0|       55.09166666666667|Female| Chennai, India |1990-04-29 00:00:00|       null|2013-03-03 00:00:00|2014-02-04 01:32:00|            7.43|            0.0|          3391|\n",
            "|Damonashu|  37326|           45|           195|         27|          25|              59|       82.57430555555555|  Male|Detroit,Michigan|1991-08-01 00:00:00|       null|2008-02-13 00:00:00|2017-07-10 06:52:54|            6.15|            6.0|          4903|\n",
            "+---------+-------+-------------+--------------+-----------+------------+----------------+------------------------+------+----------------+-------------------+-----------+-------------------+-------------------+----------------+---------------+--------------+\n",
            "only showing top 2 rows\n",
            "\n"
          ]
        }
      ]
    },
    {
      "cell_type": "code",
      "source": [
        "user_df = user_df.filter(col('user_id').isNotNull())\n",
        "user_df = user_df.filter(col('username').isNotNull())\n",
        "user_df = user_df.filter(col('stats_episodes').isNotNull())\n",
        "user_df = user_df.fillna('', subset=['location'])"
      ],
      "metadata": {
        "id": "DPS4U5KFX3tZ"
      },
      "execution_count": 82,
      "outputs": []
    },
    {
      "cell_type": "code",
      "source": [
        "#user_completed is correlated to stats_episodes\n",
        "cols = ['access_rank', 'birth_date','join_date', 'last_online','user_completed','location']\n",
        "user_df = user_df.drop(*cols)"
      ],
      "metadata": {
        "id": "ujlyI2VeZ7o1"
      },
      "execution_count": 89,
      "outputs": []
    },
    {
      "cell_type": "code",
      "source": [
        "user_df.show(2)"
      ],
      "metadata": {
        "id": "_UjOXJARaSsB",
        "colab": {
          "base_uri": "https://localhost:8080/"
        },
        "outputId": "b58d0bd1-3ec7-43a9-94da-3758f848fd5c"
      },
      "execution_count": 90,
      "outputs": [
        {
          "output_type": "stream",
          "name": "stdout",
          "text": [
            "+---------+-------+-------------+-----------+------------+----------------+------------------------+------+----------------+---------------+--------------+\n",
            "| username|user_id|user_watching|user_onhold|user_dropped|user_plantowatch|user_days_spent_watching|gender|stats_mean_score|stats_rewatched|stats_episodes|\n",
            "+---------+-------+-------------+-----------+------------+----------------+------------------------+------+----------------+---------------+--------------+\n",
            "| karthiga|2255153|            3|          1|           0|               0|       55.09166666666667|Female|            7.43|            0.0|          3391|\n",
            "|Damonashu|  37326|           45|         27|          25|              59|       82.57430555555555|  Male|            6.15|            6.0|          4903|\n",
            "+---------+-------+-------------+-----------+------------+----------------+------------------------+------+----------------+---------------+--------------+\n",
            "only showing top 2 rows\n",
            "\n"
          ]
        }
      ]
    },
    {
      "cell_type": "code",
      "source": [
        "categoricalColumns = ['gender']\n",
        "stages = []\n",
        "for categoricalCol in categoricalColumns:\n",
        "    stringIndexer = StringIndexer(inputCol = categoricalCol, outputCol = categoricalCol + 'Index')\n",
        "    encoder = OneHotEncoder(inputCols=[stringIndexer.getOutputCol()], outputCols=[categoricalCol + \"classVec\"])\n",
        "    stages += [stringIndexer, encoder]"
      ],
      "metadata": {
        "id": "vXyK_jrKbxLs"
      },
      "execution_count": 91,
      "outputs": []
    },
    {
      "cell_type": "code",
      "source": [
        "NumericCols = ['user_watching', 'user_onhold', 'user_dropped', 'user_plantowatch', 'user_days_spent_watching', \n",
        "        'stats_rewatched', 'stats_episodes','stats_mean_score']\n",
        "assemblerInputs = [c + \"classVec\" for c in categoricalColumns] + NumericCols\n",
        "assembler = VectorAssembler(inputCols=assemblerInputs, outputCol=\"user_feats_profile\")\n",
        "stages += [assembler]"
      ],
      "metadata": {
        "id": "p4GUDzJ4aJvB"
      },
      "execution_count": 92,
      "outputs": []
    },
    {
      "cell_type": "code",
      "source": [
        "pipeline = Pipeline(stages = stages)\n",
        "pipelineModel = pipeline.fit(user_df)\n",
        "user_df = pipelineModel.transform(user_df)"
      ],
      "metadata": {
        "id": "CXTcEk8gaLAQ"
      },
      "execution_count": 93,
      "outputs": []
    },
    {
      "cell_type": "code",
      "source": [
        "selectedCols = ['username', 'user_id', 'user_feats_profile']\n",
        "user_df = user_df.select(selectedCols)"
      ],
      "metadata": {
        "id": "k0hPQW6caloT"
      },
      "execution_count": 94,
      "outputs": []
    },
    {
      "cell_type": "code",
      "source": [
        "user_df.show(5)"
      ],
      "metadata": {
        "id": "Ba_yyKKMan6F",
        "colab": {
          "base_uri": "https://localhost:8080/"
        },
        "outputId": "1925f882-eece-4f70-aa21-879829a7263b"
      },
      "execution_count": 95,
      "outputs": [
        {
          "output_type": "stream",
          "name": "stdout",
          "text": [
            "+--------------+-------+--------------------+\n",
            "|      username|user_id|  user_feats_profile|\n",
            "+--------------+-------+--------------------+\n",
            "|      karthiga|2255153|[0.0,1.0,3.0,1.0,...|\n",
            "|     Damonashu|  37326|[1.0,0.0,45.0,27....|\n",
            "|         bskai| 228342|[1.0,0.0,25.0,2.0...|\n",
            "|terune_uzumaki| 327311|[0.0,1.0,5.0,0.0,...|\n",
            "|         Bas_G|5015094|[1.0,0.0,35.0,6.0...|\n",
            "+--------------+-------+--------------------+\n",
            "only showing top 5 rows\n",
            "\n"
          ]
        }
      ]
    },
    {
      "cell_type": "markdown",
      "source": [
        "UA "
      ],
      "metadata": {
        "id": "I2ArFPt7auP2"
      }
    },
    {
      "cell_type": "code",
      "source": [
        "UA_df.show(5)"
      ],
      "metadata": {
        "id": "z5MUn1mCavIi",
        "colab": {
          "base_uri": "https://localhost:8080/"
        },
        "outputId": "bdbd5e32-fb92-442e-eed9-126f0aa9f22a"
      },
      "execution_count": 96,
      "outputs": [
        {
          "output_type": "stream",
          "name": "stdout",
          "text": [
            "+--------+--------+-------------------+-------------+--------------+--------+---------+-------------+----------------+-------------------+-------+\n",
            "|username|anime_id|my_watched_episodes|my_start_date|my_finish_date|my_score|my_status|my_rewatching|my_rewatching_ep|    my_last_updated|my_tags|\n",
            "+--------+--------+-------------------+-------------+--------------+--------+---------+-------------+----------------+-------------------+-------+\n",
            "|karthiga|      21|                586|   0000-00-00|    0000-00-00|       9|        1|         null|               0|2013-03-03 10:52:53|   null|\n",
            "|karthiga|      59|                 26|   0000-00-00|    0000-00-00|       7|        2|         null|               0|2013-03-10 13:54:51|   null|\n",
            "|karthiga|      74|                 26|   0000-00-00|    0000-00-00|       7|        2|         null|               0|2013-04-27 16:43:35|   null|\n",
            "|karthiga|     120|                 26|   0000-00-00|    0000-00-00|       7|        2|         null|               0|2013-03-03 10:53:57|   null|\n",
            "|karthiga|     178|                 26|   0000-00-00|    0000-00-00|       7|        2|          0.0|               0|2013-03-27 15:59:13|   null|\n",
            "+--------+--------+-------------------+-------------+--------------+--------+---------+-------------+----------------+-------------------+-------+\n",
            "only showing top 5 rows\n",
            "\n"
          ]
        }
      ]
    },
    {
      "cell_type": "code",
      "source": [
        "cols = ['my_watched_episodes', 'my_start_date', 'my_finish_date', 'my_status', 'my_rewatching', \n",
        "        'my_rewatching_ep', 'my_last_updated', 'my_tags']\n",
        "UA_df = UA_df.drop(*cols)"
      ],
      "metadata": {
        "id": "GeoiFwO0axSr"
      },
      "execution_count": 97,
      "outputs": []
    },
    {
      "cell_type": "code",
      "source": [
        "UA_df = UA_df.na.drop()\n",
        "UA_df = UA_df.filter(col('username').isNotNull())"
      ],
      "metadata": {
        "id": "fS9xyT92bKOt"
      },
      "execution_count": 98,
      "outputs": []
    },
    {
      "cell_type": "code",
      "source": [
        "UA_df = UA_df.filter(UA_df.my_score <= 10)"
      ],
      "metadata": {
        "id": "PFQzHrf-bMRn"
      },
      "execution_count": 99,
      "outputs": []
    },
    {
      "cell_type": "code",
      "source": [
        "UA_df = UA_df.filter(UA_df.my_score > 0)"
      ],
      "metadata": {
        "id": "UEJ2Sd2-bS5n"
      },
      "execution_count": 100,
      "outputs": []
    },
    {
      "cell_type": "code",
      "source": [
        "UA_df.show(2)"
      ],
      "metadata": {
        "colab": {
          "base_uri": "https://localhost:8080/"
        },
        "id": "n9KzX8vmeVyk",
        "outputId": "064b09f3-72e9-4afd-e8ed-8782dc327a99"
      },
      "execution_count": 101,
      "outputs": [
        {
          "output_type": "stream",
          "name": "stdout",
          "text": [
            "+--------+--------+--------+\n",
            "|username|anime_id|my_score|\n",
            "+--------+--------+--------+\n",
            "|karthiga|      21|       9|\n",
            "|karthiga|      59|       7|\n",
            "+--------+--------+--------+\n",
            "only showing top 2 rows\n",
            "\n"
          ]
        }
      ]
    },
    {
      "cell_type": "code",
      "source": [
        "UA_df = UA_df.join(user_df, 'username', how='left')"
      ],
      "metadata": {
        "id": "IYOdBIhLbbea"
      },
      "execution_count": 103,
      "outputs": []
    },
    {
      "cell_type": "code",
      "source": [
        "UA_df.show(2)"
      ],
      "metadata": {
        "id": "REMiWcN1bhB-",
        "colab": {
          "base_uri": "https://localhost:8080/"
        },
        "outputId": "ad52ea6c-4c8d-4ff4-db9a-402d3a652d95"
      },
      "execution_count": 104,
      "outputs": [
        {
          "output_type": "stream",
          "name": "stdout",
          "text": [
            "+--------+--------+--------+-------+--------------------+\n",
            "|username|anime_id|my_score|user_id|  user_feats_profile|\n",
            "+--------+--------+--------+-------+--------------------+\n",
            "|karthiga|      21|       9|2255153|[0.0,1.0,3.0,1.0,...|\n",
            "|karthiga|      59|       7|2255153|[0.0,1.0,3.0,1.0,...|\n",
            "+--------+--------+--------+-------+--------------------+\n",
            "only showing top 2 rows\n",
            "\n"
          ]
        }
      ]
    },
    {
      "cell_type": "code",
      "source": [
        "UA_df = UA_df.drop('username')"
      ],
      "metadata": {
        "id": "16oogO-xble7"
      },
      "execution_count": 105,
      "outputs": []
    },
    {
      "cell_type": "code",
      "source": [
        "UA_df = UA_df.join(anime_df, 'anime_id', how='left')"
      ],
      "metadata": {
        "id": "-ToTmxxkbnkj"
      },
      "execution_count": 106,
      "outputs": []
    },
    {
      "cell_type": "code",
      "source": [
        "assembler = VectorAssembler(inputCols=[\"user_feats_profile\", \"item_feats_profile\"], outputCol=\"features\")"
      ],
      "metadata": {
        "id": "LUCbsx5Gbysk"
      },
      "execution_count": 107,
      "outputs": []
    },
    {
      "cell_type": "code",
      "source": [
        "user_anime_df = assembler.transform(UA_df)"
      ],
      "metadata": {
        "id": "Hfo88XMrb471"
      },
      "execution_count": 108,
      "outputs": []
    },
    {
      "cell_type": "code",
      "source": [
        "user_anime_df.show(5)"
      ],
      "metadata": {
        "id": "_r7OPVpeb-A9",
        "colab": {
          "base_uri": "https://localhost:8080/"
        },
        "outputId": "e262fcba-e30c-4955-c6b7-6c72afea8852"
      },
      "execution_count": 109,
      "outputs": [
        {
          "output_type": "stream",
          "name": "stdout",
          "text": [
            "+--------+--------+-------+--------------------+--------------------+--------------------+\n",
            "|anime_id|my_score|user_id|  user_feats_profile|  item_feats_profile|            features|\n",
            "+--------+--------+-------+--------------------+--------------------+--------------------+\n",
            "|      21|       9|2255153|[0.0,1.0,3.0,1.0,...|(6531,[0,5,20,110...|(6541,[1,2,3,6,8,...|\n",
            "|      59|       7|2255153|[0.0,1.0,3.0,1.0,...|(6531,[0,5,19,20,...|(6541,[1,2,3,6,8,...|\n",
            "|      74|       7|2255153|[0.0,1.0,3.0,1.0,...|(6531,[0,5,19,21,...|(6541,[1,2,3,6,8,...|\n",
            "|     120|       7|2255153|[0.0,1.0,3.0,1.0,...|(6531,[0,5,19,20,...|(6541,[1,2,3,6,8,...|\n",
            "|     178|       7|2255153|[0.0,1.0,3.0,1.0,...|(6531,[0,5,19,21,...|(6541,[1,2,3,6,8,...|\n",
            "+--------+--------+-------+--------------------+--------------------+--------------------+\n",
            "only showing top 5 rows\n",
            "\n"
          ]
        }
      ]
    },
    {
      "cell_type": "code",
      "source": [
        "print(\"No of user-anime records: \",user_anime_df.count())"
      ],
      "metadata": {
        "id": "3KJevebGfkIc",
        "colab": {
          "base_uri": "https://localhost:8080/"
        },
        "outputId": "7698bde8-8218-4e1b-c949-3bae662e75b1"
      },
      "execution_count": 110,
      "outputs": [
        {
          "output_type": "stream",
          "name": "stdout",
          "text": [
            "No of user-anime records:  19171950\n"
          ]
        }
      ]
    }
  ]
}